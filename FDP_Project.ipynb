{
 "cells": [
  {
   "cell_type": "code",
   "execution_count": null,
   "metadata": {
    "colab": {
     "base_uri": "https://localhost:8080/",
     "height": 122
    },
    "colab_type": "code",
    "executionInfo": {
     "elapsed": 164374,
     "status": "ok",
     "timestamp": 1575595036038,
     "user": {
      "displayName": "Pranay Kumar",
      "photoUrl": "https://lh3.googleusercontent.com/a-/AAuE7mCd3J-wiaTRAMsTWOz4AF74B4RjDuGp-6w772_RNQ=s64",
      "userId": "17671873586329970946"
     },
     "user_tz": 300
    },
    "id": "QYy7JiY6zNn0",
    "outputId": "2625d1f2-ffd9-470b-ace6-85dfb89f8918"
   },
   "outputs": [],
   "source": []
  },
  {
   "cell_type": "code",
   "execution_count": 1,
   "metadata": {
    "colab": {},
    "colab_type": "code",
    "id": "nqawOGHjt9IM"
   },
   "outputs": [],
   "source": [
    "import datetime, warnings, scipy \n",
    "import pandas as pd\n",
    "import numpy as np\n",
    "import seaborn as sns\n",
    "import matplotlib.pyplot as plt"
   ]
  },
  {
   "cell_type": "code",
   "execution_count": 2,
   "metadata": {
    "colab": {
     "base_uri": "https://localhost:8080/",
     "height": 51
    },
    "colab_type": "code",
    "executionInfo": {
     "elapsed": 177257,
     "status": "ok",
     "timestamp": 1575595048938,
     "user": {
      "displayName": "Pranay Kumar",
      "photoUrl": "https://lh3.googleusercontent.com/a-/AAuE7mCd3J-wiaTRAMsTWOz4AF74B4RjDuGp-6w772_RNQ=s64",
      "userId": "17671873586329970946"
     },
     "user_tz": 300
    },
    "id": "KHegRc8Yt9IQ",
    "outputId": "8f08cca1-cd73-4f23-f82c-bb45184a5dda"
   },
   "outputs": [
    {
     "name": "stderr",
     "output_type": "stream",
     "text": [
      "/var/folders/yb/jvxmk2wx1xs9sr8z2msg6nj80000gn/T/ipykernel_8688/3713853660.py:3: DtypeWarning: Columns (7,8) have mixed types. Specify dtype option on import or set low_memory=False.\n",
      "  flights = pd.read_csv(\"flights.csv\")\n"
     ]
    }
   ],
   "source": [
    "airport = pd.read_csv('airports.csv')\n",
    "airlines = pd.read_csv('airlines.csv')\n",
    "flights = pd.read_csv(\"flights.csv\")"
   ]
  },
  {
   "cell_type": "code",
   "execution_count": 3,
   "metadata": {
    "colab": {
     "base_uri": "https://localhost:8080/",
     "height": 544
    },
    "colab_type": "code",
    "executionInfo": {
     "elapsed": 177247,
     "status": "ok",
     "timestamp": 1575595048939,
     "user": {
      "displayName": "Pranay Kumar",
      "photoUrl": "https://lh3.googleusercontent.com/a-/AAuE7mCd3J-wiaTRAMsTWOz4AF74B4RjDuGp-6w772_RNQ=s64",
      "userId": "17671873586329970946"
     },
     "user_tz": 300
    },
    "id": "lKgVDrOFVTWe",
    "outputId": "aaf743d4-abec-434b-bc98-af06ddf8e53d"
   },
   "outputs": [
    {
     "data": {
      "text/plain": [
       "['YEAR',\n",
       " 'MONTH',\n",
       " 'DAY',\n",
       " 'DAY_OF_WEEK',\n",
       " 'AIRLINE',\n",
       " 'FLIGHT_NUMBER',\n",
       " 'TAIL_NUMBER',\n",
       " 'ORIGIN_AIRPORT',\n",
       " 'DESTINATION_AIRPORT',\n",
       " 'SCHEDULED_DEPARTURE',\n",
       " 'DEPARTURE_TIME',\n",
       " 'DEPARTURE_DELAY',\n",
       " 'TAXI_OUT',\n",
       " 'WHEELS_OFF',\n",
       " 'SCHEDULED_TIME',\n",
       " 'ELAPSED_TIME',\n",
       " 'AIR_TIME',\n",
       " 'DISTANCE',\n",
       " 'WHEELS_ON',\n",
       " 'TAXI_IN',\n",
       " 'SCHEDULED_ARRIVAL',\n",
       " 'ARRIVAL_TIME',\n",
       " 'ARRIVAL_DELAY',\n",
       " 'DIVERTED',\n",
       " 'CANCELLED',\n",
       " 'CANCELLATION_REASON',\n",
       " 'AIR_SYSTEM_DELAY',\n",
       " 'SECURITY_DELAY',\n",
       " 'AIRLINE_DELAY',\n",
       " 'LATE_AIRCRAFT_DELAY',\n",
       " 'WEATHER_DELAY']"
      ]
     },
     "execution_count": 3,
     "metadata": {},
     "output_type": "execute_result"
    }
   ],
   "source": [
    "list(flights.columns) "
   ]
  },
  {
   "cell_type": "code",
   "execution_count": 4,
   "metadata": {
    "colab": {
     "base_uri": "https://localhost:8080/",
     "height": 629
    },
    "colab_type": "code",
    "executionInfo": {
     "elapsed": 177803,
     "status": "ok",
     "timestamp": 1575595049511,
     "user": {
      "displayName": "Pranay Kumar",
      "photoUrl": "https://lh3.googleusercontent.com/a-/AAuE7mCd3J-wiaTRAMsTWOz4AF74B4RjDuGp-6w772_RNQ=s64",
      "userId": "17671873586329970946"
     },
     "user_tz": 300
    },
    "id": "qBbd_9vxt9IU",
    "outputId": "14060fb0-364d-445d-83e6-fb645872bd20"
   },
   "outputs": [
    {
     "name": "stdout",
     "output_type": "stream",
     "text": [
      "<class 'pandas.core.frame.DataFrame'>\n",
      "RangeIndex: 5819079 entries, 0 to 5819078\n",
      "Data columns (total 31 columns):\n",
      " #   Column               Dtype  \n",
      "---  ------               -----  \n",
      " 0   YEAR                 int64  \n",
      " 1   MONTH                int64  \n",
      " 2   DAY                  int64  \n",
      " 3   DAY_OF_WEEK          int64  \n",
      " 4   AIRLINE              object \n",
      " 5   FLIGHT_NUMBER        int64  \n",
      " 6   TAIL_NUMBER          object \n",
      " 7   ORIGIN_AIRPORT       object \n",
      " 8   DESTINATION_AIRPORT  object \n",
      " 9   SCHEDULED_DEPARTURE  int64  \n",
      " 10  DEPARTURE_TIME       float64\n",
      " 11  DEPARTURE_DELAY      float64\n",
      " 12  TAXI_OUT             float64\n",
      " 13  WHEELS_OFF           float64\n",
      " 14  SCHEDULED_TIME       float64\n",
      " 15  ELAPSED_TIME         float64\n",
      " 16  AIR_TIME             float64\n",
      " 17  DISTANCE             int64  \n",
      " 18  WHEELS_ON            float64\n",
      " 19  TAXI_IN              float64\n",
      " 20  SCHEDULED_ARRIVAL    int64  \n",
      " 21  ARRIVAL_TIME         float64\n",
      " 22  ARRIVAL_DELAY        float64\n",
      " 23  DIVERTED             int64  \n",
      " 24  CANCELLED            int64  \n",
      " 25  CANCELLATION_REASON  object \n",
      " 26  AIR_SYSTEM_DELAY     float64\n",
      " 27  SECURITY_DELAY       float64\n",
      " 28  AIRLINE_DELAY        float64\n",
      " 29  LATE_AIRCRAFT_DELAY  float64\n",
      " 30  WEATHER_DELAY        float64\n",
      "dtypes: float64(16), int64(10), object(5)\n",
      "memory usage: 1.3+ GB\n"
     ]
    }
   ],
   "source": [
    "flights.info()"
   ]
  },
  {
   "cell_type": "code",
   "execution_count": 5,
   "metadata": {
    "colab": {
     "base_uri": "https://localhost:8080/",
     "height": 34
    },
    "colab_type": "code",
    "executionInfo": {
     "elapsed": 177792,
     "status": "ok",
     "timestamp": 1575595049512,
     "user": {
      "displayName": "Pranay Kumar",
      "photoUrl": "https://lh3.googleusercontent.com/a-/AAuE7mCd3J-wiaTRAMsTWOz4AF74B4RjDuGp-6w772_RNQ=s64",
      "userId": "17671873586329970946"
     },
     "user_tz": 300
    },
    "id": "auLLi0qtt9IW",
    "outputId": "288f02c5-9df9-442c-d71e-41170be2d20d"
   },
   "outputs": [
    {
     "data": {
      "text/plain": [
       "(5819079, 31)"
      ]
     },
     "execution_count": 5,
     "metadata": {},
     "output_type": "execute_result"
    }
   ],
   "source": [
    "flights.shape"
   ]
  },
  {
   "cell_type": "code",
   "execution_count": 6,
   "metadata": {},
   "outputs": [],
   "source": [
    "flights = flights.iloc[:1000000]"
   ]
  },
  {
   "cell_type": "code",
   "execution_count": 7,
   "metadata": {
    "colab": {
     "base_uri": "https://localhost:8080/",
     "height": 317
    },
    "colab_type": "code",
    "executionInfo": {
     "elapsed": 182429,
     "status": "ok",
     "timestamp": 1575595054161,
     "user": {
      "displayName": "Pranay Kumar",
      "photoUrl": "https://lh3.googleusercontent.com/a-/AAuE7mCd3J-wiaTRAMsTWOz4AF74B4RjDuGp-6w772_RNQ=s64",
      "userId": "17671873586329970946"
     },
     "user_tz": 300
    },
    "id": "JLaNMHECt9IY",
    "outputId": "b6f5db70-422e-44a7-b042-09090c82e483"
   },
   "outputs": [
    {
     "data": {
      "text/html": [
       "<div>\n",
       "<style scoped>\n",
       "    .dataframe tbody tr th:only-of-type {\n",
       "        vertical-align: middle;\n",
       "    }\n",
       "\n",
       "    .dataframe tbody tr th {\n",
       "        vertical-align: top;\n",
       "    }\n",
       "\n",
       "    .dataframe thead th {\n",
       "        text-align: right;\n",
       "    }\n",
       "</style>\n",
       "<table border=\"1\" class=\"dataframe\">\n",
       "  <thead>\n",
       "    <tr style=\"text-align: right;\">\n",
       "      <th></th>\n",
       "      <th>YEAR</th>\n",
       "      <th>MONTH</th>\n",
       "      <th>DAY</th>\n",
       "      <th>DAY_OF_WEEK</th>\n",
       "      <th>FLIGHT_NUMBER</th>\n",
       "      <th>SCHEDULED_DEPARTURE</th>\n",
       "      <th>DEPARTURE_TIME</th>\n",
       "      <th>DEPARTURE_DELAY</th>\n",
       "      <th>TAXI_OUT</th>\n",
       "      <th>WHEELS_OFF</th>\n",
       "      <th>...</th>\n",
       "      <th>SCHEDULED_ARRIVAL</th>\n",
       "      <th>ARRIVAL_TIME</th>\n",
       "      <th>ARRIVAL_DELAY</th>\n",
       "      <th>DIVERTED</th>\n",
       "      <th>CANCELLED</th>\n",
       "      <th>AIR_SYSTEM_DELAY</th>\n",
       "      <th>SECURITY_DELAY</th>\n",
       "      <th>AIRLINE_DELAY</th>\n",
       "      <th>LATE_AIRCRAFT_DELAY</th>\n",
       "      <th>WEATHER_DELAY</th>\n",
       "    </tr>\n",
       "  </thead>\n",
       "  <tbody>\n",
       "    <tr>\n",
       "      <th>count</th>\n",
       "      <td>1000000.0</td>\n",
       "      <td>1000000.000000</td>\n",
       "      <td>1000000.000000</td>\n",
       "      <td>1000000.000000</td>\n",
       "      <td>1000000.000000</td>\n",
       "      <td>1000000.000000</td>\n",
       "      <td>960842.000000</td>\n",
       "      <td>960842.000000</td>\n",
       "      <td>960145.000000</td>\n",
       "      <td>960145.000000</td>\n",
       "      <td>...</td>\n",
       "      <td>1000000.000000</td>\n",
       "      <td>959117.000000</td>\n",
       "      <td>957394.000000</td>\n",
       "      <td>1000000.000000</td>\n",
       "      <td>1000000.000000</td>\n",
       "      <td>221041.000000</td>\n",
       "      <td>221041.000000</td>\n",
       "      <td>221041.000000</td>\n",
       "      <td>221041.000000</td>\n",
       "      <td>221041.000000</td>\n",
       "    </tr>\n",
       "    <tr>\n",
       "      <th>mean</th>\n",
       "      <td>2015.0</td>\n",
       "      <td>1.630873</td>\n",
       "      <td>14.087290</td>\n",
       "      <td>3.942253</td>\n",
       "      <td>2259.305292</td>\n",
       "      <td>1322.605368</td>\n",
       "      <td>1333.892931</td>\n",
       "      <td>11.525092</td>\n",
       "      <td>16.735891</td>\n",
       "      <td>1357.706468</td>\n",
       "      <td>...</td>\n",
       "      <td>1505.500062</td>\n",
       "      <td>1492.772831</td>\n",
       "      <td>7.904573</td>\n",
       "      <td>0.002474</td>\n",
       "      <td>0.040132</td>\n",
       "      <td>13.879651</td>\n",
       "      <td>0.057921</td>\n",
       "      <td>18.040721</td>\n",
       "      <td>22.955108</td>\n",
       "      <td>3.631589</td>\n",
       "    </tr>\n",
       "    <tr>\n",
       "      <th>std</th>\n",
       "      <td>0.0</td>\n",
       "      <td>0.659208</td>\n",
       "      <td>8.846599</td>\n",
       "      <td>1.957458</td>\n",
       "      <td>1799.970834</td>\n",
       "      <td>470.183312</td>\n",
       "      <td>482.295869</td>\n",
       "      <td>39.451588</td>\n",
       "      <td>10.204402</td>\n",
       "      <td>482.567175</td>\n",
       "      <td>...</td>\n",
       "      <td>485.664098</td>\n",
       "      <td>506.662151</td>\n",
       "      <td>42.383991</td>\n",
       "      <td>0.049678</td>\n",
       "      <td>0.196269</td>\n",
       "      <td>25.747212</td>\n",
       "      <td>1.803159</td>\n",
       "      <td>46.037156</td>\n",
       "      <td>41.895492</td>\n",
       "      <td>23.792253</td>\n",
       "    </tr>\n",
       "    <tr>\n",
       "      <th>min</th>\n",
       "      <td>2015.0</td>\n",
       "      <td>1.000000</td>\n",
       "      <td>1.000000</td>\n",
       "      <td>1.000000</td>\n",
       "      <td>1.000000</td>\n",
       "      <td>5.000000</td>\n",
       "      <td>1.000000</td>\n",
       "      <td>-61.000000</td>\n",
       "      <td>1.000000</td>\n",
       "      <td>1.000000</td>\n",
       "      <td>...</td>\n",
       "      <td>1.000000</td>\n",
       "      <td>1.000000</td>\n",
       "      <td>-82.000000</td>\n",
       "      <td>0.000000</td>\n",
       "      <td>0.000000</td>\n",
       "      <td>0.000000</td>\n",
       "      <td>0.000000</td>\n",
       "      <td>0.000000</td>\n",
       "      <td>0.000000</td>\n",
       "      <td>0.000000</td>\n",
       "    </tr>\n",
       "    <tr>\n",
       "      <th>25%</th>\n",
       "      <td>2015.0</td>\n",
       "      <td>1.000000</td>\n",
       "      <td>6.000000</td>\n",
       "      <td>2.000000</td>\n",
       "      <td>756.000000</td>\n",
       "      <td>920.000000</td>\n",
       "      <td>929.000000</td>\n",
       "      <td>-5.000000</td>\n",
       "      <td>11.000000</td>\n",
       "      <td>944.000000</td>\n",
       "      <td>...</td>\n",
       "      <td>1121.000000</td>\n",
       "      <td>1116.000000</td>\n",
       "      <td>-12.000000</td>\n",
       "      <td>0.000000</td>\n",
       "      <td>0.000000</td>\n",
       "      <td>0.000000</td>\n",
       "      <td>0.000000</td>\n",
       "      <td>0.000000</td>\n",
       "      <td>0.000000</td>\n",
       "      <td>0.000000</td>\n",
       "    </tr>\n",
       "    <tr>\n",
       "      <th>50%</th>\n",
       "      <td>2015.0</td>\n",
       "      <td>2.000000</td>\n",
       "      <td>14.000000</td>\n",
       "      <td>4.000000</td>\n",
       "      <td>1727.000000</td>\n",
       "      <td>1320.000000</td>\n",
       "      <td>1329.000000</td>\n",
       "      <td>-1.000000</td>\n",
       "      <td>14.000000</td>\n",
       "      <td>1343.000000</td>\n",
       "      <td>...</td>\n",
       "      <td>1525.000000</td>\n",
       "      <td>1522.000000</td>\n",
       "      <td>-3.000000</td>\n",
       "      <td>0.000000</td>\n",
       "      <td>0.000000</td>\n",
       "      <td>4.000000</td>\n",
       "      <td>0.000000</td>\n",
       "      <td>2.000000</td>\n",
       "      <td>4.000000</td>\n",
       "      <td>0.000000</td>\n",
       "    </tr>\n",
       "    <tr>\n",
       "      <th>75%</th>\n",
       "      <td>2015.0</td>\n",
       "      <td>2.000000</td>\n",
       "      <td>22.000000</td>\n",
       "      <td>6.000000</td>\n",
       "      <td>3488.000000</td>\n",
       "      <td>1720.000000</td>\n",
       "      <td>1731.000000</td>\n",
       "      <td>11.000000</td>\n",
       "      <td>19.000000</td>\n",
       "      <td>1745.000000</td>\n",
       "      <td>...</td>\n",
       "      <td>1915.000000</td>\n",
       "      <td>1917.000000</td>\n",
       "      <td>12.000000</td>\n",
       "      <td>0.000000</td>\n",
       "      <td>0.000000</td>\n",
       "      <td>19.000000</td>\n",
       "      <td>0.000000</td>\n",
       "      <td>18.000000</td>\n",
       "      <td>29.000000</td>\n",
       "      <td>0.000000</td>\n",
       "    </tr>\n",
       "    <tr>\n",
       "      <th>max</th>\n",
       "      <td>2015.0</td>\n",
       "      <td>3.000000</td>\n",
       "      <td>31.000000</td>\n",
       "      <td>7.000000</td>\n",
       "      <td>9794.000000</td>\n",
       "      <td>2359.000000</td>\n",
       "      <td>2400.000000</td>\n",
       "      <td>1988.000000</td>\n",
       "      <td>225.000000</td>\n",
       "      <td>2400.000000</td>\n",
       "      <td>...</td>\n",
       "      <td>2359.000000</td>\n",
       "      <td>2400.000000</td>\n",
       "      <td>1971.000000</td>\n",
       "      <td>1.000000</td>\n",
       "      <td>1.000000</td>\n",
       "      <td>830.000000</td>\n",
       "      <td>241.000000</td>\n",
       "      <td>1971.000000</td>\n",
       "      <td>1313.000000</td>\n",
       "      <td>1152.000000</td>\n",
       "    </tr>\n",
       "  </tbody>\n",
       "</table>\n",
       "<p>8 rows × 26 columns</p>\n",
       "</div>"
      ],
      "text/plain": [
       "            YEAR           MONTH             DAY     DAY_OF_WEEK  \\\n",
       "count  1000000.0  1000000.000000  1000000.000000  1000000.000000   \n",
       "mean      2015.0        1.630873       14.087290        3.942253   \n",
       "std          0.0        0.659208        8.846599        1.957458   \n",
       "min       2015.0        1.000000        1.000000        1.000000   \n",
       "25%       2015.0        1.000000        6.000000        2.000000   \n",
       "50%       2015.0        2.000000       14.000000        4.000000   \n",
       "75%       2015.0        2.000000       22.000000        6.000000   \n",
       "max       2015.0        3.000000       31.000000        7.000000   \n",
       "\n",
       "        FLIGHT_NUMBER  SCHEDULED_DEPARTURE  DEPARTURE_TIME  DEPARTURE_DELAY  \\\n",
       "count  1000000.000000       1000000.000000   960842.000000    960842.000000   \n",
       "mean      2259.305292          1322.605368     1333.892931        11.525092   \n",
       "std       1799.970834           470.183312      482.295869        39.451588   \n",
       "min          1.000000             5.000000        1.000000       -61.000000   \n",
       "25%        756.000000           920.000000      929.000000        -5.000000   \n",
       "50%       1727.000000          1320.000000     1329.000000        -1.000000   \n",
       "75%       3488.000000          1720.000000     1731.000000        11.000000   \n",
       "max       9794.000000          2359.000000     2400.000000      1988.000000   \n",
       "\n",
       "            TAXI_OUT     WHEELS_OFF  ...  SCHEDULED_ARRIVAL   ARRIVAL_TIME  \\\n",
       "count  960145.000000  960145.000000  ...     1000000.000000  959117.000000   \n",
       "mean       16.735891    1357.706468  ...        1505.500062    1492.772831   \n",
       "std        10.204402     482.567175  ...         485.664098     506.662151   \n",
       "min         1.000000       1.000000  ...           1.000000       1.000000   \n",
       "25%        11.000000     944.000000  ...        1121.000000    1116.000000   \n",
       "50%        14.000000    1343.000000  ...        1525.000000    1522.000000   \n",
       "75%        19.000000    1745.000000  ...        1915.000000    1917.000000   \n",
       "max       225.000000    2400.000000  ...        2359.000000    2400.000000   \n",
       "\n",
       "       ARRIVAL_DELAY        DIVERTED       CANCELLED  AIR_SYSTEM_DELAY  \\\n",
       "count  957394.000000  1000000.000000  1000000.000000     221041.000000   \n",
       "mean        7.904573        0.002474        0.040132         13.879651   \n",
       "std        42.383991        0.049678        0.196269         25.747212   \n",
       "min       -82.000000        0.000000        0.000000          0.000000   \n",
       "25%       -12.000000        0.000000        0.000000          0.000000   \n",
       "50%        -3.000000        0.000000        0.000000          4.000000   \n",
       "75%        12.000000        0.000000        0.000000         19.000000   \n",
       "max      1971.000000        1.000000        1.000000        830.000000   \n",
       "\n",
       "       SECURITY_DELAY  AIRLINE_DELAY  LATE_AIRCRAFT_DELAY  WEATHER_DELAY  \n",
       "count   221041.000000  221041.000000        221041.000000  221041.000000  \n",
       "mean         0.057921      18.040721            22.955108       3.631589  \n",
       "std          1.803159      46.037156            41.895492      23.792253  \n",
       "min          0.000000       0.000000             0.000000       0.000000  \n",
       "25%          0.000000       0.000000             0.000000       0.000000  \n",
       "50%          0.000000       2.000000             4.000000       0.000000  \n",
       "75%          0.000000      18.000000            29.000000       0.000000  \n",
       "max        241.000000    1971.000000          1313.000000    1152.000000  \n",
       "\n",
       "[8 rows x 26 columns]"
      ]
     },
     "execution_count": 7,
     "metadata": {},
     "output_type": "execute_result"
    }
   ],
   "source": [
    "flights.describe()"
   ]
  },
  {
   "cell_type": "code",
   "execution_count": 8,
   "metadata": {
    "colab": {
     "base_uri": "https://localhost:8080/",
     "height": 224
    },
    "colab_type": "code",
    "executionInfo": {
     "elapsed": 182417,
     "status": "ok",
     "timestamp": 1575595054161,
     "user": {
      "displayName": "Pranay Kumar",
      "photoUrl": "https://lh3.googleusercontent.com/a-/AAuE7mCd3J-wiaTRAMsTWOz4AF74B4RjDuGp-6w772_RNQ=s64",
      "userId": "17671873586329970946"
     },
     "user_tz": 300
    },
    "id": "skjTAQqFt9Ia",
    "outputId": "fda108f6-5a6b-4505-d374-e61d559508f6"
   },
   "outputs": [
    {
     "data": {
      "text/html": [
       "<div>\n",
       "<style scoped>\n",
       "    .dataframe tbody tr th:only-of-type {\n",
       "        vertical-align: middle;\n",
       "    }\n",
       "\n",
       "    .dataframe tbody tr th {\n",
       "        vertical-align: top;\n",
       "    }\n",
       "\n",
       "    .dataframe thead th {\n",
       "        text-align: right;\n",
       "    }\n",
       "</style>\n",
       "<table border=\"1\" class=\"dataframe\">\n",
       "  <thead>\n",
       "    <tr style=\"text-align: right;\">\n",
       "      <th></th>\n",
       "      <th>YEAR</th>\n",
       "      <th>MONTH</th>\n",
       "      <th>DAY</th>\n",
       "      <th>DAY_OF_WEEK</th>\n",
       "      <th>AIRLINE</th>\n",
       "      <th>FLIGHT_NUMBER</th>\n",
       "      <th>TAIL_NUMBER</th>\n",
       "      <th>ORIGIN_AIRPORT</th>\n",
       "      <th>DESTINATION_AIRPORT</th>\n",
       "      <th>SCHEDULED_DEPARTURE</th>\n",
       "      <th>...</th>\n",
       "      <th>ARRIVAL_TIME</th>\n",
       "      <th>ARRIVAL_DELAY</th>\n",
       "      <th>DIVERTED</th>\n",
       "      <th>CANCELLED</th>\n",
       "      <th>CANCELLATION_REASON</th>\n",
       "      <th>AIR_SYSTEM_DELAY</th>\n",
       "      <th>SECURITY_DELAY</th>\n",
       "      <th>AIRLINE_DELAY</th>\n",
       "      <th>LATE_AIRCRAFT_DELAY</th>\n",
       "      <th>WEATHER_DELAY</th>\n",
       "    </tr>\n",
       "  </thead>\n",
       "  <tbody>\n",
       "    <tr>\n",
       "      <th>0</th>\n",
       "      <td>2015</td>\n",
       "      <td>1</td>\n",
       "      <td>1</td>\n",
       "      <td>4</td>\n",
       "      <td>AS</td>\n",
       "      <td>98</td>\n",
       "      <td>N407AS</td>\n",
       "      <td>ANC</td>\n",
       "      <td>SEA</td>\n",
       "      <td>5</td>\n",
       "      <td>...</td>\n",
       "      <td>408.0</td>\n",
       "      <td>-22.0</td>\n",
       "      <td>0</td>\n",
       "      <td>0</td>\n",
       "      <td>NaN</td>\n",
       "      <td>NaN</td>\n",
       "      <td>NaN</td>\n",
       "      <td>NaN</td>\n",
       "      <td>NaN</td>\n",
       "      <td>NaN</td>\n",
       "    </tr>\n",
       "    <tr>\n",
       "      <th>1</th>\n",
       "      <td>2015</td>\n",
       "      <td>1</td>\n",
       "      <td>1</td>\n",
       "      <td>4</td>\n",
       "      <td>AA</td>\n",
       "      <td>2336</td>\n",
       "      <td>N3KUAA</td>\n",
       "      <td>LAX</td>\n",
       "      <td>PBI</td>\n",
       "      <td>10</td>\n",
       "      <td>...</td>\n",
       "      <td>741.0</td>\n",
       "      <td>-9.0</td>\n",
       "      <td>0</td>\n",
       "      <td>0</td>\n",
       "      <td>NaN</td>\n",
       "      <td>NaN</td>\n",
       "      <td>NaN</td>\n",
       "      <td>NaN</td>\n",
       "      <td>NaN</td>\n",
       "      <td>NaN</td>\n",
       "    </tr>\n",
       "    <tr>\n",
       "      <th>2</th>\n",
       "      <td>2015</td>\n",
       "      <td>1</td>\n",
       "      <td>1</td>\n",
       "      <td>4</td>\n",
       "      <td>US</td>\n",
       "      <td>840</td>\n",
       "      <td>N171US</td>\n",
       "      <td>SFO</td>\n",
       "      <td>CLT</td>\n",
       "      <td>20</td>\n",
       "      <td>...</td>\n",
       "      <td>811.0</td>\n",
       "      <td>5.0</td>\n",
       "      <td>0</td>\n",
       "      <td>0</td>\n",
       "      <td>NaN</td>\n",
       "      <td>NaN</td>\n",
       "      <td>NaN</td>\n",
       "      <td>NaN</td>\n",
       "      <td>NaN</td>\n",
       "      <td>NaN</td>\n",
       "    </tr>\n",
       "    <tr>\n",
       "      <th>3</th>\n",
       "      <td>2015</td>\n",
       "      <td>1</td>\n",
       "      <td>1</td>\n",
       "      <td>4</td>\n",
       "      <td>AA</td>\n",
       "      <td>258</td>\n",
       "      <td>N3HYAA</td>\n",
       "      <td>LAX</td>\n",
       "      <td>MIA</td>\n",
       "      <td>20</td>\n",
       "      <td>...</td>\n",
       "      <td>756.0</td>\n",
       "      <td>-9.0</td>\n",
       "      <td>0</td>\n",
       "      <td>0</td>\n",
       "      <td>NaN</td>\n",
       "      <td>NaN</td>\n",
       "      <td>NaN</td>\n",
       "      <td>NaN</td>\n",
       "      <td>NaN</td>\n",
       "      <td>NaN</td>\n",
       "    </tr>\n",
       "    <tr>\n",
       "      <th>4</th>\n",
       "      <td>2015</td>\n",
       "      <td>1</td>\n",
       "      <td>1</td>\n",
       "      <td>4</td>\n",
       "      <td>AS</td>\n",
       "      <td>135</td>\n",
       "      <td>N527AS</td>\n",
       "      <td>SEA</td>\n",
       "      <td>ANC</td>\n",
       "      <td>25</td>\n",
       "      <td>...</td>\n",
       "      <td>259.0</td>\n",
       "      <td>-21.0</td>\n",
       "      <td>0</td>\n",
       "      <td>0</td>\n",
       "      <td>NaN</td>\n",
       "      <td>NaN</td>\n",
       "      <td>NaN</td>\n",
       "      <td>NaN</td>\n",
       "      <td>NaN</td>\n",
       "      <td>NaN</td>\n",
       "    </tr>\n",
       "  </tbody>\n",
       "</table>\n",
       "<p>5 rows × 31 columns</p>\n",
       "</div>"
      ],
      "text/plain": [
       "   YEAR  MONTH  DAY  DAY_OF_WEEK AIRLINE  FLIGHT_NUMBER TAIL_NUMBER  \\\n",
       "0  2015      1    1            4      AS             98      N407AS   \n",
       "1  2015      1    1            4      AA           2336      N3KUAA   \n",
       "2  2015      1    1            4      US            840      N171US   \n",
       "3  2015      1    1            4      AA            258      N3HYAA   \n",
       "4  2015      1    1            4      AS            135      N527AS   \n",
       "\n",
       "  ORIGIN_AIRPORT DESTINATION_AIRPORT  SCHEDULED_DEPARTURE  ...  ARRIVAL_TIME  \\\n",
       "0            ANC                 SEA                    5  ...         408.0   \n",
       "1            LAX                 PBI                   10  ...         741.0   \n",
       "2            SFO                 CLT                   20  ...         811.0   \n",
       "3            LAX                 MIA                   20  ...         756.0   \n",
       "4            SEA                 ANC                   25  ...         259.0   \n",
       "\n",
       "   ARRIVAL_DELAY  DIVERTED  CANCELLED  CANCELLATION_REASON  AIR_SYSTEM_DELAY  \\\n",
       "0          -22.0         0          0                  NaN               NaN   \n",
       "1           -9.0         0          0                  NaN               NaN   \n",
       "2            5.0         0          0                  NaN               NaN   \n",
       "3           -9.0         0          0                  NaN               NaN   \n",
       "4          -21.0         0          0                  NaN               NaN   \n",
       "\n",
       "   SECURITY_DELAY  AIRLINE_DELAY  LATE_AIRCRAFT_DELAY  WEATHER_DELAY  \n",
       "0             NaN            NaN                  NaN            NaN  \n",
       "1             NaN            NaN                  NaN            NaN  \n",
       "2             NaN            NaN                  NaN            NaN  \n",
       "3             NaN            NaN                  NaN            NaN  \n",
       "4             NaN            NaN                  NaN            NaN  \n",
       "\n",
       "[5 rows x 31 columns]"
      ]
     },
     "execution_count": 8,
     "metadata": {},
     "output_type": "execute_result"
    }
   ],
   "source": [
    "flights.head()"
   ]
  },
  {
   "cell_type": "code",
   "execution_count": 9,
   "metadata": {
    "colab": {
     "base_uri": "https://localhost:8080/",
     "height": 439
    },
    "colab_type": "code",
    "executionInfo": {
     "elapsed": 182406,
     "status": "ok",
     "timestamp": 1575595054162,
     "user": {
      "displayName": "Pranay Kumar",
      "photoUrl": "https://lh3.googleusercontent.com/a-/AAuE7mCd3J-wiaTRAMsTWOz4AF74B4RjDuGp-6w772_RNQ=s64",
      "userId": "17671873586329970946"
     },
     "user_tz": 300
    },
    "id": "LE4gcKjut9Id",
    "outputId": "658d7002-beb8-45f2-f99d-19b305bbf86c",
    "scrolled": false
   },
   "outputs": [
    {
     "data": {
      "text/html": [
       "<div>\n",
       "<style scoped>\n",
       "    .dataframe tbody tr th:only-of-type {\n",
       "        vertical-align: middle;\n",
       "    }\n",
       "\n",
       "    .dataframe tbody tr th {\n",
       "        vertical-align: top;\n",
       "    }\n",
       "\n",
       "    .dataframe thead th {\n",
       "        text-align: right;\n",
       "    }\n",
       "</style>\n",
       "<table border=\"1\" class=\"dataframe\">\n",
       "  <thead>\n",
       "    <tr style=\"text-align: right;\">\n",
       "      <th></th>\n",
       "      <th>YEAR</th>\n",
       "      <th>MONTH</th>\n",
       "      <th>DAY</th>\n",
       "      <th>DAY_OF_WEEK</th>\n",
       "      <th>AIRLINE</th>\n",
       "      <th>FLIGHT_NUMBER</th>\n",
       "      <th>TAIL_NUMBER</th>\n",
       "      <th>ORIGIN_AIRPORT</th>\n",
       "      <th>DESTINATION_AIRPORT</th>\n",
       "      <th>SCHEDULED_DEPARTURE</th>\n",
       "      <th>...</th>\n",
       "      <th>ARRIVAL_TIME</th>\n",
       "      <th>ARRIVAL_DELAY</th>\n",
       "      <th>DIVERTED</th>\n",
       "      <th>CANCELLED</th>\n",
       "      <th>CANCELLATION_REASON</th>\n",
       "      <th>AIR_SYSTEM_DELAY</th>\n",
       "      <th>SECURITY_DELAY</th>\n",
       "      <th>AIRLINE_DELAY</th>\n",
       "      <th>LATE_AIRCRAFT_DELAY</th>\n",
       "      <th>WEATHER_DELAY</th>\n",
       "    </tr>\n",
       "  </thead>\n",
       "  <tbody>\n",
       "    <tr>\n",
       "      <th>0</th>\n",
       "      <td>2015</td>\n",
       "      <td>1</td>\n",
       "      <td>1</td>\n",
       "      <td>4</td>\n",
       "      <td>AS</td>\n",
       "      <td>98</td>\n",
       "      <td>N407AS</td>\n",
       "      <td>ANC</td>\n",
       "      <td>SEA</td>\n",
       "      <td>5</td>\n",
       "      <td>...</td>\n",
       "      <td>408.0</td>\n",
       "      <td>-22.0</td>\n",
       "      <td>0</td>\n",
       "      <td>0</td>\n",
       "      <td>NaN</td>\n",
       "      <td>NaN</td>\n",
       "      <td>NaN</td>\n",
       "      <td>NaN</td>\n",
       "      <td>NaN</td>\n",
       "      <td>NaN</td>\n",
       "    </tr>\n",
       "    <tr>\n",
       "      <th>1</th>\n",
       "      <td>2015</td>\n",
       "      <td>1</td>\n",
       "      <td>1</td>\n",
       "      <td>4</td>\n",
       "      <td>AA</td>\n",
       "      <td>2336</td>\n",
       "      <td>N3KUAA</td>\n",
       "      <td>LAX</td>\n",
       "      <td>PBI</td>\n",
       "      <td>10</td>\n",
       "      <td>...</td>\n",
       "      <td>741.0</td>\n",
       "      <td>-9.0</td>\n",
       "      <td>0</td>\n",
       "      <td>0</td>\n",
       "      <td>NaN</td>\n",
       "      <td>NaN</td>\n",
       "      <td>NaN</td>\n",
       "      <td>NaN</td>\n",
       "      <td>NaN</td>\n",
       "      <td>NaN</td>\n",
       "    </tr>\n",
       "    <tr>\n",
       "      <th>2</th>\n",
       "      <td>2015</td>\n",
       "      <td>1</td>\n",
       "      <td>1</td>\n",
       "      <td>4</td>\n",
       "      <td>US</td>\n",
       "      <td>840</td>\n",
       "      <td>N171US</td>\n",
       "      <td>SFO</td>\n",
       "      <td>CLT</td>\n",
       "      <td>20</td>\n",
       "      <td>...</td>\n",
       "      <td>811.0</td>\n",
       "      <td>5.0</td>\n",
       "      <td>0</td>\n",
       "      <td>0</td>\n",
       "      <td>NaN</td>\n",
       "      <td>NaN</td>\n",
       "      <td>NaN</td>\n",
       "      <td>NaN</td>\n",
       "      <td>NaN</td>\n",
       "      <td>NaN</td>\n",
       "    </tr>\n",
       "    <tr>\n",
       "      <th>3</th>\n",
       "      <td>2015</td>\n",
       "      <td>1</td>\n",
       "      <td>1</td>\n",
       "      <td>4</td>\n",
       "      <td>AA</td>\n",
       "      <td>258</td>\n",
       "      <td>N3HYAA</td>\n",
       "      <td>LAX</td>\n",
       "      <td>MIA</td>\n",
       "      <td>20</td>\n",
       "      <td>...</td>\n",
       "      <td>756.0</td>\n",
       "      <td>-9.0</td>\n",
       "      <td>0</td>\n",
       "      <td>0</td>\n",
       "      <td>NaN</td>\n",
       "      <td>NaN</td>\n",
       "      <td>NaN</td>\n",
       "      <td>NaN</td>\n",
       "      <td>NaN</td>\n",
       "      <td>NaN</td>\n",
       "    </tr>\n",
       "    <tr>\n",
       "      <th>4</th>\n",
       "      <td>2015</td>\n",
       "      <td>1</td>\n",
       "      <td>1</td>\n",
       "      <td>4</td>\n",
       "      <td>AS</td>\n",
       "      <td>135</td>\n",
       "      <td>N527AS</td>\n",
       "      <td>SEA</td>\n",
       "      <td>ANC</td>\n",
       "      <td>25</td>\n",
       "      <td>...</td>\n",
       "      <td>259.0</td>\n",
       "      <td>-21.0</td>\n",
       "      <td>0</td>\n",
       "      <td>0</td>\n",
       "      <td>NaN</td>\n",
       "      <td>NaN</td>\n",
       "      <td>NaN</td>\n",
       "      <td>NaN</td>\n",
       "      <td>NaN</td>\n",
       "      <td>NaN</td>\n",
       "    </tr>\n",
       "    <tr>\n",
       "      <th>...</th>\n",
       "      <td>...</td>\n",
       "      <td>...</td>\n",
       "      <td>...</td>\n",
       "      <td>...</td>\n",
       "      <td>...</td>\n",
       "      <td>...</td>\n",
       "      <td>...</td>\n",
       "      <td>...</td>\n",
       "      <td>...</td>\n",
       "      <td>...</td>\n",
       "      <td>...</td>\n",
       "      <td>...</td>\n",
       "      <td>...</td>\n",
       "      <td>...</td>\n",
       "      <td>...</td>\n",
       "      <td>...</td>\n",
       "      <td>...</td>\n",
       "      <td>...</td>\n",
       "      <td>...</td>\n",
       "      <td>...</td>\n",
       "      <td>...</td>\n",
       "    </tr>\n",
       "    <tr>\n",
       "      <th>999995</th>\n",
       "      <td>2015</td>\n",
       "      <td>3</td>\n",
       "      <td>7</td>\n",
       "      <td>6</td>\n",
       "      <td>OO</td>\n",
       "      <td>6396</td>\n",
       "      <td>N114SY</td>\n",
       "      <td>BOI</td>\n",
       "      <td>SFO</td>\n",
       "      <td>915</td>\n",
       "      <td>...</td>\n",
       "      <td>957.0</td>\n",
       "      <td>-16.0</td>\n",
       "      <td>0</td>\n",
       "      <td>0</td>\n",
       "      <td>NaN</td>\n",
       "      <td>NaN</td>\n",
       "      <td>NaN</td>\n",
       "      <td>NaN</td>\n",
       "      <td>NaN</td>\n",
       "      <td>NaN</td>\n",
       "    </tr>\n",
       "    <tr>\n",
       "      <th>999996</th>\n",
       "      <td>2015</td>\n",
       "      <td>3</td>\n",
       "      <td>7</td>\n",
       "      <td>6</td>\n",
       "      <td>AA</td>\n",
       "      <td>334</td>\n",
       "      <td>N566AA</td>\n",
       "      <td>DFW</td>\n",
       "      <td>MFE</td>\n",
       "      <td>916</td>\n",
       "      <td>...</td>\n",
       "      <td>1042.0</td>\n",
       "      <td>-8.0</td>\n",
       "      <td>0</td>\n",
       "      <td>0</td>\n",
       "      <td>NaN</td>\n",
       "      <td>NaN</td>\n",
       "      <td>NaN</td>\n",
       "      <td>NaN</td>\n",
       "      <td>NaN</td>\n",
       "      <td>NaN</td>\n",
       "    </tr>\n",
       "    <tr>\n",
       "      <th>999997</th>\n",
       "      <td>2015</td>\n",
       "      <td>3</td>\n",
       "      <td>7</td>\n",
       "      <td>6</td>\n",
       "      <td>MQ</td>\n",
       "      <td>3641</td>\n",
       "      <td>N601MQ</td>\n",
       "      <td>DSM</td>\n",
       "      <td>DFW</td>\n",
       "      <td>916</td>\n",
       "      <td>...</td>\n",
       "      <td>1131.0</td>\n",
       "      <td>11.0</td>\n",
       "      <td>0</td>\n",
       "      <td>0</td>\n",
       "      <td>NaN</td>\n",
       "      <td>NaN</td>\n",
       "      <td>NaN</td>\n",
       "      <td>NaN</td>\n",
       "      <td>NaN</td>\n",
       "      <td>NaN</td>\n",
       "    </tr>\n",
       "    <tr>\n",
       "      <th>999998</th>\n",
       "      <td>2015</td>\n",
       "      <td>3</td>\n",
       "      <td>7</td>\n",
       "      <td>6</td>\n",
       "      <td>OO</td>\n",
       "      <td>5244</td>\n",
       "      <td>N710SK</td>\n",
       "      <td>LAX</td>\n",
       "      <td>ASE</td>\n",
       "      <td>916</td>\n",
       "      <td>...</td>\n",
       "      <td>1242.0</td>\n",
       "      <td>26.0</td>\n",
       "      <td>0</td>\n",
       "      <td>0</td>\n",
       "      <td>NaN</td>\n",
       "      <td>26.0</td>\n",
       "      <td>0.0</td>\n",
       "      <td>0.0</td>\n",
       "      <td>0.0</td>\n",
       "      <td>0.0</td>\n",
       "    </tr>\n",
       "    <tr>\n",
       "      <th>999999</th>\n",
       "      <td>2015</td>\n",
       "      <td>3</td>\n",
       "      <td>7</td>\n",
       "      <td>6</td>\n",
       "      <td>DL</td>\n",
       "      <td>805</td>\n",
       "      <td>N129DL</td>\n",
       "      <td>MSP</td>\n",
       "      <td>LAX</td>\n",
       "      <td>917</td>\n",
       "      <td>...</td>\n",
       "      <td>1052.0</td>\n",
       "      <td>-36.0</td>\n",
       "      <td>0</td>\n",
       "      <td>0</td>\n",
       "      <td>NaN</td>\n",
       "      <td>NaN</td>\n",
       "      <td>NaN</td>\n",
       "      <td>NaN</td>\n",
       "      <td>NaN</td>\n",
       "      <td>NaN</td>\n",
       "    </tr>\n",
       "  </tbody>\n",
       "</table>\n",
       "<p>1000000 rows × 31 columns</p>\n",
       "</div>"
      ],
      "text/plain": [
       "        YEAR  MONTH  DAY  DAY_OF_WEEK AIRLINE  FLIGHT_NUMBER TAIL_NUMBER  \\\n",
       "0       2015      1    1            4      AS             98      N407AS   \n",
       "1       2015      1    1            4      AA           2336      N3KUAA   \n",
       "2       2015      1    1            4      US            840      N171US   \n",
       "3       2015      1    1            4      AA            258      N3HYAA   \n",
       "4       2015      1    1            4      AS            135      N527AS   \n",
       "...      ...    ...  ...          ...     ...            ...         ...   \n",
       "999995  2015      3    7            6      OO           6396      N114SY   \n",
       "999996  2015      3    7            6      AA            334      N566AA   \n",
       "999997  2015      3    7            6      MQ           3641      N601MQ   \n",
       "999998  2015      3    7            6      OO           5244      N710SK   \n",
       "999999  2015      3    7            6      DL            805      N129DL   \n",
       "\n",
       "       ORIGIN_AIRPORT DESTINATION_AIRPORT  SCHEDULED_DEPARTURE  ...  \\\n",
       "0                 ANC                 SEA                    5  ...   \n",
       "1                 LAX                 PBI                   10  ...   \n",
       "2                 SFO                 CLT                   20  ...   \n",
       "3                 LAX                 MIA                   20  ...   \n",
       "4                 SEA                 ANC                   25  ...   \n",
       "...               ...                 ...                  ...  ...   \n",
       "999995            BOI                 SFO                  915  ...   \n",
       "999996            DFW                 MFE                  916  ...   \n",
       "999997            DSM                 DFW                  916  ...   \n",
       "999998            LAX                 ASE                  916  ...   \n",
       "999999            MSP                 LAX                  917  ...   \n",
       "\n",
       "        ARRIVAL_TIME  ARRIVAL_DELAY  DIVERTED  CANCELLED  CANCELLATION_REASON  \\\n",
       "0              408.0          -22.0         0          0                  NaN   \n",
       "1              741.0           -9.0         0          0                  NaN   \n",
       "2              811.0            5.0         0          0                  NaN   \n",
       "3              756.0           -9.0         0          0                  NaN   \n",
       "4              259.0          -21.0         0          0                  NaN   \n",
       "...              ...            ...       ...        ...                  ...   \n",
       "999995         957.0          -16.0         0          0                  NaN   \n",
       "999996        1042.0           -8.0         0          0                  NaN   \n",
       "999997        1131.0           11.0         0          0                  NaN   \n",
       "999998        1242.0           26.0         0          0                  NaN   \n",
       "999999        1052.0          -36.0         0          0                  NaN   \n",
       "\n",
       "        AIR_SYSTEM_DELAY  SECURITY_DELAY  AIRLINE_DELAY  LATE_AIRCRAFT_DELAY  \\\n",
       "0                    NaN             NaN            NaN                  NaN   \n",
       "1                    NaN             NaN            NaN                  NaN   \n",
       "2                    NaN             NaN            NaN                  NaN   \n",
       "3                    NaN             NaN            NaN                  NaN   \n",
       "4                    NaN             NaN            NaN                  NaN   \n",
       "...                  ...             ...            ...                  ...   \n",
       "999995               NaN             NaN            NaN                  NaN   \n",
       "999996               NaN             NaN            NaN                  NaN   \n",
       "999997               NaN             NaN            NaN                  NaN   \n",
       "999998              26.0             0.0            0.0                  0.0   \n",
       "999999               NaN             NaN            NaN                  NaN   \n",
       "\n",
       "        WEATHER_DELAY  \n",
       "0                 NaN  \n",
       "1                 NaN  \n",
       "2                 NaN  \n",
       "3                 NaN  \n",
       "4                 NaN  \n",
       "...               ...  \n",
       "999995            NaN  \n",
       "999996            NaN  \n",
       "999997            NaN  \n",
       "999998            0.0  \n",
       "999999            NaN  \n",
       "\n",
       "[1000000 rows x 31 columns]"
      ]
     },
     "execution_count": 9,
     "metadata": {},
     "output_type": "execute_result"
    }
   ],
   "source": [
    "flights"
   ]
  },
  {
   "cell_type": "code",
   "execution_count": 10,
   "metadata": {
    "colab": {},
    "colab_type": "code",
    "id": "zlVg-Og5c1nE"
   },
   "outputs": [],
   "source": [
    "airlines = airlines.set_index('IATA_CODE')['AIRLINE'].to_dict()"
   ]
  },
  {
   "cell_type": "code",
   "execution_count": 11,
   "metadata": {
    "colab": {
     "base_uri": "https://localhost:8080/",
     "height": 255
    },
    "colab_type": "code",
    "executionInfo": {
     "elapsed": 182396,
     "status": "ok",
     "timestamp": 1575595054165,
     "user": {
      "displayName": "Pranay Kumar",
      "photoUrl": "https://lh3.googleusercontent.com/a-/AAuE7mCd3J-wiaTRAMsTWOz4AF74B4RjDuGp-6w772_RNQ=s64",
      "userId": "17671873586329970946"
     },
     "user_tz": 300
    },
    "id": "mwxlQe8jdhr4",
    "outputId": "57b3d5db-3fdc-4cd3-ce79-e88f31721b9f"
   },
   "outputs": [
    {
     "data": {
      "text/plain": [
       "{'UA': 'United Air Lines Inc.',\n",
       " 'AA': 'American Airlines Inc.',\n",
       " 'US': 'US Airways Inc.',\n",
       " 'F9': 'Frontier Airlines Inc.',\n",
       " 'B6': 'JetBlue Airways',\n",
       " 'OO': 'Skywest Airlines Inc.',\n",
       " 'AS': 'Alaska Airlines Inc.',\n",
       " 'NK': 'Spirit Air Lines',\n",
       " 'WN': 'Southwest Airlines Co.',\n",
       " 'DL': 'Delta Air Lines Inc.',\n",
       " 'EV': 'Atlantic Southeast Airlines',\n",
       " 'HA': 'Hawaiian Airlines Inc.',\n",
       " 'MQ': 'American Eagle Airlines Inc.',\n",
       " 'VX': 'Virgin America'}"
      ]
     },
     "execution_count": 11,
     "metadata": {},
     "output_type": "execute_result"
    }
   ],
   "source": [
    "airlines"
   ]
  },
  {
   "cell_type": "code",
   "execution_count": 14,
   "metadata": {
    "colab": {
     "base_uri": "https://localhost:8080/",
     "height": 431
    },
    "colab_type": "code",
    "executionInfo": {
     "elapsed": 186604,
     "status": "ok",
     "timestamp": 1575595058383,
     "user": {
      "displayName": "Pranay Kumar",
      "photoUrl": "https://lh3.googleusercontent.com/a-/AAuE7mCd3J-wiaTRAMsTWOz4AF74B4RjDuGp-6w772_RNQ=s64",
      "userId": "17671873586329970946"
     },
     "user_tz": 300
    },
    "id": "NioQOErOdj-p",
    "outputId": "441c966f-eee8-4fb0-838d-33716187f0a8"
   },
   "outputs": [
    {
     "data": {
      "image/png": "[encoded data removed]",
      "text/plain": [
       "<Figure size 720x504 with 1 Axes>"
      ]
     },
     "metadata": {
      "needs_background": "light"
     },
     "output_type": "display_data"
    }
   ],
   "source": [
    "def classify_delay(departure_delay):\n",
    "    if departure_delay <= 5:\n",
    "        return 'on time'\n",
    "    elif departure_delay <= 45:\n",
    "        return 'small delay'\n",
    "    else:\n",
    "        return 'large delay'\n",
    "\n",
    "flights['DELAY_LEVEL'] = flights['DEPARTURE_DELAY'].apply(classify_delay)\n",
    "\n",
    "fig = plt.figure(figsize=(10,7))\n",
    "ax = sns.countplot(x=\"AIRLINE\", hue='DELAY_LEVEL', data=flights, palette= [\"#ADD8E6\",\"#FFA500\",\"#FF0000\"])\n",
    "\n",
    "labels = ax.get_xticklabels()\n",
    "ax.set_xticklabels(labels)\n",
    "plt.setp(ax.get_yticklabels(), fontsize=12, weight = 'normal', rotation = 0);\n",
    "plt.setp(ax.get_xticklabels(), fontsize=12, weight = 'normal', rotation = 0);\n",
    "ax.xaxis.label.set_visible(False)\n",
    "plt.ylabel('No. of Flights', fontsize=16, weight = 'bold', labelpad=10)\n",
    "\n",
    "L = plt.legend()\n",
    "L.get_texts()[0].set_text('on time (<= 5 min)')\n",
    "L.get_texts()[1].set_text('small delay (5 < t <= 45 min)')\n",
    "L.get_texts()[2].set_text('large delay (> 45 min)')\n",
    "plt.show()\n"
   ]
  },
  {
   "cell_type": "code",
   "execution_count": 16,
   "metadata": {
    "colab": {
     "base_uri": "https://localhost:8080/",
     "height": 385
    },
    "colab_type": "code",
    "executionInfo": {
     "elapsed": 187368,
     "status": "ok",
     "timestamp": 1575595059158,
     "user": {
      "displayName": "Pranay Kumar",
      "photoUrl": "https://lh3.googleusercontent.com/a-/AAuE7mCd3J-wiaTRAMsTWOz4AF74B4RjDuGp-6w772_RNQ=s64",
      "userId": "17671873586329970946"
     },
     "user_tz": 300
    },
    "id": "oRMgbSjgd3ls",
    "outputId": "947b8d70-2d47-4d1e-a4f4-a4b90855cc5d",
    "scrolled": false
   },
   "outputs": [
    {
     "data": {
      "image/png": "[encoded data removed]",
      "text/plain": [
       "<Figure size 792x432 with 1 Axes>"
      ]
     },
     "metadata": {
      "needs_background": "light"
     },
     "output_type": "display_data"
    }
   ],
   "source": [
    "fig, ax = plt.subplots(figsize=(11,6))\n",
    "sns.barplot(x=\"AIRLINE\", y=\"DEPARTURE_DELAY\", data=flights, color=\"gold\", ci=None, ax=ax)\n",
    "sns.barplot(x=\"AIRLINE\", y=\"ARRIVAL_DELAY\", data=flights, color=\"blue\", hatch='/', alpha=0.5, ci=None, ax=ax)\n",
    "\n",
    "labels = ax.get_xticklabels()\n",
    "ax.set_xticklabels(labels)\n",
    "ax.xaxis.label.set_visible(False)\n",
    "plt.ylabel('Mean Delay (minutes)', fontsize=14, weight='bold', labelpad=10)\n",
    "plt.legend(labels=['Departure Delay', 'Arrival Delay'])\n",
    "\n",
    "plt.show()"
   ]
  },
  {
   "cell_type": "code",
   "execution_count": null,
   "metadata": {},
   "outputs": [],
   "source": []
  },
  {
   "cell_type": "code",
   "execution_count": 17,
   "metadata": {
    "colab": {
     "base_uri": "https://localhost:8080/",
     "height": 153
    },
    "colab_type": "code",
    "executionInfo": {
     "elapsed": 902,
     "status": "ok",
     "timestamp": 1575595066412,
     "user": {
      "displayName": "Pranay Kumar",
      "photoUrl": "https://lh3.googleusercontent.com/a-/AAuE7mCd3J-wiaTRAMsTWOz4AF74B4RjDuGp-6w772_RNQ=s64",
      "userId": "17671873586329970946"
     },
     "user_tz": 300
    },
    "id": "3IlnbWiPt9If",
    "outputId": "225028a3-b4f6-4c91-f70f-89673b25869e"
   },
   "outputs": [
    {
     "data": {
      "text/plain": [
       "IATA_CODE    0\n",
       "AIRPORT      0\n",
       "CITY         0\n",
       "STATE        0\n",
       "COUNTRY      0\n",
       "LATITUDE     3\n",
       "LONGITUDE    3\n",
       "dtype: int64"
      ]
     },
     "execution_count": 17,
     "metadata": {},
     "output_type": "execute_result"
    }
   ],
   "source": [
    "airport.isnull().sum()"
   ]
  },
  {
   "cell_type": "code",
   "execution_count": 18,
   "metadata": {
    "colab": {},
    "colab_type": "code",
    "id": "tFCO89K_t9Ih"
   },
   "outputs": [],
   "source": [
    "airport = airport.dropna(subset = ['LATITUDE','LONGITUDE'])"
   ]
  },
  {
   "cell_type": "code",
   "execution_count": 19,
   "metadata": {
    "colab": {
     "base_uri": "https://localhost:8080/",
     "height": 359
    },
    "colab_type": "code",
    "executionInfo": {
     "elapsed": 791,
     "status": "ok",
     "timestamp": 1575595068503,
     "user": {
      "displayName": "Pranay Kumar",
      "photoUrl": "https://lh3.googleusercontent.com/a-/AAuE7mCd3J-wiaTRAMsTWOz4AF74B4RjDuGp-6w772_RNQ=s64",
      "userId": "17671873586329970946"
     },
     "user_tz": 300
    },
    "id": "-d5KopmJt9Ik",
    "outputId": "34fc3c84-62a1-433e-e7c7-609fe4c9378f"
   },
   "outputs": [
    {
     "data": {
      "text/html": [
       "<div>\n",
       "<style scoped>\n",
       "    .dataframe tbody tr th:only-of-type {\n",
       "        vertical-align: middle;\n",
       "    }\n",
       "\n",
       "    .dataframe tbody tr th {\n",
       "        vertical-align: top;\n",
       "    }\n",
       "\n",
       "    .dataframe thead th {\n",
       "        text-align: right;\n",
       "    }\n",
       "</style>\n",
       "<table border=\"1\" class=\"dataframe\">\n",
       "  <thead>\n",
       "    <tr style=\"text-align: right;\">\n",
       "      <th></th>\n",
       "      <th>IATA_CODE</th>\n",
       "      <th>AIRPORT</th>\n",
       "      <th>CITY</th>\n",
       "      <th>STATE</th>\n",
       "      <th>COUNTRY</th>\n",
       "      <th>LATITUDE</th>\n",
       "      <th>LONGITUDE</th>\n",
       "    </tr>\n",
       "  </thead>\n",
       "  <tbody>\n",
       "    <tr>\n",
       "      <th>0</th>\n",
       "      <td>ABE</td>\n",
       "      <td>Lehigh Valley International Airport</td>\n",
       "      <td>Allentown</td>\n",
       "      <td>PA</td>\n",
       "      <td>USA</td>\n",
       "      <td>40.65236</td>\n",
       "      <td>-75.44040</td>\n",
       "    </tr>\n",
       "    <tr>\n",
       "      <th>1</th>\n",
       "      <td>ABI</td>\n",
       "      <td>Abilene Regional Airport</td>\n",
       "      <td>Abilene</td>\n",
       "      <td>TX</td>\n",
       "      <td>USA</td>\n",
       "      <td>32.41132</td>\n",
       "      <td>-99.68190</td>\n",
       "    </tr>\n",
       "    <tr>\n",
       "      <th>2</th>\n",
       "      <td>ABQ</td>\n",
       "      <td>Albuquerque International Sunport</td>\n",
       "      <td>Albuquerque</td>\n",
       "      <td>NM</td>\n",
       "      <td>USA</td>\n",
       "      <td>35.04022</td>\n",
       "      <td>-106.60919</td>\n",
       "    </tr>\n",
       "    <tr>\n",
       "      <th>3</th>\n",
       "      <td>ABR</td>\n",
       "      <td>Aberdeen Regional Airport</td>\n",
       "      <td>Aberdeen</td>\n",
       "      <td>SD</td>\n",
       "      <td>USA</td>\n",
       "      <td>45.44906</td>\n",
       "      <td>-98.42183</td>\n",
       "    </tr>\n",
       "    <tr>\n",
       "      <th>4</th>\n",
       "      <td>ABY</td>\n",
       "      <td>Southwest Georgia Regional Airport</td>\n",
       "      <td>Albany</td>\n",
       "      <td>GA</td>\n",
       "      <td>USA</td>\n",
       "      <td>31.53552</td>\n",
       "      <td>-84.19447</td>\n",
       "    </tr>\n",
       "    <tr>\n",
       "      <th>5</th>\n",
       "      <td>ACK</td>\n",
       "      <td>Nantucket Memorial Airport</td>\n",
       "      <td>Nantucket</td>\n",
       "      <td>MA</td>\n",
       "      <td>USA</td>\n",
       "      <td>41.25305</td>\n",
       "      <td>-70.06018</td>\n",
       "    </tr>\n",
       "    <tr>\n",
       "      <th>6</th>\n",
       "      <td>ACT</td>\n",
       "      <td>Waco Regional Airport</td>\n",
       "      <td>Waco</td>\n",
       "      <td>TX</td>\n",
       "      <td>USA</td>\n",
       "      <td>31.61129</td>\n",
       "      <td>-97.23052</td>\n",
       "    </tr>\n",
       "    <tr>\n",
       "      <th>7</th>\n",
       "      <td>ACV</td>\n",
       "      <td>Arcata Airport</td>\n",
       "      <td>Arcata/Eureka</td>\n",
       "      <td>CA</td>\n",
       "      <td>USA</td>\n",
       "      <td>40.97812</td>\n",
       "      <td>-124.10862</td>\n",
       "    </tr>\n",
       "    <tr>\n",
       "      <th>8</th>\n",
       "      <td>ACY</td>\n",
       "      <td>Atlantic City International Airport</td>\n",
       "      <td>Atlantic City</td>\n",
       "      <td>NJ</td>\n",
       "      <td>USA</td>\n",
       "      <td>39.45758</td>\n",
       "      <td>-74.57717</td>\n",
       "    </tr>\n",
       "    <tr>\n",
       "      <th>9</th>\n",
       "      <td>ADK</td>\n",
       "      <td>Adak Airport</td>\n",
       "      <td>Adak</td>\n",
       "      <td>AK</td>\n",
       "      <td>USA</td>\n",
       "      <td>51.87796</td>\n",
       "      <td>-176.64603</td>\n",
       "    </tr>\n",
       "  </tbody>\n",
       "</table>\n",
       "</div>"
      ],
      "text/plain": [
       "  IATA_CODE                              AIRPORT           CITY STATE COUNTRY  \\\n",
       "0       ABE  Lehigh Valley International Airport      Allentown    PA     USA   \n",
       "1       ABI             Abilene Regional Airport        Abilene    TX     USA   \n",
       "2       ABQ    Albuquerque International Sunport    Albuquerque    NM     USA   \n",
       "3       ABR            Aberdeen Regional Airport       Aberdeen    SD     USA   \n",
       "4       ABY   Southwest Georgia Regional Airport         Albany    GA     USA   \n",
       "5       ACK           Nantucket Memorial Airport      Nantucket    MA     USA   \n",
       "6       ACT                Waco Regional Airport           Waco    TX     USA   \n",
       "7       ACV                       Arcata Airport  Arcata/Eureka    CA     USA   \n",
       "8       ACY  Atlantic City International Airport  Atlantic City    NJ     USA   \n",
       "9       ADK                         Adak Airport           Adak    AK     USA   \n",
       "\n",
       "   LATITUDE  LONGITUDE  \n",
       "0  40.65236  -75.44040  \n",
       "1  32.41132  -99.68190  \n",
       "2  35.04022 -106.60919  \n",
       "3  45.44906  -98.42183  \n",
       "4  31.53552  -84.19447  \n",
       "5  41.25305  -70.06018  \n",
       "6  31.61129  -97.23052  \n",
       "7  40.97812 -124.10862  \n",
       "8  39.45758  -74.57717  \n",
       "9  51.87796 -176.64603  "
      ]
     },
     "execution_count": 19,
     "metadata": {},
     "output_type": "execute_result"
    }
   ],
   "source": [
    "airport.head(10)"
   ]
  },
  {
   "cell_type": "code",
   "execution_count": 20,
   "metadata": {
    "colab": {
     "base_uri": "https://localhost:8080/",
     "height": 483
    },
    "colab_type": "code",
    "executionInfo": {
     "elapsed": 1372,
     "status": "ok",
     "timestamp": 1575595072484,
     "user": {
      "displayName": "Pranay Kumar",
      "photoUrl": "https://lh3.googleusercontent.com/a-/AAuE7mCd3J-wiaTRAMsTWOz4AF74B4RjDuGp-6w772_RNQ=s64",
      "userId": "17671873586329970946"
     },
     "user_tz": 300
    },
    "id": "Voh3ZK2et9Im",
    "outputId": "86413932-f685-44bd-b05b-fa4387936ebe"
   },
   "outputs": [
    {
     "data": {
      "text/plain": [
       "{'UA': 'United Air Lines Inc.',\n",
       " 'AA': 'American Airlines Inc.',\n",
       " 'US': 'US Airways Inc.',\n",
       " 'F9': 'Frontier Airlines Inc.',\n",
       " 'B6': 'JetBlue Airways',\n",
       " 'OO': 'Skywest Airlines Inc.',\n",
       " 'AS': 'Alaska Airlines Inc.',\n",
       " 'NK': 'Spirit Air Lines',\n",
       " 'WN': 'Southwest Airlines Co.',\n",
       " 'DL': 'Delta Air Lines Inc.',\n",
       " 'EV': 'Atlantic Southeast Airlines',\n",
       " 'HA': 'Hawaiian Airlines Inc.',\n",
       " 'MQ': 'American Eagle Airlines Inc.',\n",
       " 'VX': 'Virgin America'}"
      ]
     },
     "execution_count": 20,
     "metadata": {},
     "output_type": "execute_result"
    }
   ],
   "source": [
    "airlines"
   ]
  },
  {
   "cell_type": "code",
   "execution_count": 44,
   "metadata": {
    "colab": {
     "base_uri": "https://localhost:8080/",
     "height": 578
    },
    "colab_type": "code",
    "executionInfo": {
     "elapsed": 3006,
     "status": "ok",
     "timestamp": 1575595076992,
     "user": {
      "displayName": "Pranay Kumar",
      "photoUrl": "https://lh3.googleusercontent.com/a-/AAuE7mCd3J-wiaTRAMsTWOz4AF74B4RjDuGp-6w772_RNQ=s64",
      "userId": "17671873586329970946"
     },
     "user_tz": 300
    },
    "id": "DoY10ZAot9In",
    "outputId": "f27b075a-b6cd-4fec-9ead-1ff5787b7862"
   },
   "outputs": [
    {
     "data": {
      "text/plain": [
       "YEAR                    0.0000\n",
       "MONTH                   0.0000\n",
       "DAY                     0.0000\n",
       "DAY_OF_WEEK             0.0000\n",
       "AIRLINE                 0.0000\n",
       "FLIGHT_NUMBER           0.0000\n",
       "TAIL_NUMBER             0.7709\n",
       "ORIGIN_AIRPORT          0.0000\n",
       "DESTINATION_AIRPORT     0.0000\n",
       "SCHEDULED_DEPARTURE     0.0000\n",
       "DEPARTURE_TIME          3.9158\n",
       "DEPARTURE_DELAY         3.9158\n",
       "TAXI_OUT                3.9855\n",
       "WHEELS_OFF              3.9855\n",
       "SCHEDULED_TIME          0.0002\n",
       "ELAPSED_TIME            4.2606\n",
       "AIR_TIME                4.2606\n",
       "DISTANCE                0.0000\n",
       "WHEELS_ON               4.0883\n",
       "TAXI_IN                 4.0883\n",
       "SCHEDULED_ARRIVAL       0.0000\n",
       "ARRIVAL_TIME            4.0883\n",
       "ARRIVAL_DELAY           4.2606\n",
       "DIVERTED                0.0000\n",
       "CANCELLED               0.0000\n",
       "CANCELLATION_REASON    95.9868\n",
       "AIR_SYSTEM_DELAY       77.8959\n",
       "SECURITY_DELAY         77.8959\n",
       "AIRLINE_DELAY          77.8959\n",
       "LATE_AIRCRAFT_DELAY    77.8959\n",
       "WEATHER_DELAY          77.8959\n",
       "DELAY_LEVEL             0.0000\n",
       "dtype: float64"
      ]
     },
     "execution_count": 44,
     "metadata": {},
     "output_type": "execute_result"
    }
   ],
   "source": [
    "flights_NULL = flights.isnull().sum()*100/flights.shape[0]\n",
    "flights_NULL"
   ]
  },
  {
   "cell_type": "markdown",
   "metadata": {
    "colab_type": "text",
    "id": "xOw9CuRsiHZ9"
   },
   "source": [
    "I drop all the rows for some attributes which have null values as they make up a small percentage of the dataset\n"
   ]
  },
  {
   "cell_type": "code",
   "execution_count": 45,
   "metadata": {
    "colab": {},
    "colab_type": "code",
    "id": "RGy3KRsKt9Iq"
   },
   "outputs": [],
   "source": [
    "flights1 = flights.dropna(subset = [\"TAIL_NUMBER\",'DEPARTURE_TIME','DEPARTURE_DELAY','TAXI_OUT','WHEELS_OFF','SCHEDULED_TIME',\n",
    "'ELAPSED_TIME','AIR_TIME','WHEELS_ON','TAXI_IN','ARRIVAL_TIME','ARRIVAL_DELAY'])"
   ]
  },
  {
   "cell_type": "code",
   "execution_count": 46,
   "metadata": {
    "colab": {
     "base_uri": "https://localhost:8080/",
     "height": 34
    },
    "colab_type": "code",
    "executionInfo": {
     "elapsed": 1281,
     "status": "ok",
     "timestamp": 1575595079606,
     "user": {
      "displayName": "Pranay Kumar",
      "photoUrl": "https://lh3.googleusercontent.com/a-/AAuE7mCd3J-wiaTRAMsTWOz4AF74B4RjDuGp-6w772_RNQ=s64",
      "userId": "17671873586329970946"
     },
     "user_tz": 300
    },
    "id": "VcqS5-6Kt9Ir",
    "outputId": "2128fde1-0308-438a-de23-e1425507965a"
   },
   "outputs": [
    {
     "data": {
      "text/plain": [
       "(957394, 32)"
      ]
     },
     "execution_count": 46,
     "metadata": {},
     "output_type": "execute_result"
    }
   ],
   "source": [
    "flights1.shape"
   ]
  },
  {
   "cell_type": "code",
   "execution_count": 47,
   "metadata": {
    "colab": {
     "base_uri": "https://localhost:8080/",
     "height": 578
    },
    "colab_type": "code",
    "executionInfo": {
     "elapsed": 2072,
     "status": "ok",
     "timestamp": 1575589392151,
     "user": {
      "displayName": "Pranay Kumar",
      "photoUrl": "https://lh3.googleusercontent.com/a-/AAuE7mCd3J-wiaTRAMsTWOz4AF74B4RjDuGp-6w772_RNQ=s64",
      "userId": "17671873586329970946"
     },
     "user_tz": 300
    },
    "id": "5sHahjVlt9It",
    "outputId": "d51b68fd-6725-4f09-8cc1-59311ef82c41"
   },
   "outputs": [
    {
     "data": {
      "text/plain": [
       "YEAR                        0\n",
       "MONTH                       0\n",
       "DAY                         0\n",
       "DAY_OF_WEEK                 0\n",
       "AIRLINE                     0\n",
       "FLIGHT_NUMBER               0\n",
       "TAIL_NUMBER                 0\n",
       "ORIGIN_AIRPORT              0\n",
       "DESTINATION_AIRPORT         0\n",
       "SCHEDULED_DEPARTURE         0\n",
       "DEPARTURE_TIME              0\n",
       "DEPARTURE_DELAY             0\n",
       "TAXI_OUT                    0\n",
       "WHEELS_OFF                  0\n",
       "SCHEDULED_TIME              0\n",
       "ELAPSED_TIME                0\n",
       "AIR_TIME                    0\n",
       "DISTANCE                    0\n",
       "WHEELS_ON                   0\n",
       "TAXI_IN                     0\n",
       "SCHEDULED_ARRIVAL           0\n",
       "ARRIVAL_TIME                0\n",
       "ARRIVAL_DELAY               0\n",
       "DIVERTED                    0\n",
       "CANCELLED                   0\n",
       "CANCELLATION_REASON    957394\n",
       "AIR_SYSTEM_DELAY       736353\n",
       "SECURITY_DELAY         736353\n",
       "AIRLINE_DELAY          736353\n",
       "LATE_AIRCRAFT_DELAY    736353\n",
       "WEATHER_DELAY          736353\n",
       "DELAY_LEVEL                 0\n",
       "dtype: int64"
      ]
     },
     "execution_count": 47,
     "metadata": {},
     "output_type": "execute_result"
    }
   ],
   "source": [
    "flights1.isnull().sum()"
   ]
  },
  {
   "cell_type": "code",
   "execution_count": 48,
   "metadata": {
    "colab": {},
    "colab_type": "code",
    "id": "-9ZLOMlKt9Iv"
   },
   "outputs": [],
   "source": [
    "flights_modified = flights1.dropna(subset = ['AIR_SYSTEM_DELAY','SECURITY_DELAY','AIRLINE_DELAY','LATE_AIRCRAFT_DELAY','WEATHER_DELAY'])\n",
    "flights_modified = flights_modified.drop(['YEAR','MONTH','DAY','DAY_OF_WEEK','TAIL_NUMBER','SCHEDULED_DEPARTURE','DEPARTURE_TIME','SCHEDULED_TIME',\n",
    "                     'SCHEDULED_ARRIVAL','ARRIVAL_TIME','DIVERTED','CANCELLED','CANCELLATION_REASON','FLIGHT_NUMBER','WHEELS_OFF',\n",
    "                     'WHEELS_ON','AIR_TIME'],axis = 1)"
   ]
  },
  {
   "cell_type": "code",
   "execution_count": 49,
   "metadata": {
    "colab": {
     "base_uri": "https://localhost:8080/",
     "height": 357
    },
    "colab_type": "code",
    "executionInfo": {
     "elapsed": 1618,
     "status": "ok",
     "timestamp": 1575595084425,
     "user": {
      "displayName": "Pranay Kumar",
      "photoUrl": "https://lh3.googleusercontent.com/a-/AAuE7mCd3J-wiaTRAMsTWOz4AF74B4RjDuGp-6w772_RNQ=s64",
      "userId": "17671873586329970946"
     },
     "user_tz": 300
    },
    "id": "vkTqHxzXt9Iy",
    "outputId": "c5aac177-b9df-4528-be96-ec432fc2d008"
   },
   "outputs": [
    {
     "name": "stdout",
     "output_type": "stream",
     "text": [
      "<class 'pandas.core.frame.DataFrame'>\n",
      "Int64Index: 221041 entries, 27 to 999998\n",
      "Data columns (total 15 columns):\n",
      " #   Column               Non-Null Count   Dtype  \n",
      "---  ------               --------------   -----  \n",
      " 0   AIRLINE              221041 non-null  object \n",
      " 1   ORIGIN_AIRPORT       221041 non-null  object \n",
      " 2   DESTINATION_AIRPORT  221041 non-null  object \n",
      " 3   DEPARTURE_DELAY      221041 non-null  float64\n",
      " 4   TAXI_OUT             221041 non-null  float64\n",
      " 5   ELAPSED_TIME         221041 non-null  float64\n",
      " 6   DISTANCE             221041 non-null  int64  \n",
      " 7   TAXI_IN              221041 non-null  float64\n",
      " 8   ARRIVAL_DELAY        221041 non-null  float64\n",
      " 9   AIR_SYSTEM_DELAY     221041 non-null  float64\n",
      " 10  SECURITY_DELAY       221041 non-null  float64\n",
      " 11  AIRLINE_DELAY        221041 non-null  float64\n",
      " 12  LATE_AIRCRAFT_DELAY  221041 non-null  float64\n",
      " 13  WEATHER_DELAY        221041 non-null  float64\n",
      " 14  DELAY_LEVEL          221041 non-null  object \n",
      "dtypes: float64(10), int64(1), object(4)\n",
      "memory usage: 27.0+ MB\n"
     ]
    }
   ],
   "source": [
    "flights_modified.info()"
   ]
  },
  {
   "cell_type": "code",
   "execution_count": 50,
   "metadata": {
    "colab": {},
    "colab_type": "code",
    "id": "-Lad0tlPt9I0"
   },
   "outputs": [],
   "source": [
    "Flight_Delays = flights_modified"
   ]
  },
  {
   "cell_type": "markdown",
   "metadata": {
    "colab_type": "text",
    "id": "TsTWZAv0iWkG"
   },
   "source": [
    "Dropping all the contributing factors of delays as we are only going to focus on the over all delay"
   ]
  },
  {
   "cell_type": "code",
   "execution_count": 51,
   "metadata": {
    "colab": {},
    "colab_type": "code",
    "id": "UWhL-CzKt9I2"
   },
   "outputs": [],
   "source": [
    "flights2 = flights1.drop(['CANCELLATION_REASON','AIR_SYSTEM_DELAY','SECURITY_DELAY','AIRLINE_DELAY',\n",
    "                    'LATE_AIRCRAFT_DELAY','WEATHER_DELAY'],axis = 1)"
   ]
  },
  {
   "cell_type": "code",
   "execution_count": 52,
   "metadata": {
    "colab": {
     "base_uri": "https://localhost:8080/",
     "height": 476
    },
    "colab_type": "code",
    "executionInfo": {
     "elapsed": 2111,
     "status": "ok",
     "timestamp": 1575595090375,
     "user": {
      "displayName": "Pranay Kumar",
      "photoUrl": "https://lh3.googleusercontent.com/a-/AAuE7mCd3J-wiaTRAMsTWOz4AF74B4RjDuGp-6w772_RNQ=s64",
      "userId": "17671873586329970946"
     },
     "user_tz": 300
    },
    "id": "Bn1OnQBtt9I3",
    "outputId": "3e778ae8-24f9-4eed-bcf8-8ecc7d0a96f6"
   },
   "outputs": [
    {
     "data": {
      "text/plain": [
       "YEAR                   0\n",
       "MONTH                  0\n",
       "DAY                    0\n",
       "DAY_OF_WEEK            0\n",
       "AIRLINE                0\n",
       "FLIGHT_NUMBER          0\n",
       "TAIL_NUMBER            0\n",
       "ORIGIN_AIRPORT         0\n",
       "DESTINATION_AIRPORT    0\n",
       "SCHEDULED_DEPARTURE    0\n",
       "DEPARTURE_TIME         0\n",
       "DEPARTURE_DELAY        0\n",
       "TAXI_OUT               0\n",
       "WHEELS_OFF             0\n",
       "SCHEDULED_TIME         0\n",
       "ELAPSED_TIME           0\n",
       "AIR_TIME               0\n",
       "DISTANCE               0\n",
       "WHEELS_ON              0\n",
       "TAXI_IN                0\n",
       "SCHEDULED_ARRIVAL      0\n",
       "ARRIVAL_TIME           0\n",
       "ARRIVAL_DELAY          0\n",
       "DIVERTED               0\n",
       "CANCELLED              0\n",
       "DELAY_LEVEL            0\n",
       "dtype: int64"
      ]
     },
     "execution_count": 52,
     "metadata": {},
     "output_type": "execute_result"
    }
   ],
   "source": [
    "flights2.isnull().sum()"
   ]
  },
  {
   "cell_type": "code",
   "execution_count": 53,
   "metadata": {
    "colab": {
     "base_uri": "https://localhost:8080/",
     "height": 34
    },
    "colab_type": "code",
    "executionInfo": {
     "elapsed": 775,
     "status": "ok",
     "timestamp": 1575595090376,
     "user": {
      "displayName": "Pranay Kumar",
      "photoUrl": "https://lh3.googleusercontent.com/a-/AAuE7mCd3J-wiaTRAMsTWOz4AF74B4RjDuGp-6w772_RNQ=s64",
      "userId": "17671873586329970946"
     },
     "user_tz": 300
    },
    "id": "GtecXcFot9I6",
    "outputId": "c7d37d8b-4d34-44df-cc6c-15d4ffaa57da"
   },
   "outputs": [
    {
     "data": {
      "text/plain": [
       "(957394, 26)"
      ]
     },
     "execution_count": 53,
     "metadata": {},
     "output_type": "execute_result"
    }
   ],
   "source": [
    "flights2.shape"
   ]
  },
  {
   "cell_type": "code",
   "execution_count": 54,
   "metadata": {
    "colab": {
     "base_uri": "https://localhost:8080/",
     "height": 544
    },
    "colab_type": "code",
    "executionInfo": {
     "elapsed": 1214,
     "status": "ok",
     "timestamp": 1575595092303,
     "user": {
      "displayName": "Pranay Kumar",
      "photoUrl": "https://lh3.googleusercontent.com/a-/AAuE7mCd3J-wiaTRAMsTWOz4AF74B4RjDuGp-6w772_RNQ=s64",
      "userId": "17671873586329970946"
     },
     "user_tz": 300
    },
    "id": "dMXchpMTt9I8",
    "outputId": "9a3fdfa6-6cac-497f-9689-9607605af9a4"
   },
   "outputs": [
    {
     "name": "stdout",
     "output_type": "stream",
     "text": [
      "<class 'pandas.core.frame.DataFrame'>\n",
      "Int64Index: 957394 entries, 0 to 999999\n",
      "Data columns (total 26 columns):\n",
      " #   Column               Non-Null Count   Dtype  \n",
      "---  ------               --------------   -----  \n",
      " 0   YEAR                 957394 non-null  int64  \n",
      " 1   MONTH                957394 non-null  int64  \n",
      " 2   DAY                  957394 non-null  int64  \n",
      " 3   DAY_OF_WEEK          957394 non-null  int64  \n",
      " 4   AIRLINE              957394 non-null  object \n",
      " 5   FLIGHT_NUMBER        957394 non-null  int64  \n",
      " 6   TAIL_NUMBER          957394 non-null  object \n",
      " 7   ORIGIN_AIRPORT       957394 non-null  object \n",
      " 8   DESTINATION_AIRPORT  957394 non-null  object \n",
      " 9   SCHEDULED_DEPARTURE  957394 non-null  int64  \n",
      " 10  DEPARTURE_TIME       957394 non-null  float64\n",
      " 11  DEPARTURE_DELAY      957394 non-null  float64\n",
      " 12  TAXI_OUT             957394 non-null  float64\n",
      " 13  WHEELS_OFF           957394 non-null  float64\n",
      " 14  SCHEDULED_TIME       957394 non-null  float64\n",
      " 15  ELAPSED_TIME         957394 non-null  float64\n",
      " 16  AIR_TIME             957394 non-null  float64\n",
      " 17  DISTANCE             957394 non-null  int64  \n",
      " 18  WHEELS_ON            957394 non-null  float64\n",
      " 19  TAXI_IN              957394 non-null  float64\n",
      " 20  SCHEDULED_ARRIVAL    957394 non-null  int64  \n",
      " 21  ARRIVAL_TIME         957394 non-null  float64\n",
      " 22  ARRIVAL_DELAY        957394 non-null  float64\n",
      " 23  DIVERTED             957394 non-null  int64  \n",
      " 24  CANCELLED            957394 non-null  int64  \n",
      " 25  DELAY_LEVEL          957394 non-null  object \n",
      "dtypes: float64(11), int64(10), object(5)\n",
      "memory usage: 197.2+ MB\n"
     ]
    }
   ],
   "source": [
    "flights2.info()"
   ]
  },
  {
   "cell_type": "code",
   "execution_count": 55,
   "metadata": {
    "colab": {
     "base_uri": "https://localhost:8080/",
     "height": 34
    },
    "colab_type": "code",
    "executionInfo": {
     "elapsed": 1349,
     "status": "ok",
     "timestamp": 1575595094543,
     "user": {
      "displayName": "Pranay Kumar",
      "photoUrl": "https://lh3.googleusercontent.com/a-/AAuE7mCd3J-wiaTRAMsTWOz4AF74B4RjDuGp-6w772_RNQ=s64",
      "userId": "17671873586329970946"
     },
     "user_tz": 300
    },
    "id": "t48nC9bot9I-",
    "outputId": "3abb83a9-054a-460c-b0ca-b07eb14b2786"
   },
   "outputs": [
    {
     "data": {
      "text/plain": [
       "dtype('float64')"
      ]
     },
     "execution_count": 55,
     "metadata": {},
     "output_type": "execute_result"
    }
   ],
   "source": [
    "flights2.DEPARTURE_TIME.dtype"
   ]
  },
  {
   "cell_type": "code",
   "execution_count": 56,
   "metadata": {
    "colab": {
     "base_uri": "https://localhost:8080/",
     "height": 221
    },
    "colab_type": "code",
    "executionInfo": {
     "elapsed": 1171,
     "status": "ok",
     "timestamp": 1575595096535,
     "user": {
      "displayName": "Pranay Kumar",
      "photoUrl": "https://lh3.googleusercontent.com/a-/AAuE7mCd3J-wiaTRAMsTWOz4AF74B4RjDuGp-6w772_RNQ=s64",
      "userId": "17671873586329970946"
     },
     "user_tz": 300
    },
    "id": "V7qBB_b6t9JA",
    "outputId": "977ef53a-2a18-4788-8e06-8f815a99a53a"
   },
   "outputs": [
    {
     "data": {
      "text/plain": [
       "0         2354.0\n",
       "1            2.0\n",
       "2           18.0\n",
       "3           15.0\n",
       "4           24.0\n",
       "           ...  \n",
       "999995     912.0\n",
       "999996     919.0\n",
       "999997     939.0\n",
       "999998     915.0\n",
       "999999     915.0\n",
       "Name: DEPARTURE_TIME, Length: 957394, dtype: float64"
      ]
     },
     "execution_count": 56,
     "metadata": {},
     "output_type": "execute_result"
    }
   ],
   "source": [
    "flights2.DEPARTURE_TIME"
   ]
  },
  {
   "cell_type": "markdown",
   "metadata": {
    "colab_type": "text",
    "id": "_MK0qkHUt9JC"
   },
   "source": [
    "The times are not in the correct format so i will transform them into HH:MM format\n"
   ]
  },
  {
   "cell_type": "code",
   "execution_count": 57,
   "metadata": {
    "colab": {},
    "colab_type": "code",
    "id": "tYeL4oH7t9JD"
   },
   "outputs": [],
   "source": [
    "def CreateTimeFormatted(hours):\n",
    "        if hours == 2400:\n",
    "            hours = 0\n",
    "        else:\n",
    "            hours = \"{0:04d}\".format(int(hours))\n",
    "            Hourmin = datetime.time(int(hours[0:2]), int(hours[2:4]))\n",
    "            return Hourmin"
   ]
  },
  {
   "cell_type": "code",
   "execution_count": 58,
   "metadata": {
    "colab": {
     "base_uri": "https://localhost:8080/",
     "height": 221
    },
    "colab_type": "code",
    "executionInfo": {
     "elapsed": 8704,
     "status": "ok",
     "timestamp": 1575595109487,
     "user": {
      "displayName": "Pranay Kumar",
      "photoUrl": "https://lh3.googleusercontent.com/a-/AAuE7mCd3J-wiaTRAMsTWOz4AF74B4RjDuGp-6w772_RNQ=s64",
      "userId": "17671873586329970946"
     },
     "user_tz": 300
    },
    "id": "cSku47Owt9JF",
    "outputId": "d1927d8b-7cf7-4e10-cec0-bc6df1b82a58"
   },
   "outputs": [
    {
     "data": {
      "text/plain": [
       "0         23:54:00\n",
       "1         00:02:00\n",
       "2         00:18:00\n",
       "3         00:15:00\n",
       "4         00:24:00\n",
       "            ...   \n",
       "999995    09:12:00\n",
       "999996    09:19:00\n",
       "999997    09:39:00\n",
       "999998    09:15:00\n",
       "999999    09:15:00\n",
       "Name: Actual_Departure, Length: 957394, dtype: object"
      ]
     },
     "execution_count": 58,
     "metadata": {},
     "output_type": "execute_result"
    }
   ],
   "source": [
    "flights2['Actual_Departure'] =flights1['DEPARTURE_TIME'].apply(CreateTimeFormatted)\n",
    "flights2['Actual_Departure']"
   ]
  },
  {
   "cell_type": "code",
   "execution_count": 59,
   "metadata": {
    "colab": {
     "base_uri": "https://localhost:8080/",
     "height": 153
    },
    "colab_type": "code",
    "executionInfo": {
     "elapsed": 6365,
     "status": "ok",
     "timestamp": 1575595109488,
     "user": {
      "displayName": "Pranay Kumar",
      "photoUrl": "https://lh3.googleusercontent.com/a-/AAuE7mCd3J-wiaTRAMsTWOz4AF74B4RjDuGp-6w772_RNQ=s64",
      "userId": "17671873586329970946"
     },
     "user_tz": 300
    },
    "id": "H2I9cBl-t9JI",
    "outputId": "1b6df88f-678a-4d47-d917-efca506f34a6"
   },
   "outputs": [
    {
     "data": {
      "text/plain": [
       "Index(['YEAR', 'MONTH', 'DAY', 'DAY_OF_WEEK', 'AIRLINE', 'FLIGHT_NUMBER',\n",
       "       'TAIL_NUMBER', 'ORIGIN_AIRPORT', 'DESTINATION_AIRPORT',\n",
       "       'SCHEDULED_DEPARTURE', 'DEPARTURE_TIME', 'DEPARTURE_DELAY', 'TAXI_OUT',\n",
       "       'WHEELS_OFF', 'SCHEDULED_TIME', 'ELAPSED_TIME', 'AIR_TIME', 'DISTANCE',\n",
       "       'WHEELS_ON', 'TAXI_IN', 'SCHEDULED_ARRIVAL', 'ARRIVAL_TIME',\n",
       "       'ARRIVAL_DELAY', 'DIVERTED', 'CANCELLED', 'DELAY_LEVEL',\n",
       "       'Actual_Departure'],\n",
       "      dtype='object')"
      ]
     },
     "execution_count": 59,
     "metadata": {},
     "output_type": "execute_result"
    }
   ],
   "source": [
    "flights2.columns"
   ]
  },
  {
   "cell_type": "markdown",
   "metadata": {
    "colab_type": "text",
    "id": "7vvLURNZN1bg"
   },
   "source": [
    "Transform year month and day into date time format"
   ]
  },
  {
   "cell_type": "code",
   "execution_count": 60,
   "metadata": {
    "colab": {
     "base_uri": "https://localhost:8080/",
     "height": 221
    },
    "colab_type": "code",
    "executionInfo": {
     "elapsed": 4247,
     "status": "ok",
     "timestamp": 1575595109489,
     "user": {
      "displayName": "Pranay Kumar",
      "photoUrl": "https://lh3.googleusercontent.com/a-/AAuE7mCd3J-wiaTRAMsTWOz4AF74B4RjDuGp-6w772_RNQ=s64",
      "userId": "17671873586329970946"
     },
     "user_tz": 300
    },
    "id": "FciedfW2t9JK",
    "outputId": "25437674-d3d2-4eba-fc8d-983061ab2813"
   },
   "outputs": [
    {
     "data": {
      "text/plain": [
       "0        2015-01-01\n",
       "1        2015-01-01\n",
       "2        2015-01-01\n",
       "3        2015-01-01\n",
       "4        2015-01-01\n",
       "            ...    \n",
       "999995   2015-03-07\n",
       "999996   2015-03-07\n",
       "999997   2015-03-07\n",
       "999998   2015-03-07\n",
       "999999   2015-03-07\n",
       "Name: Date, Length: 957394, dtype: datetime64[ns]"
      ]
     },
     "execution_count": 60,
     "metadata": {},
     "output_type": "execute_result"
    }
   ],
   "source": [
    "flights2['Date'] = pd.to_datetime(flights2[['YEAR','MONTH','DAY']])\n",
    "flights2.Date"
   ]
  },
  {
   "cell_type": "code",
   "execution_count": 61,
   "metadata": {
    "colab": {},
    "colab_type": "code",
    "id": "41YClYoXt9JM"
   },
   "outputs": [],
   "source": [
    "flights2['Day'] = flights2['Date'].dt.day_name()"
   ]
  },
  {
   "cell_type": "code",
   "execution_count": 62,
   "metadata": {
    "colab": {},
    "colab_type": "code",
    "id": "y4HJdjUBt9JO"
   },
   "outputs": [],
   "source": [
    "flights2['Actual_Departure'] =flights1['DEPARTURE_TIME'].apply(CreateTimeFormatted)\n",
    "flights2['Scheduled_Arrival'] =flights1['SCHEDULED_ARRIVAL'].apply(CreateTimeFormatted)\n",
    "flights2['Scheduled_Departure'] =flights1['SCHEDULED_DEPARTURE'].apply(CreateTimeFormatted)\n",
    "flights2['Actual_Arrival'] =flights2['ARRIVAL_TIME'].apply(CreateTimeFormatted)"
   ]
  },
  {
   "cell_type": "code",
   "execution_count": 63,
   "metadata": {
    "colab": {},
    "colab_type": "code",
    "id": "zIoHYdvSt9JQ"
   },
   "outputs": [
    {
     "ename": "TypeError",
     "evalue": "Can only merge Series or DataFrame objects, a <class 'dict'> was passed",
     "output_type": "error",
     "traceback": [
      "\u001b[0;31m---------------------------------------------------------------------------\u001b[0m",
      "\u001b[0;31mTypeError\u001b[0m                                 Traceback (most recent call last)",
      "Input \u001b[0;32mIn [63]\u001b[0m, in \u001b[0;36m<cell line: 1>\u001b[0;34m()\u001b[0m\n\u001b[0;32m----> 1\u001b[0m flights2 \u001b[38;5;241m=\u001b[39m \u001b[43mflights2\u001b[49m\u001b[38;5;241;43m.\u001b[39;49m\u001b[43mmerge\u001b[49m\u001b[43m(\u001b[49m\u001b[43mairlines\u001b[49m\u001b[43m,\u001b[49m\u001b[43m \u001b[49m\u001b[43mleft_on\u001b[49m\u001b[38;5;241;43m=\u001b[39;49m\u001b[38;5;124;43m'\u001b[39;49m\u001b[38;5;124;43mAIRLINE\u001b[39;49m\u001b[38;5;124;43m'\u001b[39;49m\u001b[43m,\u001b[49m\u001b[43m \u001b[49m\u001b[43mright_on\u001b[49m\u001b[38;5;241;43m=\u001b[39;49m\u001b[38;5;124;43m'\u001b[39;49m\u001b[38;5;124;43mIATA_CODE\u001b[39;49m\u001b[38;5;124;43m'\u001b[39;49m\u001b[43m,\u001b[49m\u001b[43m \u001b[49m\u001b[43mhow\u001b[49m\u001b[38;5;241;43m=\u001b[39;49m\u001b[38;5;124;43m'\u001b[39;49m\u001b[38;5;124;43minner\u001b[39;49m\u001b[38;5;124;43m'\u001b[39;49m\u001b[43m)\u001b[49m\n",
      "File \u001b[0;32m~/opt/anaconda3/lib/python3.9/site-packages/pandas/core/frame.py:9345\u001b[0m, in \u001b[0;36mDataFrame.merge\u001b[0;34m(self, right, how, on, left_on, right_on, left_index, right_index, sort, suffixes, copy, indicator, validate)\u001b[0m\n\u001b[1;32m   9326\u001b[0m \u001b[38;5;129m@Substitution\u001b[39m(\u001b[38;5;124m\"\u001b[39m\u001b[38;5;124m\"\u001b[39m)\n\u001b[1;32m   9327\u001b[0m \u001b[38;5;129m@Appender\u001b[39m(_merge_doc, indents\u001b[38;5;241m=\u001b[39m\u001b[38;5;241m2\u001b[39m)\n\u001b[1;32m   9328\u001b[0m \u001b[38;5;28;01mdef\u001b[39;00m \u001b[38;5;21mmerge\u001b[39m(\n\u001b[0;32m   (...)\u001b[0m\n\u001b[1;32m   9341\u001b[0m     validate: \u001b[38;5;28mstr\u001b[39m \u001b[38;5;241m|\u001b[39m \u001b[38;5;28;01mNone\u001b[39;00m \u001b[38;5;241m=\u001b[39m \u001b[38;5;28;01mNone\u001b[39;00m,\n\u001b[1;32m   9342\u001b[0m ) \u001b[38;5;241m-\u001b[39m\u001b[38;5;241m>\u001b[39m DataFrame:\n\u001b[1;32m   9343\u001b[0m     \u001b[38;5;28;01mfrom\u001b[39;00m \u001b[38;5;21;01mpandas\u001b[39;00m\u001b[38;5;21;01m.\u001b[39;00m\u001b[38;5;21;01mcore\u001b[39;00m\u001b[38;5;21;01m.\u001b[39;00m\u001b[38;5;21;01mreshape\u001b[39;00m\u001b[38;5;21;01m.\u001b[39;00m\u001b[38;5;21;01mmerge\u001b[39;00m \u001b[38;5;28;01mimport\u001b[39;00m merge\n\u001b[0;32m-> 9345\u001b[0m     \u001b[38;5;28;01mreturn\u001b[39;00m \u001b[43mmerge\u001b[49m\u001b[43m(\u001b[49m\n\u001b[1;32m   9346\u001b[0m \u001b[43m        \u001b[49m\u001b[38;5;28;43mself\u001b[39;49m\u001b[43m,\u001b[49m\n\u001b[1;32m   9347\u001b[0m \u001b[43m        \u001b[49m\u001b[43mright\u001b[49m\u001b[43m,\u001b[49m\n\u001b[1;32m   9348\u001b[0m \u001b[43m        \u001b[49m\u001b[43mhow\u001b[49m\u001b[38;5;241;43m=\u001b[39;49m\u001b[43mhow\u001b[49m\u001b[43m,\u001b[49m\n\u001b[1;32m   9349\u001b[0m \u001b[43m        \u001b[49m\u001b[43mon\u001b[49m\u001b[38;5;241;43m=\u001b[39;49m\u001b[43mon\u001b[49m\u001b[43m,\u001b[49m\n\u001b[1;32m   9350\u001b[0m \u001b[43m        \u001b[49m\u001b[43mleft_on\u001b[49m\u001b[38;5;241;43m=\u001b[39;49m\u001b[43mleft_on\u001b[49m\u001b[43m,\u001b[49m\n\u001b[1;32m   9351\u001b[0m \u001b[43m        \u001b[49m\u001b[43mright_on\u001b[49m\u001b[38;5;241;43m=\u001b[39;49m\u001b[43mright_on\u001b[49m\u001b[43m,\u001b[49m\n\u001b[1;32m   9352\u001b[0m \u001b[43m        \u001b[49m\u001b[43mleft_index\u001b[49m\u001b[38;5;241;43m=\u001b[39;49m\u001b[43mleft_index\u001b[49m\u001b[43m,\u001b[49m\n\u001b[1;32m   9353\u001b[0m \u001b[43m        \u001b[49m\u001b[43mright_index\u001b[49m\u001b[38;5;241;43m=\u001b[39;49m\u001b[43mright_index\u001b[49m\u001b[43m,\u001b[49m\n\u001b[1;32m   9354\u001b[0m \u001b[43m        \u001b[49m\u001b[43msort\u001b[49m\u001b[38;5;241;43m=\u001b[39;49m\u001b[43msort\u001b[49m\u001b[43m,\u001b[49m\n\u001b[1;32m   9355\u001b[0m \u001b[43m        \u001b[49m\u001b[43msuffixes\u001b[49m\u001b[38;5;241;43m=\u001b[39;49m\u001b[43msuffixes\u001b[49m\u001b[43m,\u001b[49m\n\u001b[1;32m   9356\u001b[0m \u001b[43m        \u001b[49m\u001b[43mcopy\u001b[49m\u001b[38;5;241;43m=\u001b[39;49m\u001b[43mcopy\u001b[49m\u001b[43m,\u001b[49m\n\u001b[1;32m   9357\u001b[0m \u001b[43m        \u001b[49m\u001b[43mindicator\u001b[49m\u001b[38;5;241;43m=\u001b[39;49m\u001b[43mindicator\u001b[49m\u001b[43m,\u001b[49m\n\u001b[1;32m   9358\u001b[0m \u001b[43m        \u001b[49m\u001b[43mvalidate\u001b[49m\u001b[38;5;241;43m=\u001b[39;49m\u001b[43mvalidate\u001b[49m\u001b[43m,\u001b[49m\n\u001b[1;32m   9359\u001b[0m \u001b[43m    \u001b[49m\u001b[43m)\u001b[49m\n",
      "File \u001b[0;32m~/opt/anaconda3/lib/python3.9/site-packages/pandas/core/reshape/merge.py:107\u001b[0m, in \u001b[0;36mmerge\u001b[0;34m(left, right, how, on, left_on, right_on, left_index, right_index, sort, suffixes, copy, indicator, validate)\u001b[0m\n\u001b[1;32m     90\u001b[0m \u001b[38;5;129m@Substitution\u001b[39m(\u001b[38;5;124m\"\u001b[39m\u001b[38;5;130;01m\\n\u001b[39;00m\u001b[38;5;124mleft : DataFrame or named Series\u001b[39m\u001b[38;5;124m\"\u001b[39m)\n\u001b[1;32m     91\u001b[0m \u001b[38;5;129m@Appender\u001b[39m(_merge_doc, indents\u001b[38;5;241m=\u001b[39m\u001b[38;5;241m0\u001b[39m)\n\u001b[1;32m     92\u001b[0m \u001b[38;5;28;01mdef\u001b[39;00m \u001b[38;5;21mmerge\u001b[39m(\n\u001b[0;32m   (...)\u001b[0m\n\u001b[1;32m    105\u001b[0m     validate: \u001b[38;5;28mstr\u001b[39m \u001b[38;5;241m|\u001b[39m \u001b[38;5;28;01mNone\u001b[39;00m \u001b[38;5;241m=\u001b[39m \u001b[38;5;28;01mNone\u001b[39;00m,\n\u001b[1;32m    106\u001b[0m ) \u001b[38;5;241m-\u001b[39m\u001b[38;5;241m>\u001b[39m DataFrame:\n\u001b[0;32m--> 107\u001b[0m     op \u001b[38;5;241m=\u001b[39m \u001b[43m_MergeOperation\u001b[49m\u001b[43m(\u001b[49m\n\u001b[1;32m    108\u001b[0m \u001b[43m        \u001b[49m\u001b[43mleft\u001b[49m\u001b[43m,\u001b[49m\n\u001b[1;32m    109\u001b[0m \u001b[43m        \u001b[49m\u001b[43mright\u001b[49m\u001b[43m,\u001b[49m\n\u001b[1;32m    110\u001b[0m \u001b[43m        \u001b[49m\u001b[43mhow\u001b[49m\u001b[38;5;241;43m=\u001b[39;49m\u001b[43mhow\u001b[49m\u001b[43m,\u001b[49m\n\u001b[1;32m    111\u001b[0m \u001b[43m        \u001b[49m\u001b[43mon\u001b[49m\u001b[38;5;241;43m=\u001b[39;49m\u001b[43mon\u001b[49m\u001b[43m,\u001b[49m\n\u001b[1;32m    112\u001b[0m \u001b[43m        \u001b[49m\u001b[43mleft_on\u001b[49m\u001b[38;5;241;43m=\u001b[39;49m\u001b[43mleft_on\u001b[49m\u001b[43m,\u001b[49m\n\u001b[1;32m    113\u001b[0m \u001b[43m        \u001b[49m\u001b[43mright_on\u001b[49m\u001b[38;5;241;43m=\u001b[39;49m\u001b[43mright_on\u001b[49m\u001b[43m,\u001b[49m\n\u001b[1;32m    114\u001b[0m \u001b[43m        \u001b[49m\u001b[43mleft_index\u001b[49m\u001b[38;5;241;43m=\u001b[39;49m\u001b[43mleft_index\u001b[49m\u001b[43m,\u001b[49m\n\u001b[1;32m    115\u001b[0m \u001b[43m        \u001b[49m\u001b[43mright_index\u001b[49m\u001b[38;5;241;43m=\u001b[39;49m\u001b[43mright_index\u001b[49m\u001b[43m,\u001b[49m\n\u001b[1;32m    116\u001b[0m \u001b[43m        \u001b[49m\u001b[43msort\u001b[49m\u001b[38;5;241;43m=\u001b[39;49m\u001b[43msort\u001b[49m\u001b[43m,\u001b[49m\n\u001b[1;32m    117\u001b[0m \u001b[43m        \u001b[49m\u001b[43msuffixes\u001b[49m\u001b[38;5;241;43m=\u001b[39;49m\u001b[43msuffixes\u001b[49m\u001b[43m,\u001b[49m\n\u001b[1;32m    118\u001b[0m \u001b[43m        \u001b[49m\u001b[43mcopy\u001b[49m\u001b[38;5;241;43m=\u001b[39;49m\u001b[43mcopy\u001b[49m\u001b[43m,\u001b[49m\n\u001b[1;32m    119\u001b[0m \u001b[43m        \u001b[49m\u001b[43mindicator\u001b[49m\u001b[38;5;241;43m=\u001b[39;49m\u001b[43mindicator\u001b[49m\u001b[43m,\u001b[49m\n\u001b[1;32m    120\u001b[0m \u001b[43m        \u001b[49m\u001b[43mvalidate\u001b[49m\u001b[38;5;241;43m=\u001b[39;49m\u001b[43mvalidate\u001b[49m\u001b[43m,\u001b[49m\n\u001b[1;32m    121\u001b[0m \u001b[43m    \u001b[49m\u001b[43m)\u001b[49m\n\u001b[1;32m    122\u001b[0m     \u001b[38;5;28;01mreturn\u001b[39;00m op\u001b[38;5;241m.\u001b[39mget_result()\n",
      "File \u001b[0;32m~/opt/anaconda3/lib/python3.9/site-packages/pandas/core/reshape/merge.py:629\u001b[0m, in \u001b[0;36m_MergeOperation.__init__\u001b[0;34m(self, left, right, how, on, left_on, right_on, axis, left_index, right_index, sort, suffixes, copy, indicator, validate)\u001b[0m\n\u001b[1;32m    611\u001b[0m \u001b[38;5;28;01mdef\u001b[39;00m \u001b[38;5;21m__init__\u001b[39m(\n\u001b[1;32m    612\u001b[0m     \u001b[38;5;28mself\u001b[39m,\n\u001b[1;32m    613\u001b[0m     left: DataFrame \u001b[38;5;241m|\u001b[39m Series,\n\u001b[0;32m   (...)\u001b[0m\n\u001b[1;32m    626\u001b[0m     validate: \u001b[38;5;28mstr\u001b[39m \u001b[38;5;241m|\u001b[39m \u001b[38;5;28;01mNone\u001b[39;00m \u001b[38;5;241m=\u001b[39m \u001b[38;5;28;01mNone\u001b[39;00m,\n\u001b[1;32m    627\u001b[0m ):\n\u001b[1;32m    628\u001b[0m     _left \u001b[38;5;241m=\u001b[39m _validate_operand(left)\n\u001b[0;32m--> 629\u001b[0m     _right \u001b[38;5;241m=\u001b[39m \u001b[43m_validate_operand\u001b[49m\u001b[43m(\u001b[49m\u001b[43mright\u001b[49m\u001b[43m)\u001b[49m\n\u001b[1;32m    630\u001b[0m     \u001b[38;5;28mself\u001b[39m\u001b[38;5;241m.\u001b[39mleft \u001b[38;5;241m=\u001b[39m \u001b[38;5;28mself\u001b[39m\u001b[38;5;241m.\u001b[39morig_left \u001b[38;5;241m=\u001b[39m _left\n\u001b[1;32m    631\u001b[0m     \u001b[38;5;28mself\u001b[39m\u001b[38;5;241m.\u001b[39mright \u001b[38;5;241m=\u001b[39m \u001b[38;5;28mself\u001b[39m\u001b[38;5;241m.\u001b[39morig_right \u001b[38;5;241m=\u001b[39m _right\n",
      "File \u001b[0;32m~/opt/anaconda3/lib/python3.9/site-packages/pandas/core/reshape/merge.py:2281\u001b[0m, in \u001b[0;36m_validate_operand\u001b[0;34m(obj)\u001b[0m\n\u001b[1;32m   2279\u001b[0m         \u001b[38;5;28;01mreturn\u001b[39;00m obj\u001b[38;5;241m.\u001b[39mto_frame()\n\u001b[1;32m   2280\u001b[0m \u001b[38;5;28;01melse\u001b[39;00m:\n\u001b[0;32m-> 2281\u001b[0m     \u001b[38;5;28;01mraise\u001b[39;00m \u001b[38;5;167;01mTypeError\u001b[39;00m(\n\u001b[1;32m   2282\u001b[0m         \u001b[38;5;124mf\u001b[39m\u001b[38;5;124m\"\u001b[39m\u001b[38;5;124mCan only merge Series or DataFrame objects, a \u001b[39m\u001b[38;5;132;01m{\u001b[39;00m\u001b[38;5;28mtype\u001b[39m(obj)\u001b[38;5;132;01m}\u001b[39;00m\u001b[38;5;124m was passed\u001b[39m\u001b[38;5;124m\"\u001b[39m\n\u001b[1;32m   2283\u001b[0m     )\n",
      "\u001b[0;31mTypeError\u001b[0m: Can only merge Series or DataFrame objects, a <class 'dict'> was passed"
     ]
    }
   ],
   "source": [
    "flights2 = flights2.merge(airlines, left_on='AIRLINE', right_on='IATA_CODE', how='inner')"
   ]
  },
  {
   "cell_type": "code",
   "execution_count": null,
   "metadata": {
    "colab": {},
    "colab_type": "code",
    "id": "EbsdzmRvt9JS"
   },
   "outputs": [],
   "source": [
    "flights2 = flights2.drop(['AIRLINE_x','IATA_CODE'], axis=1)"
   ]
  },
  {
   "cell_type": "code",
   "execution_count": null,
   "metadata": {
    "colab": {},
    "colab_type": "code",
    "id": "sEhKw8iyt9JU"
   },
   "outputs": [],
   "source": [
    "flights2 = flights2.rename(columns={\"AIRLINE_y\":\"AIRLINE\"})"
   ]
  },
  {
   "cell_type": "code",
   "execution_count": 64,
   "metadata": {
    "colab": {},
    "colab_type": "code",
    "id": "z5tuGkCtt9JV"
   },
   "outputs": [],
   "source": [
    "flights2 = flights2.merge(airport, left_on='ORIGIN_AIRPORT', right_on='IATA_CODE', how='inner')\n",
    "flights2 = flights2.merge(airport, left_on='DESTINATION_AIRPORT', right_on='IATA_CODE', how='inner')"
   ]
  },
  {
   "cell_type": "code",
   "execution_count": 65,
   "metadata": {
    "colab": {
     "base_uri": "https://localhost:8080/",
     "height": 204
    },
    "colab_type": "code",
    "executionInfo": {
     "elapsed": 65225,
     "status": "ok",
     "timestamp": 1575595181164,
     "user": {
      "displayName": "Pranay Kumar",
      "photoUrl": "https://lh3.googleusercontent.com/a-/AAuE7mCd3J-wiaTRAMsTWOz4AF74B4RjDuGp-6w772_RNQ=s64",
      "userId": "17671873586329970946"
     },
     "user_tz": 300
    },
    "id": "ufDRoOkEt9JW",
    "outputId": "096943dc-59e9-4ad4-a34e-8d575df50835"
   },
   "outputs": [
    {
     "data": {
      "text/plain": [
       "Index(['YEAR', 'MONTH', 'DAY', 'DAY_OF_WEEK', 'AIRLINE', 'FLIGHT_NUMBER',\n",
       "       'TAIL_NUMBER', 'ORIGIN_AIRPORT', 'DESTINATION_AIRPORT',\n",
       "       'SCHEDULED_DEPARTURE', 'DEPARTURE_TIME', 'DEPARTURE_DELAY', 'TAXI_OUT',\n",
       "       'WHEELS_OFF', 'SCHEDULED_TIME', 'ELAPSED_TIME', 'AIR_TIME', 'DISTANCE',\n",
       "       'WHEELS_ON', 'TAXI_IN', 'SCHEDULED_ARRIVAL', 'ARRIVAL_TIME',\n",
       "       'ARRIVAL_DELAY', 'DIVERTED', 'CANCELLED', 'DELAY_LEVEL',\n",
       "       'Actual_Departure', 'Date', 'Day', 'Scheduled_Arrival',\n",
       "       'Scheduled_Departure', 'Actual_Arrival', 'IATA_CODE_x', 'AIRPORT_x',\n",
       "       'CITY_x', 'STATE_x', 'COUNTRY_x', 'LATITUDE_x', 'LONGITUDE_x',\n",
       "       'IATA_CODE_y', 'AIRPORT_y', 'CITY_y', 'STATE_y', 'COUNTRY_y',\n",
       "       'LATITUDE_y', 'LONGITUDE_y'],\n",
       "      dtype='object')"
      ]
     },
     "execution_count": 65,
     "metadata": {},
     "output_type": "execute_result"
    }
   ],
   "source": [
    "flights2.columns"
   ]
  },
  {
   "cell_type": "code",
   "execution_count": 66,
   "metadata": {
    "colab": {},
    "colab_type": "code",
    "id": "riMLPlOht9JY"
   },
   "outputs": [],
   "source": [
    "flights2 = flights2.drop(['LATITUDE_x', 'LONGITUDE_x',\n",
    "       'STATE_y', 'COUNTRY_y', 'LATITUDE_y', 'LONGITUDE_y','STATE_x', 'COUNTRY_x'], axis=1)"
   ]
  },
  {
   "cell_type": "code",
   "execution_count": 67,
   "metadata": {
    "colab": {},
    "colab_type": "code",
    "id": "HbcAzZ36t9Ja"
   },
   "outputs": [],
   "source": [
    "flights2 = flights2.rename(columns={'IATA_CODE_x':'Org_Airport_Code','AIRPORT_x':'Org_Airport_Name','CITY_x':'Origin_city',\n",
    "                             'IATA_CODE_y':'Dest_Airport_Code','AIRPORT_y':'Dest_Airport_Name','CITY_y':'Destination_city'})"
   ]
  },
  {
   "cell_type": "code",
   "execution_count": 68,
   "metadata": {
    "colab": {
     "base_uri": "https://localhost:8080/",
     "height": 779
    },
    "colab_type": "code",
    "executionInfo": {
     "elapsed": 1814,
     "status": "ok",
     "timestamp": 1575595198614,
     "user": {
      "displayName": "Pranay Kumar",
      "photoUrl": "https://lh3.googleusercontent.com/a-/AAuE7mCd3J-wiaTRAMsTWOz4AF74B4RjDuGp-6w772_RNQ=s64",
      "userId": "17671873586329970946"
     },
     "user_tz": 300
    },
    "id": "eIggCgiSt9Jb",
    "outputId": "f4a2ffa4-c354-4d4a-c55a-85408ab7e9a8"
   },
   "outputs": [
    {
     "data": {
      "text/html": [
       "<div>\n",
       "<style scoped>\n",
       "    .dataframe tbody tr th:only-of-type {\n",
       "        vertical-align: middle;\n",
       "    }\n",
       "\n",
       "    .dataframe tbody tr th {\n",
       "        vertical-align: top;\n",
       "    }\n",
       "\n",
       "    .dataframe thead th {\n",
       "        text-align: right;\n",
       "    }\n",
       "</style>\n",
       "<table border=\"1\" class=\"dataframe\">\n",
       "  <thead>\n",
       "    <tr style=\"text-align: right;\">\n",
       "      <th></th>\n",
       "      <th>YEAR</th>\n",
       "      <th>MONTH</th>\n",
       "      <th>DAY</th>\n",
       "      <th>DAY_OF_WEEK</th>\n",
       "      <th>AIRLINE</th>\n",
       "      <th>FLIGHT_NUMBER</th>\n",
       "      <th>TAIL_NUMBER</th>\n",
       "      <th>ORIGIN_AIRPORT</th>\n",
       "      <th>DESTINATION_AIRPORT</th>\n",
       "      <th>SCHEDULED_DEPARTURE</th>\n",
       "      <th>...</th>\n",
       "      <th>Day</th>\n",
       "      <th>Scheduled_Arrival</th>\n",
       "      <th>Scheduled_Departure</th>\n",
       "      <th>Actual_Arrival</th>\n",
       "      <th>Org_Airport_Code</th>\n",
       "      <th>Org_Airport_Name</th>\n",
       "      <th>Origin_city</th>\n",
       "      <th>Dest_Airport_Code</th>\n",
       "      <th>Dest_Airport_Name</th>\n",
       "      <th>Destination_city</th>\n",
       "    </tr>\n",
       "  </thead>\n",
       "  <tbody>\n",
       "    <tr>\n",
       "      <th>0</th>\n",
       "      <td>2015</td>\n",
       "      <td>1</td>\n",
       "      <td>1</td>\n",
       "      <td>4</td>\n",
       "      <td>AS</td>\n",
       "      <td>98</td>\n",
       "      <td>N407AS</td>\n",
       "      <td>ANC</td>\n",
       "      <td>SEA</td>\n",
       "      <td>5</td>\n",
       "      <td>...</td>\n",
       "      <td>Thursday</td>\n",
       "      <td>04:30:00</td>\n",
       "      <td>00:05:00</td>\n",
       "      <td>04:08:00</td>\n",
       "      <td>ANC</td>\n",
       "      <td>Ted Stevens Anchorage International Airport</td>\n",
       "      <td>Anchorage</td>\n",
       "      <td>SEA</td>\n",
       "      <td>Seattle-Tacoma International Airport</td>\n",
       "      <td>Seattle</td>\n",
       "    </tr>\n",
       "    <tr>\n",
       "      <th>1</th>\n",
       "      <td>2015</td>\n",
       "      <td>1</td>\n",
       "      <td>1</td>\n",
       "      <td>4</td>\n",
       "      <td>AS</td>\n",
       "      <td>108</td>\n",
       "      <td>N309AS</td>\n",
       "      <td>ANC</td>\n",
       "      <td>SEA</td>\n",
       "      <td>45</td>\n",
       "      <td>...</td>\n",
       "      <td>Thursday</td>\n",
       "      <td>05:09:00</td>\n",
       "      <td>00:45:00</td>\n",
       "      <td>04:55:00</td>\n",
       "      <td>ANC</td>\n",
       "      <td>Ted Stevens Anchorage International Airport</td>\n",
       "      <td>Anchorage</td>\n",
       "      <td>SEA</td>\n",
       "      <td>Seattle-Tacoma International Airport</td>\n",
       "      <td>Seattle</td>\n",
       "    </tr>\n",
       "    <tr>\n",
       "      <th>2</th>\n",
       "      <td>2015</td>\n",
       "      <td>1</td>\n",
       "      <td>1</td>\n",
       "      <td>4</td>\n",
       "      <td>DL</td>\n",
       "      <td>1560</td>\n",
       "      <td>N3743H</td>\n",
       "      <td>ANC</td>\n",
       "      <td>SEA</td>\n",
       "      <td>45</td>\n",
       "      <td>...</td>\n",
       "      <td>Thursday</td>\n",
       "      <td>05:15:00</td>\n",
       "      <td>00:45:00</td>\n",
       "      <td>04:51:00</td>\n",
       "      <td>ANC</td>\n",
       "      <td>Ted Stevens Anchorage International Airport</td>\n",
       "      <td>Anchorage</td>\n",
       "      <td>SEA</td>\n",
       "      <td>Seattle-Tacoma International Airport</td>\n",
       "      <td>Seattle</td>\n",
       "    </tr>\n",
       "    <tr>\n",
       "      <th>3</th>\n",
       "      <td>2015</td>\n",
       "      <td>1</td>\n",
       "      <td>1</td>\n",
       "      <td>4</td>\n",
       "      <td>AS</td>\n",
       "      <td>134</td>\n",
       "      <td>N464AS</td>\n",
       "      <td>ANC</td>\n",
       "      <td>SEA</td>\n",
       "      <td>155</td>\n",
       "      <td>...</td>\n",
       "      <td>Thursday</td>\n",
       "      <td>06:33:00</td>\n",
       "      <td>01:55:00</td>\n",
       "      <td>05:58:00</td>\n",
       "      <td>ANC</td>\n",
       "      <td>Ted Stevens Anchorage International Airport</td>\n",
       "      <td>Anchorage</td>\n",
       "      <td>SEA</td>\n",
       "      <td>Seattle-Tacoma International Airport</td>\n",
       "      <td>Seattle</td>\n",
       "    </tr>\n",
       "    <tr>\n",
       "      <th>4</th>\n",
       "      <td>2015</td>\n",
       "      <td>1</td>\n",
       "      <td>1</td>\n",
       "      <td>4</td>\n",
       "      <td>AS</td>\n",
       "      <td>114</td>\n",
       "      <td>N303AS</td>\n",
       "      <td>ANC</td>\n",
       "      <td>SEA</td>\n",
       "      <td>220</td>\n",
       "      <td>...</td>\n",
       "      <td>Thursday</td>\n",
       "      <td>06:40:00</td>\n",
       "      <td>02:20:00</td>\n",
       "      <td>06:28:00</td>\n",
       "      <td>ANC</td>\n",
       "      <td>Ted Stevens Anchorage International Airport</td>\n",
       "      <td>Anchorage</td>\n",
       "      <td>SEA</td>\n",
       "      <td>Seattle-Tacoma International Airport</td>\n",
       "      <td>Seattle</td>\n",
       "    </tr>\n",
       "    <tr>\n",
       "      <th>...</th>\n",
       "      <td>...</td>\n",
       "      <td>...</td>\n",
       "      <td>...</td>\n",
       "      <td>...</td>\n",
       "      <td>...</td>\n",
       "      <td>...</td>\n",
       "      <td>...</td>\n",
       "      <td>...</td>\n",
       "      <td>...</td>\n",
       "      <td>...</td>\n",
       "      <td>...</td>\n",
       "      <td>...</td>\n",
       "      <td>...</td>\n",
       "      <td>...</td>\n",
       "      <td>...</td>\n",
       "      <td>...</td>\n",
       "      <td>...</td>\n",
       "      <td>...</td>\n",
       "      <td>...</td>\n",
       "      <td>...</td>\n",
       "      <td>...</td>\n",
       "    </tr>\n",
       "    <tr>\n",
       "      <th>956216</th>\n",
       "      <td>2015</td>\n",
       "      <td>3</td>\n",
       "      <td>4</td>\n",
       "      <td>3</td>\n",
       "      <td>OO</td>\n",
       "      <td>5465</td>\n",
       "      <td>N969SW</td>\n",
       "      <td>JMS</td>\n",
       "      <td>DVL</td>\n",
       "      <td>2318</td>\n",
       "      <td>...</td>\n",
       "      <td>Wednesday</td>\n",
       "      <td>23:56:00</td>\n",
       "      <td>23:18:00</td>\n",
       "      <td>23:43:00</td>\n",
       "      <td>JMS</td>\n",
       "      <td>Jamestown Regional Airport</td>\n",
       "      <td>Jamestown</td>\n",
       "      <td>DVL</td>\n",
       "      <td>Devils Lake Regional Airport</td>\n",
       "      <td>Devils Lake</td>\n",
       "    </tr>\n",
       "    <tr>\n",
       "      <th>956217</th>\n",
       "      <td>2015</td>\n",
       "      <td>3</td>\n",
       "      <td>5</td>\n",
       "      <td>4</td>\n",
       "      <td>OO</td>\n",
       "      <td>5315</td>\n",
       "      <td>N918SW</td>\n",
       "      <td>JMS</td>\n",
       "      <td>DVL</td>\n",
       "      <td>1318</td>\n",
       "      <td>...</td>\n",
       "      <td>Thursday</td>\n",
       "      <td>13:56:00</td>\n",
       "      <td>13:18:00</td>\n",
       "      <td>13:35:00</td>\n",
       "      <td>JMS</td>\n",
       "      <td>Jamestown Regional Airport</td>\n",
       "      <td>Jamestown</td>\n",
       "      <td>DVL</td>\n",
       "      <td>Devils Lake Regional Airport</td>\n",
       "      <td>Devils Lake</td>\n",
       "    </tr>\n",
       "    <tr>\n",
       "      <th>956218</th>\n",
       "      <td>2015</td>\n",
       "      <td>3</td>\n",
       "      <td>5</td>\n",
       "      <td>4</td>\n",
       "      <td>OO</td>\n",
       "      <td>5465</td>\n",
       "      <td>N925SW</td>\n",
       "      <td>JMS</td>\n",
       "      <td>DVL</td>\n",
       "      <td>2318</td>\n",
       "      <td>...</td>\n",
       "      <td>Thursday</td>\n",
       "      <td>23:56:00</td>\n",
       "      <td>23:18:00</td>\n",
       "      <td>23:36:00</td>\n",
       "      <td>JMS</td>\n",
       "      <td>Jamestown Regional Airport</td>\n",
       "      <td>Jamestown</td>\n",
       "      <td>DVL</td>\n",
       "      <td>Devils Lake Regional Airport</td>\n",
       "      <td>Devils Lake</td>\n",
       "    </tr>\n",
       "    <tr>\n",
       "      <th>956219</th>\n",
       "      <td>2015</td>\n",
       "      <td>3</td>\n",
       "      <td>6</td>\n",
       "      <td>5</td>\n",
       "      <td>OO</td>\n",
       "      <td>5315</td>\n",
       "      <td>N932SW</td>\n",
       "      <td>JMS</td>\n",
       "      <td>DVL</td>\n",
       "      <td>1318</td>\n",
       "      <td>...</td>\n",
       "      <td>Friday</td>\n",
       "      <td>13:56:00</td>\n",
       "      <td>13:18:00</td>\n",
       "      <td>14:01:00</td>\n",
       "      <td>JMS</td>\n",
       "      <td>Jamestown Regional Airport</td>\n",
       "      <td>Jamestown</td>\n",
       "      <td>DVL</td>\n",
       "      <td>Devils Lake Regional Airport</td>\n",
       "      <td>Devils Lake</td>\n",
       "    </tr>\n",
       "    <tr>\n",
       "      <th>956220</th>\n",
       "      <td>2015</td>\n",
       "      <td>3</td>\n",
       "      <td>6</td>\n",
       "      <td>5</td>\n",
       "      <td>OO</td>\n",
       "      <td>5465</td>\n",
       "      <td>N962SW</td>\n",
       "      <td>JMS</td>\n",
       "      <td>DVL</td>\n",
       "      <td>2318</td>\n",
       "      <td>...</td>\n",
       "      <td>Friday</td>\n",
       "      <td>23:56:00</td>\n",
       "      <td>23:18:00</td>\n",
       "      <td>23:34:00</td>\n",
       "      <td>JMS</td>\n",
       "      <td>Jamestown Regional Airport</td>\n",
       "      <td>Jamestown</td>\n",
       "      <td>DVL</td>\n",
       "      <td>Devils Lake Regional Airport</td>\n",
       "      <td>Devils Lake</td>\n",
       "    </tr>\n",
       "  </tbody>\n",
       "</table>\n",
       "<p>956221 rows × 38 columns</p>\n",
       "</div>"
      ],
      "text/plain": [
       "        YEAR  MONTH  DAY  DAY_OF_WEEK AIRLINE  FLIGHT_NUMBER TAIL_NUMBER  \\\n",
       "0       2015      1    1            4      AS             98      N407AS   \n",
       "1       2015      1    1            4      AS            108      N309AS   \n",
       "2       2015      1    1            4      DL           1560      N3743H   \n",
       "3       2015      1    1            4      AS            134      N464AS   \n",
       "4       2015      1    1            4      AS            114      N303AS   \n",
       "...      ...    ...  ...          ...     ...            ...         ...   \n",
       "956216  2015      3    4            3      OO           5465      N969SW   \n",
       "956217  2015      3    5            4      OO           5315      N918SW   \n",
       "956218  2015      3    5            4      OO           5465      N925SW   \n",
       "956219  2015      3    6            5      OO           5315      N932SW   \n",
       "956220  2015      3    6            5      OO           5465      N962SW   \n",
       "\n",
       "       ORIGIN_AIRPORT DESTINATION_AIRPORT  SCHEDULED_DEPARTURE  ...  \\\n",
       "0                 ANC                 SEA                    5  ...   \n",
       "1                 ANC                 SEA                   45  ...   \n",
       "2                 ANC                 SEA                   45  ...   \n",
       "3                 ANC                 SEA                  155  ...   \n",
       "4                 ANC                 SEA                  220  ...   \n",
       "...               ...                 ...                  ...  ...   \n",
       "956216            JMS                 DVL                 2318  ...   \n",
       "956217            JMS                 DVL                 1318  ...   \n",
       "956218            JMS                 DVL                 2318  ...   \n",
       "956219            JMS                 DVL                 1318  ...   \n",
       "956220            JMS                 DVL                 2318  ...   \n",
       "\n",
       "              Day  Scheduled_Arrival  Scheduled_Departure  Actual_Arrival  \\\n",
       "0        Thursday           04:30:00             00:05:00        04:08:00   \n",
       "1        Thursday           05:09:00             00:45:00        04:55:00   \n",
       "2        Thursday           05:15:00             00:45:00        04:51:00   \n",
       "3        Thursday           06:33:00             01:55:00        05:58:00   \n",
       "4        Thursday           06:40:00             02:20:00        06:28:00   \n",
       "...           ...                ...                  ...             ...   \n",
       "956216  Wednesday           23:56:00             23:18:00        23:43:00   \n",
       "956217   Thursday           13:56:00             13:18:00        13:35:00   \n",
       "956218   Thursday           23:56:00             23:18:00        23:36:00   \n",
       "956219     Friday           13:56:00             13:18:00        14:01:00   \n",
       "956220     Friday           23:56:00             23:18:00        23:34:00   \n",
       "\n",
       "        Org_Airport_Code                             Org_Airport_Name  \\\n",
       "0                    ANC  Ted Stevens Anchorage International Airport   \n",
       "1                    ANC  Ted Stevens Anchorage International Airport   \n",
       "2                    ANC  Ted Stevens Anchorage International Airport   \n",
       "3                    ANC  Ted Stevens Anchorage International Airport   \n",
       "4                    ANC  Ted Stevens Anchorage International Airport   \n",
       "...                  ...                                          ...   \n",
       "956216               JMS                   Jamestown Regional Airport   \n",
       "956217               JMS                   Jamestown Regional Airport   \n",
       "956218               JMS                   Jamestown Regional Airport   \n",
       "956219               JMS                   Jamestown Regional Airport   \n",
       "956220               JMS                   Jamestown Regional Airport   \n",
       "\n",
       "        Origin_city  Dest_Airport_Code                     Dest_Airport_Name  \\\n",
       "0         Anchorage                SEA  Seattle-Tacoma International Airport   \n",
       "1         Anchorage                SEA  Seattle-Tacoma International Airport   \n",
       "2         Anchorage                SEA  Seattle-Tacoma International Airport   \n",
       "3         Anchorage                SEA  Seattle-Tacoma International Airport   \n",
       "4         Anchorage                SEA  Seattle-Tacoma International Airport   \n",
       "...             ...                ...                                   ...   \n",
       "956216    Jamestown                DVL          Devils Lake Regional Airport   \n",
       "956217    Jamestown                DVL          Devils Lake Regional Airport   \n",
       "956218    Jamestown                DVL          Devils Lake Regional Airport   \n",
       "956219    Jamestown                DVL          Devils Lake Regional Airport   \n",
       "956220    Jamestown                DVL          Devils Lake Regional Airport   \n",
       "\n",
       "        Destination_city  \n",
       "0                Seattle  \n",
       "1                Seattle  \n",
       "2                Seattle  \n",
       "3                Seattle  \n",
       "4                Seattle  \n",
       "...                  ...  \n",
       "956216       Devils Lake  \n",
       "956217       Devils Lake  \n",
       "956218       Devils Lake  \n",
       "956219       Devils Lake  \n",
       "956220       Devils Lake  \n",
       "\n",
       "[956221 rows x 38 columns]"
      ]
     },
     "execution_count": 68,
     "metadata": {},
     "output_type": "execute_result"
    }
   ],
   "source": [
    "flights2"
   ]
  },
  {
   "cell_type": "code",
   "execution_count": 70,
   "metadata": {
    "colab": {},
    "colab_type": "code",
    "id": "AJNa5Md4t9Ji"
   },
   "outputs": [],
   "source": [
    "data_vizual = pd.DataFrame(flights2[['AIRLINE','Org_Airport_Name','Origin_city',\n",
    "                               'Dest_Airport_Name','Destination_city','ORIGIN_AIRPORT',\n",
    "                               'DESTINATION_AIRPORT','DISTANCE','Actual_Departure','Date','Day',\n",
    "                               'Scheduled_Departure','DEPARTURE_DELAY','Actual_Arrival','Scheduled_Arrival','ARRIVAL_DELAY',\n",
    "                              'SCHEDULED_TIME','ELAPSED_TIME','AIR_TIME','TAXI_IN','TAXI_OUT','DIVERTED',]])"
   ]
  },
  {
   "cell_type": "code",
   "execution_count": 71,
   "metadata": {
    "colab": {
     "base_uri": "https://localhost:8080/",
     "height": 34
    },
    "colab_type": "code",
    "executionInfo": {
     "elapsed": 2011,
     "status": "ok",
     "timestamp": 1575595202811,
     "user": {
      "displayName": "Pranay Kumar",
      "photoUrl": "https://lh3.googleusercontent.com/a-/AAuE7mCd3J-wiaTRAMsTWOz4AF74B4RjDuGp-6w772_RNQ=s64",
      "userId": "17671873586329970946"
     },
     "user_tz": 300
    },
    "id": "qfy-gJ93t9Jl",
    "outputId": "d5a86e56-6738-4cea-f981-3b5b26bf59ad"
   },
   "outputs": [
    {
     "data": {
      "text/plain": [
       "dtype('float64')"
      ]
     },
     "execution_count": 71,
     "metadata": {},
     "output_type": "execute_result"
    }
   ],
   "source": [
    "flights2.DEPARTURE_TIME.dtype"
   ]
  },
  {
   "cell_type": "code",
   "execution_count": 72,
   "metadata": {
    "colab": {},
    "colab_type": "code",
    "id": "vdP0FNMtt9Jm"
   },
   "outputs": [],
   "source": [
    "data_vizual = data_vizual.dropna(subset = ['Actual_Departure','Actual_Arrival'])"
   ]
  },
  {
   "cell_type": "code",
   "execution_count": 73,
   "metadata": {
    "colab": {
     "base_uri": "https://localhost:8080/",
     "height": 476
    },
    "colab_type": "code",
    "executionInfo": {
     "elapsed": 4969,
     "status": "ok",
     "timestamp": 1575595207539,
     "user": {
      "displayName": "Pranay Kumar",
      "photoUrl": "https://lh3.googleusercontent.com/a-/AAuE7mCd3J-wiaTRAMsTWOz4AF74B4RjDuGp-6w772_RNQ=s64",
      "userId": "17671873586329970946"
     },
     "user_tz": 300
    },
    "id": "3J2mx2Eat9Jp",
    "outputId": "65bcb1dc-0620-4bae-83b8-b6719784c28f"
   },
   "outputs": [
    {
     "name": "stdout",
     "output_type": "stream",
     "text": [
      "<class 'pandas.core.frame.DataFrame'>\n",
      "Int64Index: 955807 entries, 0 to 956220\n",
      "Data columns (total 22 columns):\n",
      " #   Column               Non-Null Count   Dtype         \n",
      "---  ------               --------------   -----         \n",
      " 0   AIRLINE              955807 non-null  object        \n",
      " 1   Org_Airport_Name     955807 non-null  object        \n",
      " 2   Origin_city          955807 non-null  object        \n",
      " 3   Dest_Airport_Name    955807 non-null  object        \n",
      " 4   Destination_city     955807 non-null  object        \n",
      " 5   ORIGIN_AIRPORT       955807 non-null  object        \n",
      " 6   DESTINATION_AIRPORT  955807 non-null  object        \n",
      " 7   DISTANCE             955807 non-null  int64         \n",
      " 8   Actual_Departure     955807 non-null  object        \n",
      " 9   Date                 955807 non-null  datetime64[ns]\n",
      " 10  Day                  955807 non-null  object        \n",
      " 11  Scheduled_Departure  955807 non-null  object        \n",
      " 12  DEPARTURE_DELAY      955807 non-null  float64       \n",
      " 13  Actual_Arrival       955807 non-null  object        \n",
      " 14  Scheduled_Arrival    955807 non-null  object        \n",
      " 15  ARRIVAL_DELAY        955807 non-null  float64       \n",
      " 16  SCHEDULED_TIME       955807 non-null  float64       \n",
      " 17  ELAPSED_TIME         955807 non-null  float64       \n",
      " 18  AIR_TIME             955807 non-null  float64       \n",
      " 19  TAXI_IN              955807 non-null  float64       \n",
      " 20  TAXI_OUT             955807 non-null  float64       \n",
      " 21  DIVERTED             955807 non-null  int64         \n",
      "dtypes: datetime64[ns](1), float64(7), int64(2), object(12)\n",
      "memory usage: 167.7+ MB\n"
     ]
    }
   ],
   "source": [
    "data_vizual.info()"
   ]
  },
  {
   "cell_type": "code",
   "execution_count": 74,
   "metadata": {
    "colab": {
     "base_uri": "https://localhost:8080/",
     "height": 779
    },
    "colab_type": "code",
    "executionInfo": {
     "elapsed": 3070,
     "status": "ok",
     "timestamp": 1575595207540,
     "user": {
      "displayName": "Pranay Kumar",
      "photoUrl": "https://lh3.googleusercontent.com/a-/AAuE7mCd3J-wiaTRAMsTWOz4AF74B4RjDuGp-6w772_RNQ=s64",
      "userId": "17671873586329970946"
     },
     "user_tz": 300
    },
    "id": "N2FuiRldt9Jr",
    "outputId": "5cce948d-6c97-4463-e745-ad0f4a9ea5f2"
   },
   "outputs": [
    {
     "data": {
      "text/html": [
       "<div>\n",
       "<style scoped>\n",
       "    .dataframe tbody tr th:only-of-type {\n",
       "        vertical-align: middle;\n",
       "    }\n",
       "\n",
       "    .dataframe tbody tr th {\n",
       "        vertical-align: top;\n",
       "    }\n",
       "\n",
       "    .dataframe thead th {\n",
       "        text-align: right;\n",
       "    }\n",
       "</style>\n",
       "<table border=\"1\" class=\"dataframe\">\n",
       "  <thead>\n",
       "    <tr style=\"text-align: right;\">\n",
       "      <th></th>\n",
       "      <th>AIRLINE</th>\n",
       "      <th>Org_Airport_Name</th>\n",
       "      <th>Origin_city</th>\n",
       "      <th>Dest_Airport_Name</th>\n",
       "      <th>Destination_city</th>\n",
       "      <th>ORIGIN_AIRPORT</th>\n",
       "      <th>DESTINATION_AIRPORT</th>\n",
       "      <th>DISTANCE</th>\n",
       "      <th>Actual_Departure</th>\n",
       "      <th>Date</th>\n",
       "      <th>...</th>\n",
       "      <th>DEPARTURE_DELAY</th>\n",
       "      <th>Actual_Arrival</th>\n",
       "      <th>Scheduled_Arrival</th>\n",
       "      <th>ARRIVAL_DELAY</th>\n",
       "      <th>SCHEDULED_TIME</th>\n",
       "      <th>ELAPSED_TIME</th>\n",
       "      <th>AIR_TIME</th>\n",
       "      <th>TAXI_IN</th>\n",
       "      <th>TAXI_OUT</th>\n",
       "      <th>DIVERTED</th>\n",
       "    </tr>\n",
       "  </thead>\n",
       "  <tbody>\n",
       "    <tr>\n",
       "      <th>0</th>\n",
       "      <td>AS</td>\n",
       "      <td>Ted Stevens Anchorage International Airport</td>\n",
       "      <td>Anchorage</td>\n",
       "      <td>Seattle-Tacoma International Airport</td>\n",
       "      <td>Seattle</td>\n",
       "      <td>ANC</td>\n",
       "      <td>SEA</td>\n",
       "      <td>1448</td>\n",
       "      <td>23:54:00</td>\n",
       "      <td>2015-01-01</td>\n",
       "      <td>...</td>\n",
       "      <td>-11.0</td>\n",
       "      <td>04:08:00</td>\n",
       "      <td>04:30:00</td>\n",
       "      <td>-22.0</td>\n",
       "      <td>205.0</td>\n",
       "      <td>194.0</td>\n",
       "      <td>169.0</td>\n",
       "      <td>4.0</td>\n",
       "      <td>21.0</td>\n",
       "      <td>0</td>\n",
       "    </tr>\n",
       "    <tr>\n",
       "      <th>1</th>\n",
       "      <td>AS</td>\n",
       "      <td>Ted Stevens Anchorage International Airport</td>\n",
       "      <td>Anchorage</td>\n",
       "      <td>Seattle-Tacoma International Airport</td>\n",
       "      <td>Seattle</td>\n",
       "      <td>ANC</td>\n",
       "      <td>SEA</td>\n",
       "      <td>1448</td>\n",
       "      <td>00:41:00</td>\n",
       "      <td>2015-01-01</td>\n",
       "      <td>...</td>\n",
       "      <td>-4.0</td>\n",
       "      <td>04:55:00</td>\n",
       "      <td>05:09:00</td>\n",
       "      <td>-14.0</td>\n",
       "      <td>204.0</td>\n",
       "      <td>194.0</td>\n",
       "      <td>173.0</td>\n",
       "      <td>4.0</td>\n",
       "      <td>17.0</td>\n",
       "      <td>0</td>\n",
       "    </tr>\n",
       "    <tr>\n",
       "      <th>2</th>\n",
       "      <td>DL</td>\n",
       "      <td>Ted Stevens Anchorage International Airport</td>\n",
       "      <td>Anchorage</td>\n",
       "      <td>Seattle-Tacoma International Airport</td>\n",
       "      <td>Seattle</td>\n",
       "      <td>ANC</td>\n",
       "      <td>SEA</td>\n",
       "      <td>1448</td>\n",
       "      <td>00:31:00</td>\n",
       "      <td>2015-01-01</td>\n",
       "      <td>...</td>\n",
       "      <td>-14.0</td>\n",
       "      <td>04:51:00</td>\n",
       "      <td>05:15:00</td>\n",
       "      <td>-24.0</td>\n",
       "      <td>210.0</td>\n",
       "      <td>200.0</td>\n",
       "      <td>171.0</td>\n",
       "      <td>4.0</td>\n",
       "      <td>25.0</td>\n",
       "      <td>0</td>\n",
       "    </tr>\n",
       "    <tr>\n",
       "      <th>3</th>\n",
       "      <td>AS</td>\n",
       "      <td>Ted Stevens Anchorage International Airport</td>\n",
       "      <td>Anchorage</td>\n",
       "      <td>Seattle-Tacoma International Airport</td>\n",
       "      <td>Seattle</td>\n",
       "      <td>ANC</td>\n",
       "      <td>SEA</td>\n",
       "      <td>1448</td>\n",
       "      <td>01:40:00</td>\n",
       "      <td>2015-01-01</td>\n",
       "      <td>...</td>\n",
       "      <td>-15.0</td>\n",
       "      <td>05:58:00</td>\n",
       "      <td>06:33:00</td>\n",
       "      <td>-35.0</td>\n",
       "      <td>218.0</td>\n",
       "      <td>198.0</td>\n",
       "      <td>170.0</td>\n",
       "      <td>11.0</td>\n",
       "      <td>17.0</td>\n",
       "      <td>0</td>\n",
       "    </tr>\n",
       "    <tr>\n",
       "      <th>4</th>\n",
       "      <td>AS</td>\n",
       "      <td>Ted Stevens Anchorage International Airport</td>\n",
       "      <td>Anchorage</td>\n",
       "      <td>Seattle-Tacoma International Airport</td>\n",
       "      <td>Seattle</td>\n",
       "      <td>ANC</td>\n",
       "      <td>SEA</td>\n",
       "      <td>1448</td>\n",
       "      <td>02:09:00</td>\n",
       "      <td>2015-01-01</td>\n",
       "      <td>...</td>\n",
       "      <td>-11.0</td>\n",
       "      <td>06:28:00</td>\n",
       "      <td>06:40:00</td>\n",
       "      <td>-12.0</td>\n",
       "      <td>200.0</td>\n",
       "      <td>199.0</td>\n",
       "      <td>176.0</td>\n",
       "      <td>8.0</td>\n",
       "      <td>15.0</td>\n",
       "      <td>0</td>\n",
       "    </tr>\n",
       "    <tr>\n",
       "      <th>...</th>\n",
       "      <td>...</td>\n",
       "      <td>...</td>\n",
       "      <td>...</td>\n",
       "      <td>...</td>\n",
       "      <td>...</td>\n",
       "      <td>...</td>\n",
       "      <td>...</td>\n",
       "      <td>...</td>\n",
       "      <td>...</td>\n",
       "      <td>...</td>\n",
       "      <td>...</td>\n",
       "      <td>...</td>\n",
       "      <td>...</td>\n",
       "      <td>...</td>\n",
       "      <td>...</td>\n",
       "      <td>...</td>\n",
       "      <td>...</td>\n",
       "      <td>...</td>\n",
       "      <td>...</td>\n",
       "      <td>...</td>\n",
       "      <td>...</td>\n",
       "    </tr>\n",
       "    <tr>\n",
       "      <th>956216</th>\n",
       "      <td>OO</td>\n",
       "      <td>Jamestown Regional Airport</td>\n",
       "      <td>Jamestown</td>\n",
       "      <td>Devils Lake Regional Airport</td>\n",
       "      <td>Devils Lake</td>\n",
       "      <td>JMS</td>\n",
       "      <td>DVL</td>\n",
       "      <td>83</td>\n",
       "      <td>23:05:00</td>\n",
       "      <td>2015-03-04</td>\n",
       "      <td>...</td>\n",
       "      <td>-13.0</td>\n",
       "      <td>23:43:00</td>\n",
       "      <td>23:56:00</td>\n",
       "      <td>-13.0</td>\n",
       "      <td>38.0</td>\n",
       "      <td>38.0</td>\n",
       "      <td>19.0</td>\n",
       "      <td>8.0</td>\n",
       "      <td>11.0</td>\n",
       "      <td>0</td>\n",
       "    </tr>\n",
       "    <tr>\n",
       "      <th>956217</th>\n",
       "      <td>OO</td>\n",
       "      <td>Jamestown Regional Airport</td>\n",
       "      <td>Jamestown</td>\n",
       "      <td>Devils Lake Regional Airport</td>\n",
       "      <td>Devils Lake</td>\n",
       "      <td>JMS</td>\n",
       "      <td>DVL</td>\n",
       "      <td>83</td>\n",
       "      <td>13:01:00</td>\n",
       "      <td>2015-03-05</td>\n",
       "      <td>...</td>\n",
       "      <td>-17.0</td>\n",
       "      <td>13:35:00</td>\n",
       "      <td>13:56:00</td>\n",
       "      <td>-21.0</td>\n",
       "      <td>38.0</td>\n",
       "      <td>34.0</td>\n",
       "      <td>20.0</td>\n",
       "      <td>4.0</td>\n",
       "      <td>10.0</td>\n",
       "      <td>0</td>\n",
       "    </tr>\n",
       "    <tr>\n",
       "      <th>956218</th>\n",
       "      <td>OO</td>\n",
       "      <td>Jamestown Regional Airport</td>\n",
       "      <td>Jamestown</td>\n",
       "      <td>Devils Lake Regional Airport</td>\n",
       "      <td>Devils Lake</td>\n",
       "      <td>JMS</td>\n",
       "      <td>DVL</td>\n",
       "      <td>83</td>\n",
       "      <td>23:05:00</td>\n",
       "      <td>2015-03-05</td>\n",
       "      <td>...</td>\n",
       "      <td>-13.0</td>\n",
       "      <td>23:36:00</td>\n",
       "      <td>23:56:00</td>\n",
       "      <td>-20.0</td>\n",
       "      <td>38.0</td>\n",
       "      <td>31.0</td>\n",
       "      <td>18.0</td>\n",
       "      <td>5.0</td>\n",
       "      <td>8.0</td>\n",
       "      <td>0</td>\n",
       "    </tr>\n",
       "    <tr>\n",
       "      <th>956219</th>\n",
       "      <td>OO</td>\n",
       "      <td>Jamestown Regional Airport</td>\n",
       "      <td>Jamestown</td>\n",
       "      <td>Devils Lake Regional Airport</td>\n",
       "      <td>Devils Lake</td>\n",
       "      <td>JMS</td>\n",
       "      <td>DVL</td>\n",
       "      <td>83</td>\n",
       "      <td>13:25:00</td>\n",
       "      <td>2015-03-06</td>\n",
       "      <td>...</td>\n",
       "      <td>7.0</td>\n",
       "      <td>14:01:00</td>\n",
       "      <td>13:56:00</td>\n",
       "      <td>5.0</td>\n",
       "      <td>38.0</td>\n",
       "      <td>36.0</td>\n",
       "      <td>19.0</td>\n",
       "      <td>5.0</td>\n",
       "      <td>12.0</td>\n",
       "      <td>0</td>\n",
       "    </tr>\n",
       "    <tr>\n",
       "      <th>956220</th>\n",
       "      <td>OO</td>\n",
       "      <td>Jamestown Regional Airport</td>\n",
       "      <td>Jamestown</td>\n",
       "      <td>Devils Lake Regional Airport</td>\n",
       "      <td>Devils Lake</td>\n",
       "      <td>JMS</td>\n",
       "      <td>DVL</td>\n",
       "      <td>83</td>\n",
       "      <td>22:56:00</td>\n",
       "      <td>2015-03-06</td>\n",
       "      <td>...</td>\n",
       "      <td>-22.0</td>\n",
       "      <td>23:34:00</td>\n",
       "      <td>23:56:00</td>\n",
       "      <td>-22.0</td>\n",
       "      <td>38.0</td>\n",
       "      <td>38.0</td>\n",
       "      <td>20.0</td>\n",
       "      <td>6.0</td>\n",
       "      <td>12.0</td>\n",
       "      <td>0</td>\n",
       "    </tr>\n",
       "  </tbody>\n",
       "</table>\n",
       "<p>955807 rows × 22 columns</p>\n",
       "</div>"
      ],
      "text/plain": [
       "       AIRLINE                             Org_Airport_Name Origin_city  \\\n",
       "0           AS  Ted Stevens Anchorage International Airport   Anchorage   \n",
       "1           AS  Ted Stevens Anchorage International Airport   Anchorage   \n",
       "2           DL  Ted Stevens Anchorage International Airport   Anchorage   \n",
       "3           AS  Ted Stevens Anchorage International Airport   Anchorage   \n",
       "4           AS  Ted Stevens Anchorage International Airport   Anchorage   \n",
       "...        ...                                          ...         ...   \n",
       "956216      OO                   Jamestown Regional Airport   Jamestown   \n",
       "956217      OO                   Jamestown Regional Airport   Jamestown   \n",
       "956218      OO                   Jamestown Regional Airport   Jamestown   \n",
       "956219      OO                   Jamestown Regional Airport   Jamestown   \n",
       "956220      OO                   Jamestown Regional Airport   Jamestown   \n",
       "\n",
       "                           Dest_Airport_Name Destination_city ORIGIN_AIRPORT  \\\n",
       "0       Seattle-Tacoma International Airport          Seattle            ANC   \n",
       "1       Seattle-Tacoma International Airport          Seattle            ANC   \n",
       "2       Seattle-Tacoma International Airport          Seattle            ANC   \n",
       "3       Seattle-Tacoma International Airport          Seattle            ANC   \n",
       "4       Seattle-Tacoma International Airport          Seattle            ANC   \n",
       "...                                      ...              ...            ...   \n",
       "956216          Devils Lake Regional Airport      Devils Lake            JMS   \n",
       "956217          Devils Lake Regional Airport      Devils Lake            JMS   \n",
       "956218          Devils Lake Regional Airport      Devils Lake            JMS   \n",
       "956219          Devils Lake Regional Airport      Devils Lake            JMS   \n",
       "956220          Devils Lake Regional Airport      Devils Lake            JMS   \n",
       "\n",
       "       DESTINATION_AIRPORT  DISTANCE Actual_Departure       Date  ...  \\\n",
       "0                      SEA      1448         23:54:00 2015-01-01  ...   \n",
       "1                      SEA      1448         00:41:00 2015-01-01  ...   \n",
       "2                      SEA      1448         00:31:00 2015-01-01  ...   \n",
       "3                      SEA      1448         01:40:00 2015-01-01  ...   \n",
       "4                      SEA      1448         02:09:00 2015-01-01  ...   \n",
       "...                    ...       ...              ...        ...  ...   \n",
       "956216                 DVL        83         23:05:00 2015-03-04  ...   \n",
       "956217                 DVL        83         13:01:00 2015-03-05  ...   \n",
       "956218                 DVL        83         23:05:00 2015-03-05  ...   \n",
       "956219                 DVL        83         13:25:00 2015-03-06  ...   \n",
       "956220                 DVL        83         22:56:00 2015-03-06  ...   \n",
       "\n",
       "       DEPARTURE_DELAY Actual_Arrival  Scheduled_Arrival ARRIVAL_DELAY  \\\n",
       "0                -11.0       04:08:00           04:30:00         -22.0   \n",
       "1                 -4.0       04:55:00           05:09:00         -14.0   \n",
       "2                -14.0       04:51:00           05:15:00         -24.0   \n",
       "3                -15.0       05:58:00           06:33:00         -35.0   \n",
       "4                -11.0       06:28:00           06:40:00         -12.0   \n",
       "...                ...            ...                ...           ...   \n",
       "956216           -13.0       23:43:00           23:56:00         -13.0   \n",
       "956217           -17.0       13:35:00           13:56:00         -21.0   \n",
       "956218           -13.0       23:36:00           23:56:00         -20.0   \n",
       "956219             7.0       14:01:00           13:56:00           5.0   \n",
       "956220           -22.0       23:34:00           23:56:00         -22.0   \n",
       "\n",
       "       SCHEDULED_TIME  ELAPSED_TIME  AIR_TIME  TAXI_IN  TAXI_OUT  DIVERTED  \n",
       "0               205.0         194.0     169.0      4.0      21.0         0  \n",
       "1               204.0         194.0     173.0      4.0      17.0         0  \n",
       "2               210.0         200.0     171.0      4.0      25.0         0  \n",
       "3               218.0         198.0     170.0     11.0      17.0         0  \n",
       "4               200.0         199.0     176.0      8.0      15.0         0  \n",
       "...               ...           ...       ...      ...       ...       ...  \n",
       "956216           38.0          38.0      19.0      8.0      11.0         0  \n",
       "956217           38.0          34.0      20.0      4.0      10.0         0  \n",
       "956218           38.0          31.0      18.0      5.0       8.0         0  \n",
       "956219           38.0          36.0      19.0      5.0      12.0         0  \n",
       "956220           38.0          38.0      20.0      6.0      12.0         0  \n",
       "\n",
       "[955807 rows x 22 columns]"
      ]
     },
     "execution_count": 74,
     "metadata": {},
     "output_type": "execute_result"
    }
   ],
   "source": [
    "Flights = data_vizual\n",
    "Flights"
   ]
  },
  {
   "cell_type": "code",
   "execution_count": 77,
   "metadata": {
    "colab": {
     "base_uri": "https://localhost:8080/",
     "height": 729
    },
    "colab_type": "code",
    "executionInfo": {
     "elapsed": 4345,
     "status": "ok",
     "timestamp": 1575595211655,
     "user": {
      "displayName": "Pranay Kumar",
      "photoUrl": "https://lh3.googleusercontent.com/a-/AAuE7mCd3J-wiaTRAMsTWOz4AF74B4RjDuGp-6w772_RNQ=s64",
      "userId": "17671873586329970946"
     },
     "user_tz": 300
    },
    "id": "V4Q0L2qVt9Ju",
    "outputId": "e1717539-ffe3-4a99-9a18-6fb4d6741446"
   },
   "outputs": [
    {
     "data": {
      "image/png": "[encoded data removed]",
      "text/plain": [
       "<Figure size 720x720 with 1 Axes>"
      ]
     },
     "metadata": {
      "needs_background": "light"
     },
     "output_type": "display_data"
    }
   ],
   "source": [
    "fig, ax = plt.subplots(figsize=(10, 10))\n",
    "sns.countplot(y=Flights['Origin_city'], data=Flights,\n",
    "              order=Flights['Origin_city'].value_counts().iloc[:20].index, palette='pastel', ax=ax)\n",
    "ax.set_yticklabels(ax.get_yticklabels())\n",
    "plt.tight_layout()\n",
    "plt.ylabel('Origin City', fontsize=14, weight='bold')\n",
    "plt.xlabel('Number of Flights', fontsize=14, weight='bold')\n",
    "plt.show()"
   ]
  },
  {
   "cell_type": "code",
   "execution_count": 78,
   "metadata": {
    "colab": {
     "base_uri": "https://localhost:8080/",
     "height": 606
    },
    "colab_type": "code",
    "executionInfo": {
     "elapsed": 63100,
     "status": "ok",
     "timestamp": 1575595273447,
     "user": {
      "displayName": "Pranay Kumar",
      "photoUrl": "https://lh3.googleusercontent.com/a-/AAuE7mCd3J-wiaTRAMsTWOz4AF74B4RjDuGp-6w772_RNQ=s64",
      "userId": "17671873586329970946"
     },
     "user_tz": 300
    },
    "id": "CXqEuSv1t9Jz",
    "outputId": "327ab26b-b6aa-4018-9fef-27a6d3631519"
   },
   "outputs": [
    {
     "data": {
      "image/png": "[encoded data removed]",
      "text/plain": [
       "<Figure size 720x720 with 1 Axes>"
      ]
     },
     "metadata": {
      "needs_background": "light"
     },
     "output_type": "display_data"
    }
   ],
   "source": [
    "fig, ax = plt.subplots(figsize=(10, 10))\n",
    "sns.despine(bottom=True, left=True)\n",
    "sns.stripplot(x=\"ARRIVAL_DELAY\", y=\"AIRLINE\", data=flights, dodge=True, jitter=True, palette='pastel', ax=ax)\n",
    "ax.set_xlabel('Arrival Delay (minutes)', fontsize=14, weight='bold')\n",
    "ax.set_ylabel('Airline', fontsize=14, weight='bold')\n",
    "plt.show()"
   ]
  },
  {
   "cell_type": "code",
   "execution_count": 79,
   "metadata": {
    "colab": {
     "base_uri": "https://localhost:8080/",
     "height": 705
    },
    "colab_type": "code",
    "executionInfo": {
     "elapsed": 61899,
     "status": "ok",
     "timestamp": 1575595275344,
     "user": {
      "displayName": "Pranay Kumar",
      "photoUrl": "https://lh3.googleusercontent.com/a-/AAuE7mCd3J-wiaTRAMsTWOz4AF74B4RjDuGp-6w772_RNQ=s64",
      "userId": "17671873586329970946"
     },
     "user_tz": 300
    },
    "id": "vExXsMz8t9J4",
    "outputId": "0bc58e17-19f3-42e0-f9e7-11c61ba54c8d"
   },
   "outputs": [
    {
     "data": {
      "image/png": "[encoded data removed]",
      "text/plain": [
       "<Figure size 1296x864 with 2 Axes>"
      ]
     },
     "metadata": {
      "needs_background": "light"
     },
     "output_type": "display_data"
    }
   ],
   "source": [
    "fig, ax = plt.subplots(figsize=(18, 12))\n",
    "sns.heatmap(flights.corr(), annot=True, cmap='Reds', ax=ax)\n",
    "ax.set_title('Correlation Heatmap', fontsize=18, weight='bold')\n",
    "plt.show()"
   ]
  },
  {
   "cell_type": "code",
   "execution_count": 80,
   "metadata": {
    "colab": {
     "base_uri": "https://localhost:8080/",
     "height": 394
    },
    "colab_type": "code",
    "executionInfo": {
     "elapsed": 59583,
     "status": "ok",
     "timestamp": 1575595275344,
     "user": {
      "displayName": "Pranay Kumar",
      "photoUrl": "https://lh3.googleusercontent.com/a-/AAuE7mCd3J-wiaTRAMsTWOz4AF74B4RjDuGp-6w772_RNQ=s64",
      "userId": "17671873586329970946"
     },
     "user_tz": 300
    },
    "id": "Bj3Yoj3Rt9J9",
    "outputId": "23bc8b3a-c54e-4485-fd22-215ebe101a26",
    "scrolled": false
   },
   "outputs": [
    {
     "data": {
      "text/html": [
       "<div>\n",
       "<style scoped>\n",
       "    .dataframe tbody tr th:only-of-type {\n",
       "        vertical-align: middle;\n",
       "    }\n",
       "\n",
       "    .dataframe tbody tr th {\n",
       "        vertical-align: top;\n",
       "    }\n",
       "\n",
       "    .dataframe thead th {\n",
       "        text-align: right;\n",
       "    }\n",
       "</style>\n",
       "<table border=\"1\" class=\"dataframe\">\n",
       "  <thead>\n",
       "    <tr style=\"text-align: right;\">\n",
       "      <th></th>\n",
       "      <th>AIRLINE</th>\n",
       "      <th>Org_Airport_Name</th>\n",
       "      <th>Origin_city</th>\n",
       "      <th>Dest_Airport_Name</th>\n",
       "      <th>Destination_city</th>\n",
       "      <th>ORIGIN_AIRPORT</th>\n",
       "      <th>DESTINATION_AIRPORT</th>\n",
       "      <th>DISTANCE</th>\n",
       "      <th>Actual_Departure</th>\n",
       "      <th>Date</th>\n",
       "      <th>...</th>\n",
       "      <th>DEPARTURE_DELAY</th>\n",
       "      <th>Actual_Arrival</th>\n",
       "      <th>Scheduled_Arrival</th>\n",
       "      <th>ARRIVAL_DELAY</th>\n",
       "      <th>SCHEDULED_TIME</th>\n",
       "      <th>ELAPSED_TIME</th>\n",
       "      <th>AIR_TIME</th>\n",
       "      <th>TAXI_IN</th>\n",
       "      <th>TAXI_OUT</th>\n",
       "      <th>DIVERTED</th>\n",
       "    </tr>\n",
       "  </thead>\n",
       "  <tbody>\n",
       "    <tr>\n",
       "      <th>0</th>\n",
       "      <td>AS</td>\n",
       "      <td>Ted Stevens Anchorage International Airport</td>\n",
       "      <td>Anchorage</td>\n",
       "      <td>Seattle-Tacoma International Airport</td>\n",
       "      <td>Seattle</td>\n",
       "      <td>ANC</td>\n",
       "      <td>SEA</td>\n",
       "      <td>1448</td>\n",
       "      <td>23:54:00</td>\n",
       "      <td>2015-01-01</td>\n",
       "      <td>...</td>\n",
       "      <td>-11.0</td>\n",
       "      <td>04:08:00</td>\n",
       "      <td>04:30:00</td>\n",
       "      <td>-22.0</td>\n",
       "      <td>205.0</td>\n",
       "      <td>194.0</td>\n",
       "      <td>169.0</td>\n",
       "      <td>4.0</td>\n",
       "      <td>21.0</td>\n",
       "      <td>0</td>\n",
       "    </tr>\n",
       "    <tr>\n",
       "      <th>1</th>\n",
       "      <td>AS</td>\n",
       "      <td>Ted Stevens Anchorage International Airport</td>\n",
       "      <td>Anchorage</td>\n",
       "      <td>Seattle-Tacoma International Airport</td>\n",
       "      <td>Seattle</td>\n",
       "      <td>ANC</td>\n",
       "      <td>SEA</td>\n",
       "      <td>1448</td>\n",
       "      <td>00:41:00</td>\n",
       "      <td>2015-01-01</td>\n",
       "      <td>...</td>\n",
       "      <td>-4.0</td>\n",
       "      <td>04:55:00</td>\n",
       "      <td>05:09:00</td>\n",
       "      <td>-14.0</td>\n",
       "      <td>204.0</td>\n",
       "      <td>194.0</td>\n",
       "      <td>173.0</td>\n",
       "      <td>4.0</td>\n",
       "      <td>17.0</td>\n",
       "      <td>0</td>\n",
       "    </tr>\n",
       "    <tr>\n",
       "      <th>2</th>\n",
       "      <td>DL</td>\n",
       "      <td>Ted Stevens Anchorage International Airport</td>\n",
       "      <td>Anchorage</td>\n",
       "      <td>Seattle-Tacoma International Airport</td>\n",
       "      <td>Seattle</td>\n",
       "      <td>ANC</td>\n",
       "      <td>SEA</td>\n",
       "      <td>1448</td>\n",
       "      <td>00:31:00</td>\n",
       "      <td>2015-01-01</td>\n",
       "      <td>...</td>\n",
       "      <td>-14.0</td>\n",
       "      <td>04:51:00</td>\n",
       "      <td>05:15:00</td>\n",
       "      <td>-24.0</td>\n",
       "      <td>210.0</td>\n",
       "      <td>200.0</td>\n",
       "      <td>171.0</td>\n",
       "      <td>4.0</td>\n",
       "      <td>25.0</td>\n",
       "      <td>0</td>\n",
       "    </tr>\n",
       "    <tr>\n",
       "      <th>3</th>\n",
       "      <td>AS</td>\n",
       "      <td>Ted Stevens Anchorage International Airport</td>\n",
       "      <td>Anchorage</td>\n",
       "      <td>Seattle-Tacoma International Airport</td>\n",
       "      <td>Seattle</td>\n",
       "      <td>ANC</td>\n",
       "      <td>SEA</td>\n",
       "      <td>1448</td>\n",
       "      <td>01:40:00</td>\n",
       "      <td>2015-01-01</td>\n",
       "      <td>...</td>\n",
       "      <td>-15.0</td>\n",
       "      <td>05:58:00</td>\n",
       "      <td>06:33:00</td>\n",
       "      <td>-35.0</td>\n",
       "      <td>218.0</td>\n",
       "      <td>198.0</td>\n",
       "      <td>170.0</td>\n",
       "      <td>11.0</td>\n",
       "      <td>17.0</td>\n",
       "      <td>0</td>\n",
       "    </tr>\n",
       "    <tr>\n",
       "      <th>4</th>\n",
       "      <td>AS</td>\n",
       "      <td>Ted Stevens Anchorage International Airport</td>\n",
       "      <td>Anchorage</td>\n",
       "      <td>Seattle-Tacoma International Airport</td>\n",
       "      <td>Seattle</td>\n",
       "      <td>ANC</td>\n",
       "      <td>SEA</td>\n",
       "      <td>1448</td>\n",
       "      <td>02:09:00</td>\n",
       "      <td>2015-01-01</td>\n",
       "      <td>...</td>\n",
       "      <td>-11.0</td>\n",
       "      <td>06:28:00</td>\n",
       "      <td>06:40:00</td>\n",
       "      <td>-12.0</td>\n",
       "      <td>200.0</td>\n",
       "      <td>199.0</td>\n",
       "      <td>176.0</td>\n",
       "      <td>8.0</td>\n",
       "      <td>15.0</td>\n",
       "      <td>0</td>\n",
       "    </tr>\n",
       "  </tbody>\n",
       "</table>\n",
       "<p>5 rows × 22 columns</p>\n",
       "</div>"
      ],
      "text/plain": [
       "  AIRLINE                             Org_Airport_Name Origin_city  \\\n",
       "0      AS  Ted Stevens Anchorage International Airport   Anchorage   \n",
       "1      AS  Ted Stevens Anchorage International Airport   Anchorage   \n",
       "2      DL  Ted Stevens Anchorage International Airport   Anchorage   \n",
       "3      AS  Ted Stevens Anchorage International Airport   Anchorage   \n",
       "4      AS  Ted Stevens Anchorage International Airport   Anchorage   \n",
       "\n",
       "                      Dest_Airport_Name Destination_city ORIGIN_AIRPORT  \\\n",
       "0  Seattle-Tacoma International Airport          Seattle            ANC   \n",
       "1  Seattle-Tacoma International Airport          Seattle            ANC   \n",
       "2  Seattle-Tacoma International Airport          Seattle            ANC   \n",
       "3  Seattle-Tacoma International Airport          Seattle            ANC   \n",
       "4  Seattle-Tacoma International Airport          Seattle            ANC   \n",
       "\n",
       "  DESTINATION_AIRPORT  DISTANCE Actual_Departure       Date  ...  \\\n",
       "0                 SEA      1448         23:54:00 2015-01-01  ...   \n",
       "1                 SEA      1448         00:41:00 2015-01-01  ...   \n",
       "2                 SEA      1448         00:31:00 2015-01-01  ...   \n",
       "3                 SEA      1448         01:40:00 2015-01-01  ...   \n",
       "4                 SEA      1448         02:09:00 2015-01-01  ...   \n",
       "\n",
       "  DEPARTURE_DELAY Actual_Arrival  Scheduled_Arrival ARRIVAL_DELAY  \\\n",
       "0           -11.0       04:08:00           04:30:00         -22.0   \n",
       "1            -4.0       04:55:00           05:09:00         -14.0   \n",
       "2           -14.0       04:51:00           05:15:00         -24.0   \n",
       "3           -15.0       05:58:00           06:33:00         -35.0   \n",
       "4           -11.0       06:28:00           06:40:00         -12.0   \n",
       "\n",
       "  SCHEDULED_TIME  ELAPSED_TIME  AIR_TIME  TAXI_IN  TAXI_OUT  DIVERTED  \n",
       "0          205.0         194.0     169.0      4.0      21.0         0  \n",
       "1          204.0         194.0     173.0      4.0      17.0         0  \n",
       "2          210.0         200.0     171.0      4.0      25.0         0  \n",
       "3          218.0         198.0     170.0     11.0      17.0         0  \n",
       "4          200.0         199.0     176.0      8.0      15.0         0  \n",
       "\n",
       "[5 rows x 22 columns]"
      ]
     },
     "execution_count": 80,
     "metadata": {},
     "output_type": "execute_result"
    }
   ],
   "source": [
    "Flights.head()"
   ]
  },
  {
   "cell_type": "markdown",
   "metadata": {
    "colab_type": "text",
    "id": "kDflv8OCOEmf"
   },
   "source": [
    "Removing columns that are not needed fo prediction"
   ]
  },
  {
   "cell_type": "code",
   "execution_count": 81,
   "metadata": {
    "colab": {},
    "colab_type": "code",
    "id": "ZLrIN0spt9J-"
   },
   "outputs": [],
   "source": [
    "Flights1 = Flights.drop(['Org_Airport_Name','Origin_city','Dest_Airport_Name','Destination_city'],axis = 1)"
   ]
  },
  {
   "cell_type": "code",
   "execution_count": 82,
   "metadata": {
    "colab": {
     "base_uri": "https://localhost:8080/",
     "height": 119
    },
    "colab_type": "code",
    "executionInfo": {
     "elapsed": 57096,
     "status": "ok",
     "timestamp": 1575595276254,
     "user": {
      "displayName": "Pranay Kumar",
      "photoUrl": "https://lh3.googleusercontent.com/a-/AAuE7mCd3J-wiaTRAMsTWOz4AF74B4RjDuGp-6w772_RNQ=s64",
      "userId": "17671873586329970946"
     },
     "user_tz": 300
    },
    "id": "ovXn-XFHt9KC",
    "outputId": "9f782ef6-65b3-45d6-f40f-55991aa1341f"
   },
   "outputs": [
    {
     "data": {
      "text/plain": [
       "Index(['AIRLINE', 'ORIGIN_AIRPORT', 'DESTINATION_AIRPORT', 'DISTANCE',\n",
       "       'Actual_Departure', 'Date', 'Day', 'Scheduled_Departure',\n",
       "       'DEPARTURE_DELAY', 'Actual_Arrival', 'Scheduled_Arrival',\n",
       "       'ARRIVAL_DELAY', 'SCHEDULED_TIME', 'ELAPSED_TIME', 'AIR_TIME',\n",
       "       'TAXI_IN', 'TAXI_OUT', 'DIVERTED'],\n",
       "      dtype='object')"
      ]
     },
     "execution_count": 82,
     "metadata": {},
     "output_type": "execute_result"
    }
   ],
   "source": [
    "Flights1.columns"
   ]
  },
  {
   "cell_type": "markdown",
   "metadata": {
    "colab_type": "text",
    "id": "7ZhjbfDOOJTt"
   },
   "source": [
    "Air Time distribution histogram"
   ]
  },
  {
   "cell_type": "code",
   "execution_count": 88,
   "metadata": {
    "colab": {
     "base_uri": "https://localhost:8080/",
     "height": 265
    },
    "colab_type": "code",
    "executionInfo": {
     "elapsed": 56254,
     "status": "ok",
     "timestamp": 1575595276598,
     "user": {
      "displayName": "Pranay Kumar",
      "photoUrl": "https://lh3.googleusercontent.com/a-/AAuE7mCd3J-wiaTRAMsTWOz4AF74B4RjDuGp-6w772_RNQ=s64",
      "userId": "17671873586329970946"
     },
     "user_tz": 300
    },
    "id": "Rm4-dNsIt9KE",
    "outputId": "10779667-9f15-4121-f4f4-a14923ba388a"
   },
   "outputs": [
    {
     "data": {
      "image/png": "[encoded data removed]",
      "text/plain": [
       "<Figure size 432x288 with 1 Axes>"
      ]
     },
     "metadata": {
      "needs_background": "light"
     },
     "output_type": "display_data"
    }
   ],
   "source": [
    "plt.hist(Flights1['AIR_TIME'])\n",
    "plt.show()"
   ]
  },
  {
   "cell_type": "markdown",
   "metadata": {
    "colab_type": "text",
    "id": "PhzXyuaJONpK"
   },
   "source": [
    "Elapsed Time distribution histogram"
   ]
  },
  {
   "cell_type": "code",
   "execution_count": 89,
   "metadata": {
    "colab": {
     "base_uri": "https://localhost:8080/",
     "height": 265
    },
    "colab_type": "code",
    "executionInfo": {
     "elapsed": 53643,
     "status": "ok",
     "timestamp": 1575595276598,
     "user": {
      "displayName": "Pranay Kumar",
      "photoUrl": "https://lh3.googleusercontent.com/a-/AAuE7mCd3J-wiaTRAMsTWOz4AF74B4RjDuGp-6w772_RNQ=s64",
      "userId": "17671873586329970946"
     },
     "user_tz": 300
    },
    "id": "z60fy4RQt9KG",
    "outputId": "5447ac3a-c41f-4387-ccbd-c515650013eb"
   },
   "outputs": [
    {
     "data": {
      "image/png": "[encoded data removed]",
      "text/plain": [
       "<Figure size 432x288 with 1 Axes>"
      ]
     },
     "metadata": {
      "needs_background": "light"
     },
     "output_type": "display_data"
    }
   ],
   "source": [
    "plt.hist(Flights1['ELAPSED_TIME'])\n",
    "plt.show()"
   ]
  },
  {
   "cell_type": "markdown",
   "metadata": {
    "colab_type": "text",
    "id": "SB1AS5L6ivWQ"
   },
   "source": [
    "\n",
    "\n",
    "\n",
    "**Regression Starts to predict Arrival Delay**"
   ]
  },
  {
   "cell_type": "code",
   "execution_count": 90,
   "metadata": {
    "colab": {},
    "colab_type": "code",
    "id": "qfAV_M7rt9KK"
   },
   "outputs": [],
   "source": [
    "from sklearn.preprocessing import StandardScaler\n",
    "from sklearn.model_selection import train_test_split\n",
    "from sklearn.preprocessing import LabelEncoder"
   ]
  },
  {
   "cell_type": "code",
   "execution_count": 91,
   "metadata": {
    "colab": {},
    "colab_type": "code",
    "id": "ZBSPGzsft9KM"
   },
   "outputs": [],
   "source": [
    "le = LabelEncoder()"
   ]
  },
  {
   "cell_type": "markdown",
   "metadata": {
    "colab_type": "text",
    "id": "Ocf6WsFQjOjU"
   },
   "source": [
    "Applying Label encoder to convert text values to numbers"
   ]
  },
  {
   "cell_type": "code",
   "execution_count": 92,
   "metadata": {
    "colab": {},
    "colab_type": "code",
    "id": "y4bqs8x3t9KP"
   },
   "outputs": [],
   "source": [
    "Flights1['AIRLINE']= le.fit_transform(Flights1['AIRLINE'])\n",
    "Flights1['ORIGIN_AIRPORT'] = le.fit_transform(Flights1['ORIGIN_AIRPORT'])\n",
    "Flights1['DESTINATION_AIRPORT'] = le.fit_transform(Flights1['DESTINATION_AIRPORT'])\n",
    "Flights1['Day'] = le.fit_transform(Flights1['Day'])"
   ]
  },
  {
   "cell_type": "code",
   "execution_count": 93,
   "metadata": {
    "colab": {},
    "colab_type": "code",
    "id": "xM2TA8YZt9KQ"
   },
   "outputs": [],
   "source": [
    "Flights1 = Flights1.drop(['Scheduled_Departure','Scheduled_Arrival','Actual_Arrival','Date','Actual_Departure'], axis = 1)"
   ]
  },
  {
   "cell_type": "code",
   "execution_count": 94,
   "metadata": {
    "colab": {
     "base_uri": "https://localhost:8080/",
     "height": 323
    },
    "colab_type": "code",
    "executionInfo": {
     "elapsed": 8598,
     "status": "ok",
     "timestamp": 1575595295228,
     "user": {
      "displayName": "Pranay Kumar",
      "photoUrl": "https://lh3.googleusercontent.com/a-/AAuE7mCd3J-wiaTRAMsTWOz4AF74B4RjDuGp-6w772_RNQ=s64",
      "userId": "17671873586329970946"
     },
     "user_tz": 300
    },
    "id": "GdvQ5gbdt9KS",
    "outputId": "9cab7cdf-73df-4baa-cfd1-4cf003e35b26"
   },
   "outputs": [
    {
     "name": "stdout",
     "output_type": "stream",
     "text": [
      "<class 'pandas.core.frame.DataFrame'>\n",
      "Int64Index: 955807 entries, 0 to 956220\n",
      "Data columns (total 13 columns):\n",
      " #   Column               Non-Null Count   Dtype  \n",
      "---  ------               --------------   -----  \n",
      " 0   AIRLINE              955807 non-null  int64  \n",
      " 1   ORIGIN_AIRPORT       955807 non-null  int64  \n",
      " 2   DESTINATION_AIRPORT  955807 non-null  int64  \n",
      " 3   DISTANCE             955807 non-null  int64  \n",
      " 4   Day                  955807 non-null  int64  \n",
      " 5   DEPARTURE_DELAY      955807 non-null  float64\n",
      " 6   ARRIVAL_DELAY        955807 non-null  float64\n",
      " 7   SCHEDULED_TIME       955807 non-null  float64\n",
      " 8   ELAPSED_TIME         955807 non-null  float64\n",
      " 9   AIR_TIME             955807 non-null  float64\n",
      " 10  TAXI_IN              955807 non-null  float64\n",
      " 11  TAXI_OUT             955807 non-null  float64\n",
      " 12  DIVERTED             955807 non-null  int64  \n",
      "dtypes: float64(7), int64(6)\n",
      "memory usage: 102.1 MB\n"
     ]
    }
   ],
   "source": [
    "Flights1.info()"
   ]
  },
  {
   "cell_type": "code",
   "execution_count": 95,
   "metadata": {
    "colab": {
     "base_uri": "https://localhost:8080/",
     "height": 34
    },
    "colab_type": "code",
    "executionInfo": {
     "elapsed": 1840,
     "status": "ok",
     "timestamp": 1575589863692,
     "user": {
      "displayName": "Pranay Kumar",
      "photoUrl": "https://lh3.googleusercontent.com/a-/AAuE7mCd3J-wiaTRAMsTWOz4AF74B4RjDuGp-6w772_RNQ=s64",
      "userId": "17671873586329970946"
     },
     "user_tz": 300
    },
    "id": "15TF_kwut9KV",
    "outputId": "62b40694-a843-4543-8c91-fc174b4535b9"
   },
   "outputs": [
    {
     "data": {
      "text/plain": [
       "(955807, 12)"
      ]
     },
     "execution_count": 95,
     "metadata": {},
     "output_type": "execute_result"
    }
   ],
   "source": [
    "X = Flights1.drop('ARRIVAL_DELAY',axis = 1)\n",
    "X.shape"
   ]
  },
  {
   "cell_type": "code",
   "execution_count": 96,
   "metadata": {
    "colab": {
     "base_uri": "https://localhost:8080/",
     "height": 119
    },
    "colab_type": "code",
    "executionInfo": {
     "elapsed": 1166,
     "status": "ok",
     "timestamp": 1575589864175,
     "user": {
      "displayName": "Pranay Kumar",
      "photoUrl": "https://lh3.googleusercontent.com/a-/AAuE7mCd3J-wiaTRAMsTWOz4AF74B4RjDuGp-6w772_RNQ=s64",
      "userId": "17671873586329970946"
     },
     "user_tz": 300
    },
    "id": "Rqzy2ZoIt9KW",
    "outputId": "0df5d6bb-986d-48f6-d7a0-fa4fa599b5c3"
   },
   "outputs": [
    {
     "data": {
      "text/plain": [
       "0   -22.0\n",
       "1   -14.0\n",
       "2   -24.0\n",
       "3   -35.0\n",
       "4   -12.0\n",
       "Name: ARRIVAL_DELAY, dtype: float64"
      ]
     },
     "execution_count": 96,
     "metadata": {},
     "output_type": "execute_result"
    }
   ],
   "source": [
    "y = Flights1['ARRIVAL_DELAY']\n",
    "y.head()"
   ]
  },
  {
   "cell_type": "markdown",
   "metadata": {
    "colab_type": "text",
    "id": "VUa-Da4POUfZ"
   },
   "source": [
    "Split into train and test sets"
   ]
  },
  {
   "cell_type": "code",
   "execution_count": 97,
   "metadata": {
    "colab": {},
    "colab_type": "code",
    "id": "o4B6hC8tt9KX"
   },
   "outputs": [],
   "source": [
    "X_train,X_test,y_train,y_test = train_test_split(X,y,test_size=0.25,random_state = 5)"
   ]
  },
  {
   "cell_type": "markdown",
   "metadata": {
    "colab_type": "text",
    "id": "Unw_j7Z4jKgN"
   },
   "source": [
    "Applying Standard Scalar"
   ]
  },
  {
   "cell_type": "code",
   "execution_count": 98,
   "metadata": {
    "colab": {},
    "colab_type": "code",
    "id": "tqMKq4j4t9KZ"
   },
   "outputs": [],
   "source": [
    "sc1=StandardScaler()\n",
    "X_train_sc=sc1.fit_transform(X_train)\n",
    "X_test_sc=sc1.transform(X_test)"
   ]
  },
  {
   "cell_type": "markdown",
   "metadata": {
    "colab_type": "text",
    "id": "fNFa9HvijWfq"
   },
   "source": [
    "Applying Linear Regression"
   ]
  },
  {
   "cell_type": "code",
   "execution_count": 99,
   "metadata": {
    "colab": {
     "base_uri": "https://localhost:8080/",
     "height": 85
    },
    "colab_type": "code",
    "executionInfo": {
     "elapsed": 2752,
     "status": "ok",
     "timestamp": 1575589876066,
     "user": {
      "displayName": "Pranay Kumar",
      "photoUrl": "https://lh3.googleusercontent.com/a-/AAuE7mCd3J-wiaTRAMsTWOz4AF74B4RjDuGp-6w772_RNQ=s64",
      "userId": "17671873586329970946"
     },
     "user_tz": 300
    },
    "id": "zNzpfcjw879t",
    "outputId": "3a223126-3f8f-483b-89e1-0a7ea83fe78a"
   },
   "outputs": [
    {
     "name": "stdout",
     "output_type": "stream",
     "text": [
      "MAE: 2.502292531747311e-13\n",
      "MSE: 1.0815522836813926e-25\n",
      "RMSE: 3.2886962214248254e-13\n",
      "R2: 1.0\n"
     ]
    }
   ],
   "source": [
    "from sklearn.linear_model import LinearRegression\n",
    "LinR = LinearRegression()\n",
    "from sklearn.metrics import mean_absolute_error,mean_squared_error,r2_score\n",
    "\n",
    "fitResult = LinR.fit(X_train_sc,y_train)\n",
    "y_pred = fitResult.predict(X_test_sc)\n",
    "print ('MAE:' ,  mean_absolute_error(y_test, y_pred))\n",
    "print ('MSE:' , mean_squared_error(y_test, y_pred))\n",
    "print('RMSE:' , np.sqrt(mean_squared_error(y_test, y_pred)))\n",
    "print ('R2:' , r2_score(y_test, y_pred))"
   ]
  },
  {
   "cell_type": "code",
   "execution_count": 100,
   "metadata": {
    "colab": {
     "base_uri": "https://localhost:8080/",
     "height": 279
    },
    "colab_type": "code",
    "executionInfo": {
     "elapsed": 9588,
     "status": "ok",
     "timestamp": 1575589889137,
     "user": {
      "displayName": "Pranay Kumar",
      "photoUrl": "https://lh3.googleusercontent.com/a-/AAuE7mCd3J-wiaTRAMsTWOz4AF74B4RjDuGp-6w772_RNQ=s64",
      "userId": "17671873586329970946"
     },
     "user_tz": 300
    },
    "id": "7_lo1u2f-OnG",
    "outputId": "965c25f0-a1f3-4551-d988-f73978d9c544"
   },
   "outputs": [
    {
     "data": {
      "image/png": "[encoded data removed]",
      "text/plain": [
       "<Figure size 432x288 with 1 Axes>"
      ]
     },
     "metadata": {
      "needs_background": "light"
     },
     "output_type": "display_data"
    }
   ],
   "source": [
    "import matplotlib.pyplot as plt\n",
    "\n",
    "fig, ax = plt.subplots()\n",
    "ax.scatter(y_test, y_pred, color='purple')\n",
    "ax.plot([y_test.min(), y_test.max()], [y_test.min(), y_test.max()], 'k--', lw=4)\n",
    "ax.set_xlabel('Actual')\n",
    "ax.set_ylabel('Predicted')\n",
    "ax.set_title('Actual vs Predicted', fontsize=14, weight='bold')\n",
    "plt.show()"
   ]
  },
  {
   "cell_type": "markdown",
   "metadata": {
    "colab_type": "text",
    "id": "5-W3fa8ZjaeT"
   },
   "source": [
    "Applying Random Forest Regressor"
   ]
  },
  {
   "cell_type": "code",
   "execution_count": null,
   "metadata": {
    "colab": {
     "base_uri": "https://localhost:8080/",
     "height": 139
    },
    "colab_type": "code",
    "executionInfo": {
     "elapsed": 395310,
     "status": "ok",
     "timestamp": 1575590277040,
     "user": {
      "displayName": "Pranay Kumar",
      "photoUrl": "https://lh3.googleusercontent.com/a-/AAuE7mCd3J-wiaTRAMsTWOz4AF74B4RjDuGp-6w772_RNQ=s64",
      "userId": "17671873586329970946"
     },
     "user_tz": 300
    },
    "id": "q6d1Tqe0DCci",
    "outputId": "b093aa44-8a67-42a5-bbca-13e1ffc409bd"
   },
   "outputs": [],
   "source": [
    "from sklearn.ensemble import RandomForestRegressor\n",
    "Rfc = RandomForestRegressor(random_state=2)\n",
    "\n",
    "fitResultR = Rfc.fit(X_train_sc,y_train)\n",
    "predictedValues = fitResultR.predict(X_test_sc)\n",
    "print ('MAE:' ,  mean_absolute_error(y_test, predictedValues))\n",
    "print ('MSE:' , mean_squared_error(y_test, predictedValues))\n",
    "print('RMSE:' , np.sqrt(mean_squared_error(y_test, predictedValues)))\n",
    "print ('R2:' , r2_score(y_test, predictedValues))"
   ]
  },
  {
   "cell_type": "code",
   "execution_count": null,
   "metadata": {
    "colab": {
     "base_uri": "https://localhost:8080/",
     "height": 279
    },
    "colab_type": "code",
    "executionInfo": {
     "elapsed": 8947,
     "status": "ok",
     "timestamp": 1575590286010,
     "user": {
      "displayName": "Pranay Kumar",
      "photoUrl": "https://lh3.googleusercontent.com/a-/AAuE7mCd3J-wiaTRAMsTWOz4AF74B4RjDuGp-6w772_RNQ=s64",
      "userId": "17671873586329970946"
     },
     "user_tz": 300
    },
    "id": "JPgtA91_Dg8z",
    "outputId": "50d3ce82-45eb-4329-e466-5165bc7c15b7"
   },
   "outputs": [],
   "source": [
    "#import matplotlib.pyplot as plt\n",
    "fig, ax = plt.subplots()\n",
    "ax.scatter(y_test, predictedValues)\n",
    "ax.plot([y.min(), y.max()], [y.min(), y.max()], 'k--', lw=4)\n",
    "ax.set_xlabel('Actual')\n",
    "ax.set_ylabel('Predicted')\n",
    "plt.show() "
   ]
  },
  {
   "cell_type": "markdown",
   "metadata": {
    "colab_type": "text",
    "id": "l4FaY4CejdfZ"
   },
   "source": [
    "Applying Decision Tree Regressor"
   ]
  },
  {
   "cell_type": "code",
   "execution_count": null,
   "metadata": {
    "colab": {
     "base_uri": "https://localhost:8080/",
     "height": 85
    },
    "colab_type": "code",
    "executionInfo": {
     "elapsed": 65828,
     "status": "ok",
     "timestamp": 1575590342908,
     "user": {
      "displayName": "Pranay Kumar",
      "photoUrl": "https://lh3.googleusercontent.com/a-/AAuE7mCd3J-wiaTRAMsTWOz4AF74B4RjDuGp-6w772_RNQ=s64",
      "userId": "17671873586329970946"
     },
     "user_tz": 300
    },
    "id": "bp3ObnuVFZCG",
    "outputId": "beaf1c6d-c2ad-49ab-ec87-1bb04f9bba87"
   },
   "outputs": [],
   "source": [
    "from sklearn.tree import DecisionTreeRegressor\n",
    "Dtc = DecisionTreeRegressor(random_state = 2)\n",
    "\n",
    "fitResultdtc = Dtc.fit(X_train_sc,y_train)\n",
    "predictedValues = fitResultdtc.predict(X_test_sc)\n",
    "print ('MAE:' ,  mean_absolute_error(y_test, predictedValues))\n",
    "print ('MSE:' , mean_squared_error(y_test, predictedValues))\n",
    "print('RMSE:' , np.sqrt(mean_squared_error(y_test, predictedValues)))\n",
    "print ('R2:' , r2_score(y_test, predictedValues))"
   ]
  },
  {
   "cell_type": "code",
   "execution_count": 76,
   "metadata": {
    "colab": {
     "base_uri": "https://localhost:8080/",
     "height": 279
    },
    "colab_type": "code",
    "executionInfo": {
     "elapsed": 74182,
     "status": "ok",
     "timestamp": 1575590351271,
     "user": {
      "displayName": "Pranay Kumar",
      "photoUrl": "https://lh3.googleusercontent.com/a-/AAuE7mCd3J-wiaTRAMsTWOz4AF74B4RjDuGp-6w772_RNQ=s64",
      "userId": "17671873586329970946"
     },
     "user_tz": 300
    },
    "id": "1up9BB9cDD9T",
    "outputId": "9d568002-d0f2-4933-f36d-3deb17ab2cd0"
   },
   "outputs": [
    {
     "data": {
      "image/png": "[encoded data removed]",
      "text/plain": [
       "<Figure size 432x288 with 1 Axes>"
      ]
     },
     "metadata": {
      "needs_background": "light"
     },
     "output_type": "display_data"
    }
   ],
   "source": [
    "#import matplotlib.pyplot as plt\n",
    "fig, ax = plt.subplots()\n",
    "ax.scatter(y_test, predictedValues)\n",
    "ax.plot([y.min(), y.max()], [y.min(), y.max()], 'k--', lw=4)\n",
    "ax.set_xlabel('Actual')\n",
    "ax.set_ylabel('Predicted')\n",
    "plt.show() "
   ]
  },
  {
   "cell_type": "markdown",
   "metadata": {
    "colab_type": "text",
    "id": "yM2DE_xujg-q"
   },
   "source": [
    "Applying Boosted Linear Regression"
   ]
  },
  {
   "cell_type": "code",
   "execution_count": 77,
   "metadata": {
    "colab": {
     "base_uri": "https://localhost:8080/",
     "height": 85
    },
    "colab_type": "code",
    "executionInfo": {
     "elapsed": 196052,
     "status": "ok",
     "timestamp": 1575590473160,
     "user": {
      "displayName": "Pranay Kumar",
      "photoUrl": "https://lh3.googleusercontent.com/a-/AAuE7mCd3J-wiaTRAMsTWOz4AF74B4RjDuGp-6w772_RNQ=s64",
      "userId": "17671873586329970946"
     },
     "user_tz": 300
    },
    "id": "-ZcGKx8LGznE",
    "outputId": "cfc98687-96ab-48b0-fc5f-f577699600c1"
   },
   "outputs": [
    {
     "name": "stdout",
     "output_type": "stream",
     "text": [
      "MAE: 1.5327914823353708e-06\n",
      "MSE: 3.0655780798971956e-06\n",
      "RMSE: 0.0017508792305288207\n",
      "R2: 0.9999999980588673\n"
     ]
    }
   ],
   "source": [
    "from sklearn.ensemble import AdaBoostRegressor\n",
    "Boost_Lin = AdaBoostRegressor(base_estimator=LinR,random_state=2)\n",
    "\n",
    "fitResultBl = Boost_Lin.fit(X_train_sc,y_train)\n",
    "predictedValues = fitResultBl.predict(X_test_sc)\n",
    "print ('MAE:' ,  mean_absolute_error(y_test, predictedValues))\n",
    "print ('MSE:' , mean_squared_error(y_test, predictedValues))\n",
    "print('RMSE:' , np.sqrt(mean_squared_error(y_test, predictedValues)))\n",
    "print ('R2:' , r2_score(y_test, predictedValues))"
   ]
  },
  {
   "cell_type": "code",
   "execution_count": 78,
   "metadata": {
    "colab": {
     "base_uri": "https://localhost:8080/",
     "height": 279
    },
    "colab_type": "code",
    "executionInfo": {
     "elapsed": 103228,
     "status": "ok",
     "timestamp": 1575590481734,
     "user": {
      "displayName": "Pranay Kumar",
      "photoUrl": "https://lh3.googleusercontent.com/a-/AAuE7mCd3J-wiaTRAMsTWOz4AF74B4RjDuGp-6w772_RNQ=s64",
      "userId": "17671873586329970946"
     },
     "user_tz": 300
    },
    "id": "APpxO_JTG4AO",
    "outputId": "b6f24092-e6ae-4009-8330-cec7d3931ce2"
   },
   "outputs": [
    {
     "data": {
      "image/png": "[encoded data removed]",
      "text/plain": [
       "<Figure size 432x288 with 1 Axes>"
      ]
     },
     "metadata": {
      "needs_background": "light"
     },
     "output_type": "display_data"
    }
   ],
   "source": [
    "#import matplotlib.pyplot as plt\n",
    "fig, ax = plt.subplots()\n",
    "ax.scatter(y_test, predictedValues)\n",
    "ax.plot([y.min(), y.max()], [y.min(), y.max()], 'k--', lw=3)\n",
    "ax.set_xlabel('Actual')\n",
    "ax.set_ylabel('Predicted')\n",
    "plt.show() "
   ]
  },
  {
   "cell_type": "markdown",
   "metadata": {
    "colab_type": "text",
    "id": "6wjef1fFjlNu"
   },
   "source": [
    "**Dropping Departure delay from set of attributes to try and predict Arrival Delay**"
   ]
  },
  {
   "cell_type": "code",
   "execution_count": 79,
   "metadata": {
    "colab": {
     "base_uri": "https://localhost:8080/",
     "height": 34
    },
    "colab_type": "code",
    "executionInfo": {
     "elapsed": 1402,
     "status": "ok",
     "timestamp": 1575590492654,
     "user": {
      "displayName": "Pranay Kumar",
      "photoUrl": "https://lh3.googleusercontent.com/a-/AAuE7mCd3J-wiaTRAMsTWOz4AF74B4RjDuGp-6w772_RNQ=s64",
      "userId": "17671873586329970946"
     },
     "user_tz": 300
    },
    "id": "jp5QaFNtK43G",
    "outputId": "ae17be3e-9254-45c8-a0c0-227fd460642b"
   },
   "outputs": [
    {
     "data": {
      "text/plain": [
       "(5219244, 11)"
      ]
     },
     "execution_count": 79,
     "metadata": {},
     "output_type": "execute_result"
    }
   ],
   "source": [
    "X = Flights1.drop(['ARRIVAL_DELAY','DEPARTURE_DELAY'],axis = 1)\n",
    "X.shape"
   ]
  },
  {
   "cell_type": "code",
   "execution_count": 80,
   "metadata": {
    "colab": {
     "base_uri": "https://localhost:8080/",
     "height": 119
    },
    "colab_type": "code",
    "executionInfo": {
     "elapsed": 1287,
     "status": "ok",
     "timestamp": 1575590493609,
     "user": {
      "displayName": "Pranay Kumar",
      "photoUrl": "https://lh3.googleusercontent.com/a-/AAuE7mCd3J-wiaTRAMsTWOz4AF74B4RjDuGp-6w772_RNQ=s64",
      "userId": "17671873586329970946"
     },
     "user_tz": 300
    },
    "id": "QVz55vYaLNTx",
    "outputId": "80b3e4e3-ab16-4a71-b878-28392f45606b"
   },
   "outputs": [
    {
     "data": {
      "text/plain": [
       "0   -11.0\n",
       "1    -4.0\n",
       "2   -15.0\n",
       "3   -11.0\n",
       "4    -8.0\n",
       "Name: DEPARTURE_DELAY, dtype: float64"
      ]
     },
     "execution_count": 80,
     "metadata": {},
     "output_type": "execute_result"
    }
   ],
   "source": [
    "y = Flights1['DEPARTURE_DELAY']\n",
    "y.head()"
   ]
  },
  {
   "cell_type": "code",
   "execution_count": 81,
   "metadata": {
    "colab": {
     "base_uri": "https://localhost:8080/",
     "height": 439
    },
    "colab_type": "code",
    "executionInfo": {
     "elapsed": 1008,
     "status": "ok",
     "timestamp": 1575590494922,
     "user": {
      "displayName": "Pranay Kumar",
      "photoUrl": "https://lh3.googleusercontent.com/a-/AAuE7mCd3J-wiaTRAMsTWOz4AF74B4RjDuGp-6w772_RNQ=s64",
      "userId": "17671873586329970946"
     },
     "user_tz": 300
    },
    "id": "8TuXo8eueRBZ",
    "outputId": "056b69b4-df98-497c-e173-7f676b693e9a"
   },
   "outputs": [
    {
     "data": {
      "text/html": [
       "<div>\n",
       "<style scoped>\n",
       "    .dataframe tbody tr th:only-of-type {\n",
       "        vertical-align: middle;\n",
       "    }\n",
       "\n",
       "    .dataframe tbody tr th {\n",
       "        vertical-align: top;\n",
       "    }\n",
       "\n",
       "    .dataframe thead th {\n",
       "        text-align: right;\n",
       "    }\n",
       "</style>\n",
       "<table border=\"1\" class=\"dataframe\">\n",
       "  <thead>\n",
       "    <tr style=\"text-align: right;\">\n",
       "      <th></th>\n",
       "      <th>AIRLINE</th>\n",
       "      <th>ORIGIN_AIRPORT</th>\n",
       "      <th>DESTINATION_AIRPORT</th>\n",
       "      <th>DISTANCE</th>\n",
       "      <th>Day</th>\n",
       "      <th>SCHEDULED_TIME</th>\n",
       "      <th>ELAPSED_TIME</th>\n",
       "      <th>AIR_TIME</th>\n",
       "      <th>TAXI_IN</th>\n",
       "      <th>TAXI_OUT</th>\n",
       "      <th>DIVERTED</th>\n",
       "    </tr>\n",
       "  </thead>\n",
       "  <tbody>\n",
       "    <tr>\n",
       "      <th>0</th>\n",
       "      <td>0</td>\n",
       "      <td>17</td>\n",
       "      <td>275</td>\n",
       "      <td>1448</td>\n",
       "      <td>4</td>\n",
       "      <td>205.0</td>\n",
       "      <td>194.0</td>\n",
       "      <td>169.0</td>\n",
       "      <td>4.0</td>\n",
       "      <td>21.0</td>\n",
       "      <td>0</td>\n",
       "    </tr>\n",
       "    <tr>\n",
       "      <th>1</th>\n",
       "      <td>0</td>\n",
       "      <td>17</td>\n",
       "      <td>275</td>\n",
       "      <td>1448</td>\n",
       "      <td>4</td>\n",
       "      <td>204.0</td>\n",
       "      <td>194.0</td>\n",
       "      <td>173.0</td>\n",
       "      <td>4.0</td>\n",
       "      <td>17.0</td>\n",
       "      <td>0</td>\n",
       "    </tr>\n",
       "    <tr>\n",
       "      <th>2</th>\n",
       "      <td>0</td>\n",
       "      <td>17</td>\n",
       "      <td>275</td>\n",
       "      <td>1448</td>\n",
       "      <td>4</td>\n",
       "      <td>218.0</td>\n",
       "      <td>198.0</td>\n",
       "      <td>170.0</td>\n",
       "      <td>11.0</td>\n",
       "      <td>17.0</td>\n",
       "      <td>0</td>\n",
       "    </tr>\n",
       "    <tr>\n",
       "      <th>3</th>\n",
       "      <td>0</td>\n",
       "      <td>17</td>\n",
       "      <td>275</td>\n",
       "      <td>1448</td>\n",
       "      <td>4</td>\n",
       "      <td>200.0</td>\n",
       "      <td>199.0</td>\n",
       "      <td>176.0</td>\n",
       "      <td>8.0</td>\n",
       "      <td>15.0</td>\n",
       "      <td>0</td>\n",
       "    </tr>\n",
       "    <tr>\n",
       "      <th>4</th>\n",
       "      <td>0</td>\n",
       "      <td>17</td>\n",
       "      <td>275</td>\n",
       "      <td>1448</td>\n",
       "      <td>4</td>\n",
       "      <td>205.0</td>\n",
       "      <td>199.0</td>\n",
       "      <td>179.0</td>\n",
       "      <td>4.0</td>\n",
       "      <td>16.0</td>\n",
       "      <td>0</td>\n",
       "    </tr>\n",
       "    <tr>\n",
       "      <th>...</th>\n",
       "      <td>...</td>\n",
       "      <td>...</td>\n",
       "      <td>...</td>\n",
       "      <td>...</td>\n",
       "      <td>...</td>\n",
       "      <td>...</td>\n",
       "      <td>...</td>\n",
       "      <td>...</td>\n",
       "      <td>...</td>\n",
       "      <td>...</td>\n",
       "      <td>...</td>\n",
       "    </tr>\n",
       "    <tr>\n",
       "      <th>5221995</th>\n",
       "      <td>3</td>\n",
       "      <td>195</td>\n",
       "      <td>239</td>\n",
       "      <td>69</td>\n",
       "      <td>5</td>\n",
       "      <td>34.0</td>\n",
       "      <td>25.0</td>\n",
       "      <td>17.0</td>\n",
       "      <td>2.0</td>\n",
       "      <td>6.0</td>\n",
       "      <td>0</td>\n",
       "    </tr>\n",
       "    <tr>\n",
       "      <th>5221996</th>\n",
       "      <td>3</td>\n",
       "      <td>195</td>\n",
       "      <td>239</td>\n",
       "      <td>69</td>\n",
       "      <td>6</td>\n",
       "      <td>34.0</td>\n",
       "      <td>23.0</td>\n",
       "      <td>14.0</td>\n",
       "      <td>5.0</td>\n",
       "      <td>4.0</td>\n",
       "      <td>0</td>\n",
       "    </tr>\n",
       "    <tr>\n",
       "      <th>5221997</th>\n",
       "      <td>3</td>\n",
       "      <td>195</td>\n",
       "      <td>239</td>\n",
       "      <td>69</td>\n",
       "      <td>6</td>\n",
       "      <td>34.0</td>\n",
       "      <td>34.0</td>\n",
       "      <td>18.0</td>\n",
       "      <td>4.0</td>\n",
       "      <td>12.0</td>\n",
       "      <td>0</td>\n",
       "    </tr>\n",
       "    <tr>\n",
       "      <th>5221998</th>\n",
       "      <td>3</td>\n",
       "      <td>195</td>\n",
       "      <td>239</td>\n",
       "      <td>69</td>\n",
       "      <td>4</td>\n",
       "      <td>34.0</td>\n",
       "      <td>30.0</td>\n",
       "      <td>18.0</td>\n",
       "      <td>3.0</td>\n",
       "      <td>9.0</td>\n",
       "      <td>0</td>\n",
       "    </tr>\n",
       "    <tr>\n",
       "      <th>5221999</th>\n",
       "      <td>3</td>\n",
       "      <td>195</td>\n",
       "      <td>239</td>\n",
       "      <td>69</td>\n",
       "      <td>4</td>\n",
       "      <td>34.0</td>\n",
       "      <td>28.0</td>\n",
       "      <td>18.0</td>\n",
       "      <td>3.0</td>\n",
       "      <td>7.0</td>\n",
       "      <td>0</td>\n",
       "    </tr>\n",
       "  </tbody>\n",
       "</table>\n",
       "<p>5219244 rows × 11 columns</p>\n",
       "</div>"
      ],
      "text/plain": [
       "         AIRLINE  ORIGIN_AIRPORT  DESTINATION_AIRPORT  DISTANCE  Day  \\\n",
       "0              0              17                  275      1448    4   \n",
       "1              0              17                  275      1448    4   \n",
       "2              0              17                  275      1448    4   \n",
       "3              0              17                  275      1448    4   \n",
       "4              0              17                  275      1448    4   \n",
       "...          ...             ...                  ...       ...  ...   \n",
       "5221995        3             195                  239        69    5   \n",
       "5221996        3             195                  239        69    6   \n",
       "5221997        3             195                  239        69    6   \n",
       "5221998        3             195                  239        69    4   \n",
       "5221999        3             195                  239        69    4   \n",
       "\n",
       "         SCHEDULED_TIME  ELAPSED_TIME  AIR_TIME  TAXI_IN  TAXI_OUT  DIVERTED  \n",
       "0                 205.0         194.0     169.0      4.0      21.0         0  \n",
       "1                 204.0         194.0     173.0      4.0      17.0         0  \n",
       "2                 218.0         198.0     170.0     11.0      17.0         0  \n",
       "3                 200.0         199.0     176.0      8.0      15.0         0  \n",
       "4                 205.0         199.0     179.0      4.0      16.0         0  \n",
       "...                 ...           ...       ...      ...       ...       ...  \n",
       "5221995            34.0          25.0      17.0      2.0       6.0         0  \n",
       "5221996            34.0          23.0      14.0      5.0       4.0         0  \n",
       "5221997            34.0          34.0      18.0      4.0      12.0         0  \n",
       "5221998            34.0          30.0      18.0      3.0       9.0         0  \n",
       "5221999            34.0          28.0      18.0      3.0       7.0         0  \n",
       "\n",
       "[5219244 rows x 11 columns]"
      ]
     },
     "execution_count": 81,
     "metadata": {},
     "output_type": "execute_result"
    }
   ],
   "source": [
    "X"
   ]
  },
  {
   "cell_type": "code",
   "execution_count": 82,
   "metadata": {
    "colab": {},
    "colab_type": "code",
    "id": "VBQAAYK9LRrk"
   },
   "outputs": [],
   "source": [
    "X_train,X_test,y_train,y_test = train_test_split(X,y,test_size=0.25,random_state = 5)\n",
    "sc1=StandardScaler()\n",
    "X_train_sc=sc1.fit_transform(X_train)\n",
    "X_test_sc=sc1.transform(X_test)"
   ]
  },
  {
   "cell_type": "markdown",
   "metadata": {
    "colab_type": "text",
    "id": "eKYJwZdyjr7S"
   },
   "source": [
    "Applying MLP Neural Network"
   ]
  },
  {
   "cell_type": "code",
   "execution_count": 83,
   "metadata": {
    "colab": {
     "base_uri": "https://localhost:8080/",
     "height": 85
    },
    "colab_type": "code",
    "executionInfo": {
     "elapsed": 663703,
     "status": "ok",
     "timestamp": 1575591203342,
     "user": {
      "displayName": "Pranay Kumar",
      "photoUrl": "https://lh3.googleusercontent.com/a-/AAuE7mCd3J-wiaTRAMsTWOz4AF74B4RjDuGp-6w772_RNQ=s64",
      "userId": "17671873586329970946"
     },
     "user_tz": 300
    },
    "id": "s7ASsPKpd7H-",
    "outputId": "d0da63ac-7c25-45db-9910-6228de425f70"
   },
   "outputs": [
    {
     "name": "stdout",
     "output_type": "stream",
     "text": [
      "MAE: 18.92521792240611\n",
      "MSE: 1376.49885439204\n",
      "RMSE: 37.10119747921945\n",
      "R2: 0.013987506217613577\n"
     ]
    }
   ],
   "source": [
    "from sklearn.neural_network import MLPRegressor\n",
    "mlp = MLPRegressor(random_state=0, activation='relu', hidden_layer_sizes=16)\n",
    "\n",
    "mlp.fit(X_train_sc, y_train)\n",
    "\n",
    "predictedValues = mlp.predict(X_test_sc)\n",
    "print ('MAE:' ,  mean_absolute_error(y_test, predictedValues))\n",
    "print ('MSE:' , mean_squared_error(y_test, predictedValues))\n",
    "print('RMSE:' , np.sqrt(mean_squared_error(y_test, predictedValues)))\n",
    "print ('R2:' , r2_score(y_test, predictedValues))"
   ]
  },
  {
   "cell_type": "code",
   "execution_count": 84,
   "metadata": {
    "colab": {
     "base_uri": "https://localhost:8080/",
     "height": 279
    },
    "colab_type": "code",
    "executionInfo": {
     "elapsed": 670692,
     "status": "ok",
     "timestamp": 1575591211536,
     "user": {
      "displayName": "Pranay Kumar",
      "photoUrl": "https://lh3.googleusercontent.com/a-/AAuE7mCd3J-wiaTRAMsTWOz4AF74B4RjDuGp-6w772_RNQ=s64",
      "userId": "17671873586329970946"
     },
     "user_tz": 300
    },
    "id": "POSAkAurj0Mh",
    "outputId": "edc7a2a7-01eb-479d-eb06-2892e633464c"
   },
   "outputs": [
    {
     "data": {
      "image/png": "[encoded data removed]",
      "text/plain": [
       "<Figure size 432x288 with 1 Axes>"
      ]
     },
     "metadata": {
      "needs_background": "light"
     },
     "output_type": "display_data"
    }
   ],
   "source": [
    "#import matplotlib.pyplot as plt\n",
    "fig, ax = plt.subplots()\n",
    "ax.scatter(y_test, predictedValues)\n",
    "ax.plot([y.min(), y.max()], [y.min(), y.max()], 'k--', lw=4)\n",
    "ax.set_xlabel('Actual')\n",
    "ax.set_ylabel('Predicted')\n",
    "plt.show() "
   ]
  },
  {
   "cell_type": "markdown",
   "metadata": {
    "colab_type": "text",
    "id": "qp5G6RDojwSx"
   },
   "source": [
    "Applying Random Forest Regressor"
   ]
  },
  {
   "cell_type": "code",
   "execution_count": 85,
   "metadata": {
    "colab": {
     "base_uri": "https://localhost:8080/",
     "height": 85
    },
    "colab_type": "code",
    "executionInfo": {
     "elapsed": 1082632,
     "status": "ok",
     "timestamp": 1575591625938,
     "user": {
      "displayName": "Pranay Kumar",
      "photoUrl": "https://lh3.googleusercontent.com/a-/AAuE7mCd3J-wiaTRAMsTWOz4AF74B4RjDuGp-6w772_RNQ=s64",
      "userId": "17671873586329970946"
     },
     "user_tz": 300
    },
    "id": "cg9DndJDLq5s",
    "outputId": "3c142b2f-8501-4c2a-d0c5-f7b4e6ee18ef"
   },
   "outputs": [
    {
     "name": "stdout",
     "output_type": "stream",
     "text": [
      "MAE: 20.37511738376943\n",
      "MSE: 1469.3849594083626\n",
      "RMSE: 38.332557433705915\n",
      "R2: -0.05254858987331157\n"
     ]
    }
   ],
   "source": [
    "fitResultR = Rfc.fit(X_train_sc,y_train)\n",
    "predictedValues = fitResultR.predict(X_test_sc)\n",
    "print ('MAE:' ,  mean_absolute_error(y_test, predictedValues))\n",
    "print ('MSE:' , mean_squared_error(y_test, predictedValues))\n",
    "print('RMSE:' , np.sqrt(mean_squared_error(y_test, predictedValues)))\n",
    "print ('R2:' , r2_score(y_test, predictedValues))"
   ]
  },
  {
   "cell_type": "code",
   "execution_count": 86,
   "metadata": {
    "colab": {
     "base_uri": "https://localhost:8080/",
     "height": 279
    },
    "colab_type": "code",
    "executionInfo": {
     "elapsed": 1088864,
     "status": "ok",
     "timestamp": 1575591634378,
     "user": {
      "displayName": "Pranay Kumar",
      "photoUrl": "https://lh3.googleusercontent.com/a-/AAuE7mCd3J-wiaTRAMsTWOz4AF74B4RjDuGp-6w772_RNQ=s64",
      "userId": "17671873586329970946"
     },
     "user_tz": 300
    },
    "id": "xhKHMLMoLuRM",
    "outputId": "b8f96581-7b1d-4a65-8b37-4dd3f48c4c5d"
   },
   "outputs": [
    {
     "data": {
      "image/png": "[encoded data removed]",
      "text/plain": [
       "<Figure size 432x288 with 1 Axes>"
      ]
     },
     "metadata": {
      "needs_background": "light"
     },
     "output_type": "display_data"
    }
   ],
   "source": [
    "#import matplotlib.pyplot as plt\n",
    "fig, ax = plt.subplots()\n",
    "ax.scatter(y_test, predictedValues)\n",
    "ax.plot([y.min(), y.max()], [y.min(), y.max()], 'k--', lw=4)\n",
    "ax.set_xlabel('Actual')\n",
    "ax.set_ylabel('Predicted')\n",
    "plt.show() "
   ]
  },
  {
   "cell_type": "markdown",
   "metadata": {
    "colab_type": "text",
    "id": "kbp8CTtPjzN_"
   },
   "source": [
    "Applying Boosted Linear Regression"
   ]
  },
  {
   "cell_type": "code",
   "execution_count": 87,
   "metadata": {
    "colab": {
     "base_uri": "https://localhost:8080/",
     "height": 85
    },
    "colab_type": "code",
    "executionInfo": {
     "elapsed": 1174961,
     "status": "ok",
     "timestamp": 1575591722437,
     "user": {
      "displayName": "Pranay Kumar",
      "photoUrl": "https://lh3.googleusercontent.com/a-/AAuE7mCd3J-wiaTRAMsTWOz4AF74B4RjDuGp-6w772_RNQ=s64",
      "userId": "17671873586329970946"
     },
     "user_tz": 300
    },
    "id": "0WWf9aEaMQ3u",
    "outputId": "6d4462a1-b821-4c71-9574-d8768a9b4d62"
   },
   "outputs": [
    {
     "name": "stdout",
     "output_type": "stream",
     "text": [
      "MAE: 45.79086290855338\n",
      "MSE: 3578.9185387250177\n",
      "RMSE: 59.82406320808557\n",
      "R2: -1.5636478970924133\n"
     ]
    }
   ],
   "source": [
    "fitResultBl = Boost_Lin.fit(X_train_sc,y_train)\n",
    "predictedValues = fitResultBl.predict(X_test_sc)\n",
    "print ('MAE:' ,  mean_absolute_error(y_test, predictedValues))\n",
    "print ('MSE:' , mean_squared_error(y_test, predictedValues))\n",
    "print('RMSE:' , np.sqrt(mean_squared_error(y_test, predictedValues)))\n",
    "print ('R2:' , r2_score(y_test, predictedValues))"
   ]
  },
  {
   "cell_type": "code",
   "execution_count": 88,
   "metadata": {
    "colab": {
     "base_uri": "https://localhost:8080/",
     "height": 279
    },
    "colab_type": "code",
    "executionInfo": {
     "elapsed": 1181400,
     "status": "ok",
     "timestamp": 1575591730533,
     "user": {
      "displayName": "Pranay Kumar",
      "photoUrl": "https://lh3.googleusercontent.com/a-/AAuE7mCd3J-wiaTRAMsTWOz4AF74B4RjDuGp-6w772_RNQ=s64",
      "userId": "17671873586329970946"
     },
     "user_tz": 300
    },
    "id": "UNmkj557MUNL",
    "outputId": "308d799c-4f71-4f94-a9d6-fe900b45644b"
   },
   "outputs": [
    {
     "data": {
      "image/png": "[encoded data removed]",
      "text/plain": [
       "<Figure size 432x288 with 1 Axes>"
      ]
     },
     "metadata": {
      "needs_background": "light"
     },
     "output_type": "display_data"
    }
   ],
   "source": [
    "#import matplotlib.pyplot as plt\n",
    "fig, ax = plt.subplots()\n",
    "ax.scatter(y_test, predictedValues)\n",
    "ax.plot([y.min(), y.max()], [y.min(), y.max()], 'k--', lw=4)\n",
    "ax.set_xlabel('Actual')\n",
    "ax.set_ylabel('Predicted')\n",
    "plt.show() "
   ]
  },
  {
   "cell_type": "code",
   "execution_count": 89,
   "metadata": {
    "colab": {
     "base_uri": "https://localhost:8080/",
     "height": 439
    },
    "colab_type": "code",
    "executionInfo": {
     "elapsed": 1179431,
     "status": "ok",
     "timestamp": 1575591730534,
     "user": {
      "displayName": "Pranay Kumar",
      "photoUrl": "https://lh3.googleusercontent.com/a-/AAuE7mCd3J-wiaTRAMsTWOz4AF74B4RjDuGp-6w772_RNQ=s64",
      "userId": "17671873586329970946"
     },
     "user_tz": 300
    },
    "id": "M5ikRxtjH8fI",
    "outputId": "c8ed7688-0cc9-4989-8a76-a24248519cf8"
   },
   "outputs": [
    {
     "data": {
      "text/html": [
       "<div>\n",
       "<style scoped>\n",
       "    .dataframe tbody tr th:only-of-type {\n",
       "        vertical-align: middle;\n",
       "    }\n",
       "\n",
       "    .dataframe tbody tr th {\n",
       "        vertical-align: top;\n",
       "    }\n",
       "\n",
       "    .dataframe thead th {\n",
       "        text-align: right;\n",
       "    }\n",
       "</style>\n",
       "<table border=\"1\" class=\"dataframe\">\n",
       "  <thead>\n",
       "    <tr style=\"text-align: right;\">\n",
       "      <th></th>\n",
       "      <th>AIRLINE</th>\n",
       "      <th>ORIGIN_AIRPORT</th>\n",
       "      <th>DESTINATION_AIRPORT</th>\n",
       "      <th>DISTANCE</th>\n",
       "      <th>Day</th>\n",
       "      <th>SCHEDULED_TIME</th>\n",
       "      <th>ELAPSED_TIME</th>\n",
       "      <th>AIR_TIME</th>\n",
       "      <th>TAXI_IN</th>\n",
       "      <th>TAXI_OUT</th>\n",
       "      <th>DIVERTED</th>\n",
       "    </tr>\n",
       "  </thead>\n",
       "  <tbody>\n",
       "    <tr>\n",
       "      <th>1331801</th>\n",
       "      <td>4</td>\n",
       "      <td>275</td>\n",
       "      <td>20</td>\n",
       "      <td>2182</td>\n",
       "      <td>5</td>\n",
       "      <td>281.0</td>\n",
       "      <td>252.0</td>\n",
       "      <td>230.0</td>\n",
       "      <td>6.0</td>\n",
       "      <td>16.0</td>\n",
       "      <td>0</td>\n",
       "    </tr>\n",
       "    <tr>\n",
       "      <th>4905297</th>\n",
       "      <td>9</td>\n",
       "      <td>113</td>\n",
       "      <td>283</td>\n",
       "      <td>1046</td>\n",
       "      <td>2</td>\n",
       "      <td>150.0</td>\n",
       "      <td>145.0</td>\n",
       "      <td>129.0</td>\n",
       "      <td>6.0</td>\n",
       "      <td>10.0</td>\n",
       "      <td>0</td>\n",
       "    </tr>\n",
       "    <tr>\n",
       "      <th>236036</th>\n",
       "      <td>11</td>\n",
       "      <td>227</td>\n",
       "      <td>237</td>\n",
       "      <td>1440</td>\n",
       "      <td>0</td>\n",
       "      <td>234.0</td>\n",
       "      <td>207.0</td>\n",
       "      <td>192.0</td>\n",
       "      <td>3.0</td>\n",
       "      <td>12.0</td>\n",
       "      <td>0</td>\n",
       "    </tr>\n",
       "    <tr>\n",
       "      <th>5220003</th>\n",
       "      <td>3</td>\n",
       "      <td>20</td>\n",
       "      <td>77</td>\n",
       "      <td>83</td>\n",
       "      <td>0</td>\n",
       "      <td>42.0</td>\n",
       "      <td>41.0</td>\n",
       "      <td>21.0</td>\n",
       "      <td>3.0</td>\n",
       "      <td>17.0</td>\n",
       "      <td>0</td>\n",
       "    </tr>\n",
       "    <tr>\n",
       "      <th>3904446</th>\n",
       "      <td>11</td>\n",
       "      <td>20</td>\n",
       "      <td>66</td>\n",
       "      <td>226</td>\n",
       "      <td>5</td>\n",
       "      <td>74.0</td>\n",
       "      <td>83.0</td>\n",
       "      <td>44.0</td>\n",
       "      <td>9.0</td>\n",
       "      <td>30.0</td>\n",
       "      <td>0</td>\n",
       "    </tr>\n",
       "    <tr>\n",
       "      <th>...</th>\n",
       "      <td>...</td>\n",
       "      <td>...</td>\n",
       "      <td>...</td>\n",
       "      <td>...</td>\n",
       "      <td>...</td>\n",
       "      <td>...</td>\n",
       "      <td>...</td>\n",
       "      <td>...</td>\n",
       "      <td>...</td>\n",
       "      <td>...</td>\n",
       "      <td>...</td>\n",
       "    </tr>\n",
       "    <tr>\n",
       "      <th>3322861</th>\n",
       "      <td>1</td>\n",
       "      <td>66</td>\n",
       "      <td>39</td>\n",
       "      <td>728</td>\n",
       "      <td>4</td>\n",
       "      <td>120.0</td>\n",
       "      <td>126.0</td>\n",
       "      <td>96.0</td>\n",
       "      <td>7.0</td>\n",
       "      <td>23.0</td>\n",
       "      <td>0</td>\n",
       "    </tr>\n",
       "    <tr>\n",
       "      <th>1200682</th>\n",
       "      <td>2</td>\n",
       "      <td>11</td>\n",
       "      <td>86</td>\n",
       "      <td>285</td>\n",
       "      <td>2</td>\n",
       "      <td>78.0</td>\n",
       "      <td>66.0</td>\n",
       "      <td>49.0</td>\n",
       "      <td>5.0</td>\n",
       "      <td>12.0</td>\n",
       "      <td>0</td>\n",
       "    </tr>\n",
       "    <tr>\n",
       "      <th>1256422</th>\n",
       "      <td>8</td>\n",
       "      <td>227</td>\n",
       "      <td>215</td>\n",
       "      <td>334</td>\n",
       "      <td>6</td>\n",
       "      <td>95.0</td>\n",
       "      <td>94.0</td>\n",
       "      <td>60.0</td>\n",
       "      <td>9.0</td>\n",
       "      <td>25.0</td>\n",
       "      <td>0</td>\n",
       "    </tr>\n",
       "    <tr>\n",
       "      <th>310169</th>\n",
       "      <td>1</td>\n",
       "      <td>175</td>\n",
       "      <td>222</td>\n",
       "      <td>2486</td>\n",
       "      <td>6</td>\n",
       "      <td>343.0</td>\n",
       "      <td>335.0</td>\n",
       "      <td>313.0</td>\n",
       "      <td>5.0</td>\n",
       "      <td>17.0</td>\n",
       "      <td>0</td>\n",
       "    </tr>\n",
       "    <tr>\n",
       "      <th>3678972</th>\n",
       "      <td>7</td>\n",
       "      <td>66</td>\n",
       "      <td>165</td>\n",
       "      <td>541</td>\n",
       "      <td>5</td>\n",
       "      <td>107.0</td>\n",
       "      <td>122.0</td>\n",
       "      <td>74.0</td>\n",
       "      <td>5.0</td>\n",
       "      <td>43.0</td>\n",
       "      <td>0</td>\n",
       "    </tr>\n",
       "  </tbody>\n",
       "</table>\n",
       "<p>1304811 rows × 11 columns</p>\n",
       "</div>"
      ],
      "text/plain": [
       "         AIRLINE  ORIGIN_AIRPORT  DESTINATION_AIRPORT  DISTANCE  Day  \\\n",
       "1331801        4             275                   20      2182    5   \n",
       "4905297        9             113                  283      1046    2   \n",
       "236036        11             227                  237      1440    0   \n",
       "5220003        3              20                   77        83    0   \n",
       "3904446       11              20                   66       226    5   \n",
       "...          ...             ...                  ...       ...  ...   \n",
       "3322861        1              66                   39       728    4   \n",
       "1200682        2              11                   86       285    2   \n",
       "1256422        8             227                  215       334    6   \n",
       "310169         1             175                  222      2486    6   \n",
       "3678972        7              66                  165       541    5   \n",
       "\n",
       "         SCHEDULED_TIME  ELAPSED_TIME  AIR_TIME  TAXI_IN  TAXI_OUT  DIVERTED  \n",
       "1331801           281.0         252.0     230.0      6.0      16.0         0  \n",
       "4905297           150.0         145.0     129.0      6.0      10.0         0  \n",
       "236036            234.0         207.0     192.0      3.0      12.0         0  \n",
       "5220003            42.0          41.0      21.0      3.0      17.0         0  \n",
       "3904446            74.0          83.0      44.0      9.0      30.0         0  \n",
       "...                 ...           ...       ...      ...       ...       ...  \n",
       "3322861           120.0         126.0      96.0      7.0      23.0         0  \n",
       "1200682            78.0          66.0      49.0      5.0      12.0         0  \n",
       "1256422            95.0          94.0      60.0      9.0      25.0         0  \n",
       "310169            343.0         335.0     313.0      5.0      17.0         0  \n",
       "3678972           107.0         122.0      74.0      5.0      43.0         0  \n",
       "\n",
       "[1304811 rows x 11 columns]"
      ]
     },
     "execution_count": 89,
     "metadata": {},
     "output_type": "execute_result"
    }
   ],
   "source": [
    "X_test"
   ]
  },
  {
   "cell_type": "code",
   "execution_count": 90,
   "metadata": {
    "colab": {
     "base_uri": "https://localhost:8080/",
     "height": 439
    },
    "colab_type": "code",
    "executionInfo": {
     "elapsed": 1177119,
     "status": "ok",
     "timestamp": 1575591730535,
     "user": {
      "displayName": "Pranay Kumar",
      "photoUrl": "https://lh3.googleusercontent.com/a-/AAuE7mCd3J-wiaTRAMsTWOz4AF74B4RjDuGp-6w772_RNQ=s64",
      "userId": "17671873586329970946"
     },
     "user_tz": 300
    },
    "id": "g4MTCG8At9Kh",
    "outputId": "b80d4586-2db2-455a-d5d4-aca9d66212f9"
   },
   "outputs": [
    {
     "data": {
      "text/html": [
       "<div>\n",
       "<style scoped>\n",
       "    .dataframe tbody tr th:only-of-type {\n",
       "        vertical-align: middle;\n",
       "    }\n",
       "\n",
       "    .dataframe tbody tr th {\n",
       "        vertical-align: top;\n",
       "    }\n",
       "\n",
       "    .dataframe thead th {\n",
       "        text-align: right;\n",
       "    }\n",
       "</style>\n",
       "<table border=\"1\" class=\"dataframe\">\n",
       "  <thead>\n",
       "    <tr style=\"text-align: right;\">\n",
       "      <th></th>\n",
       "      <th>AIRLINE</th>\n",
       "      <th>ORIGIN_AIRPORT</th>\n",
       "      <th>DESTINATION_AIRPORT</th>\n",
       "      <th>DISTANCE</th>\n",
       "      <th>Day</th>\n",
       "      <th>DEPARTURE_DELAY</th>\n",
       "      <th>ARRIVAL_DELAY</th>\n",
       "      <th>SCHEDULED_TIME</th>\n",
       "      <th>ELAPSED_TIME</th>\n",
       "      <th>AIR_TIME</th>\n",
       "      <th>TAXI_IN</th>\n",
       "      <th>TAXI_OUT</th>\n",
       "      <th>DIVERTED</th>\n",
       "    </tr>\n",
       "  </thead>\n",
       "  <tbody>\n",
       "    <tr>\n",
       "      <th>0</th>\n",
       "      <td>0</td>\n",
       "      <td>17</td>\n",
       "      <td>275</td>\n",
       "      <td>1448</td>\n",
       "      <td>4</td>\n",
       "      <td>-11.0</td>\n",
       "      <td>-22.0</td>\n",
       "      <td>205.0</td>\n",
       "      <td>194.0</td>\n",
       "      <td>169.0</td>\n",
       "      <td>4.0</td>\n",
       "      <td>21.0</td>\n",
       "      <td>0</td>\n",
       "    </tr>\n",
       "    <tr>\n",
       "      <th>1</th>\n",
       "      <td>0</td>\n",
       "      <td>17</td>\n",
       "      <td>275</td>\n",
       "      <td>1448</td>\n",
       "      <td>4</td>\n",
       "      <td>-4.0</td>\n",
       "      <td>-14.0</td>\n",
       "      <td>204.0</td>\n",
       "      <td>194.0</td>\n",
       "      <td>173.0</td>\n",
       "      <td>4.0</td>\n",
       "      <td>17.0</td>\n",
       "      <td>0</td>\n",
       "    </tr>\n",
       "    <tr>\n",
       "      <th>2</th>\n",
       "      <td>0</td>\n",
       "      <td>17</td>\n",
       "      <td>275</td>\n",
       "      <td>1448</td>\n",
       "      <td>4</td>\n",
       "      <td>-15.0</td>\n",
       "      <td>-35.0</td>\n",
       "      <td>218.0</td>\n",
       "      <td>198.0</td>\n",
       "      <td>170.0</td>\n",
       "      <td>11.0</td>\n",
       "      <td>17.0</td>\n",
       "      <td>0</td>\n",
       "    </tr>\n",
       "    <tr>\n",
       "      <th>3</th>\n",
       "      <td>0</td>\n",
       "      <td>17</td>\n",
       "      <td>275</td>\n",
       "      <td>1448</td>\n",
       "      <td>4</td>\n",
       "      <td>-11.0</td>\n",
       "      <td>-12.0</td>\n",
       "      <td>200.0</td>\n",
       "      <td>199.0</td>\n",
       "      <td>176.0</td>\n",
       "      <td>8.0</td>\n",
       "      <td>15.0</td>\n",
       "      <td>0</td>\n",
       "    </tr>\n",
       "    <tr>\n",
       "      <th>4</th>\n",
       "      <td>0</td>\n",
       "      <td>17</td>\n",
       "      <td>275</td>\n",
       "      <td>1448</td>\n",
       "      <td>4</td>\n",
       "      <td>-8.0</td>\n",
       "      <td>-14.0</td>\n",
       "      <td>205.0</td>\n",
       "      <td>199.0</td>\n",
       "      <td>179.0</td>\n",
       "      <td>4.0</td>\n",
       "      <td>16.0</td>\n",
       "      <td>0</td>\n",
       "    </tr>\n",
       "    <tr>\n",
       "      <th>...</th>\n",
       "      <td>...</td>\n",
       "      <td>...</td>\n",
       "      <td>...</td>\n",
       "      <td>...</td>\n",
       "      <td>...</td>\n",
       "      <td>...</td>\n",
       "      <td>...</td>\n",
       "      <td>...</td>\n",
       "      <td>...</td>\n",
       "      <td>...</td>\n",
       "      <td>...</td>\n",
       "      <td>...</td>\n",
       "      <td>...</td>\n",
       "    </tr>\n",
       "    <tr>\n",
       "      <th>5221995</th>\n",
       "      <td>3</td>\n",
       "      <td>195</td>\n",
       "      <td>239</td>\n",
       "      <td>69</td>\n",
       "      <td>5</td>\n",
       "      <td>-9.0</td>\n",
       "      <td>-18.0</td>\n",
       "      <td>34.0</td>\n",
       "      <td>25.0</td>\n",
       "      <td>17.0</td>\n",
       "      <td>2.0</td>\n",
       "      <td>6.0</td>\n",
       "      <td>0</td>\n",
       "    </tr>\n",
       "    <tr>\n",
       "      <th>5221996</th>\n",
       "      <td>3</td>\n",
       "      <td>195</td>\n",
       "      <td>239</td>\n",
       "      <td>69</td>\n",
       "      <td>6</td>\n",
       "      <td>101.0</td>\n",
       "      <td>90.0</td>\n",
       "      <td>34.0</td>\n",
       "      <td>23.0</td>\n",
       "      <td>14.0</td>\n",
       "      <td>5.0</td>\n",
       "      <td>4.0</td>\n",
       "      <td>0</td>\n",
       "    </tr>\n",
       "    <tr>\n",
       "      <th>5221997</th>\n",
       "      <td>3</td>\n",
       "      <td>195</td>\n",
       "      <td>239</td>\n",
       "      <td>69</td>\n",
       "      <td>6</td>\n",
       "      <td>10.0</td>\n",
       "      <td>10.0</td>\n",
       "      <td>34.0</td>\n",
       "      <td>34.0</td>\n",
       "      <td>18.0</td>\n",
       "      <td>4.0</td>\n",
       "      <td>12.0</td>\n",
       "      <td>0</td>\n",
       "    </tr>\n",
       "    <tr>\n",
       "      <th>5221998</th>\n",
       "      <td>3</td>\n",
       "      <td>195</td>\n",
       "      <td>239</td>\n",
       "      <td>69</td>\n",
       "      <td>4</td>\n",
       "      <td>-14.0</td>\n",
       "      <td>-18.0</td>\n",
       "      <td>34.0</td>\n",
       "      <td>30.0</td>\n",
       "      <td>18.0</td>\n",
       "      <td>3.0</td>\n",
       "      <td>9.0</td>\n",
       "      <td>0</td>\n",
       "    </tr>\n",
       "    <tr>\n",
       "      <th>5221999</th>\n",
       "      <td>3</td>\n",
       "      <td>195</td>\n",
       "      <td>239</td>\n",
       "      <td>69</td>\n",
       "      <td>4</td>\n",
       "      <td>-26.0</td>\n",
       "      <td>-32.0</td>\n",
       "      <td>34.0</td>\n",
       "      <td>28.0</td>\n",
       "      <td>18.0</td>\n",
       "      <td>3.0</td>\n",
       "      <td>7.0</td>\n",
       "      <td>0</td>\n",
       "    </tr>\n",
       "  </tbody>\n",
       "</table>\n",
       "<p>5219244 rows × 13 columns</p>\n",
       "</div>"
      ],
      "text/plain": [
       "         AIRLINE  ORIGIN_AIRPORT  DESTINATION_AIRPORT  DISTANCE  Day  \\\n",
       "0              0              17                  275      1448    4   \n",
       "1              0              17                  275      1448    4   \n",
       "2              0              17                  275      1448    4   \n",
       "3              0              17                  275      1448    4   \n",
       "4              0              17                  275      1448    4   \n",
       "...          ...             ...                  ...       ...  ...   \n",
       "5221995        3             195                  239        69    5   \n",
       "5221996        3             195                  239        69    6   \n",
       "5221997        3             195                  239        69    6   \n",
       "5221998        3             195                  239        69    4   \n",
       "5221999        3             195                  239        69    4   \n",
       "\n",
       "         DEPARTURE_DELAY  ARRIVAL_DELAY  SCHEDULED_TIME  ELAPSED_TIME  \\\n",
       "0                  -11.0          -22.0           205.0         194.0   \n",
       "1                   -4.0          -14.0           204.0         194.0   \n",
       "2                  -15.0          -35.0           218.0         198.0   \n",
       "3                  -11.0          -12.0           200.0         199.0   \n",
       "4                   -8.0          -14.0           205.0         199.0   \n",
       "...                  ...            ...             ...           ...   \n",
       "5221995             -9.0          -18.0            34.0          25.0   \n",
       "5221996            101.0           90.0            34.0          23.0   \n",
       "5221997             10.0           10.0            34.0          34.0   \n",
       "5221998            -14.0          -18.0            34.0          30.0   \n",
       "5221999            -26.0          -32.0            34.0          28.0   \n",
       "\n",
       "         AIR_TIME  TAXI_IN  TAXI_OUT  DIVERTED  \n",
       "0           169.0      4.0      21.0         0  \n",
       "1           173.0      4.0      17.0         0  \n",
       "2           170.0     11.0      17.0         0  \n",
       "3           176.0      8.0      15.0         0  \n",
       "4           179.0      4.0      16.0         0  \n",
       "...           ...      ...       ...       ...  \n",
       "5221995      17.0      2.0       6.0         0  \n",
       "5221996      14.0      5.0       4.0         0  \n",
       "5221997      18.0      4.0      12.0         0  \n",
       "5221998      18.0      3.0       9.0         0  \n",
       "5221999      18.0      3.0       7.0         0  \n",
       "\n",
       "[5219244 rows x 13 columns]"
      ]
     },
     "execution_count": 90,
     "metadata": {},
     "output_type": "execute_result"
    }
   ],
   "source": [
    "Flights1"
   ]
  },
  {
   "cell_type": "code",
   "execution_count": 91,
   "metadata": {
    "colab": {},
    "colab_type": "code",
    "id": "rUkbiPCot9Ki"
   },
   "outputs": [],
   "source": [
    "Flights1['ORIGIN_AIRPORT'] = Flights1['ORIGIN_AIRPORT'].astype(str)\n",
    "Flights1['DESTINATION_AIRPORT'] = Flights1['DESTINATION_AIRPORT'].astype(str)"
   ]
  },
  {
   "cell_type": "code",
   "execution_count": 92,
   "metadata": {
    "colab": {},
    "colab_type": "code",
    "id": "wPmGEntft9Kl"
   },
   "outputs": [],
   "source": [
    "Flights1['AIRLINE']= le.fit_transform(Flights1['AIRLINE'])\n",
    "Flights1['ORIGIN_AIRPORT'] = le.fit_transform(Flights1['ORIGIN_AIRPORT'])\n",
    "Flights1['DESTINATION_AIRPORT'] = le.fit_transform(Flights1['DESTINATION_AIRPORT'])"
   ]
  },
  {
   "cell_type": "markdown",
   "metadata": {
    "colab_type": "text",
    "id": "s5ed5Jbhj28E"
   },
   "source": [
    "**Creating a new feature which has value only as 0 or 1 depending on it it is dealyed or not**"
   ]
  },
  {
   "cell_type": "code",
   "execution_count": 93,
   "metadata": {
    "colab": {},
    "colab_type": "code",
    "id": "jMXRVU34h5HN"
   },
   "outputs": [],
   "source": [
    "Flights1['Is_Delayed'] = np.where(Flights1['ARRIVAL_DELAY']<=0, 0,1)"
   ]
  },
  {
   "cell_type": "code",
   "execution_count": 94,
   "metadata": {
    "colab": {
     "base_uri": "https://localhost:8080/",
     "height": 419
    },
    "colab_type": "code",
    "executionInfo": {
     "elapsed": 5243,
     "status": "ok",
     "timestamp": 1575595307689,
     "user": {
      "displayName": "Pranay Kumar",
      "photoUrl": "https://lh3.googleusercontent.com/a-/AAuE7mCd3J-wiaTRAMsTWOz4AF74B4RjDuGp-6w772_RNQ=s64",
      "userId": "17671873586329970946"
     },
     "user_tz": 300
    },
    "id": "GWajAJKWi9mZ",
    "outputId": "604bd542-20b5-4544-9714-b2a13ca33bbc"
   },
   "outputs": [
    {
     "data": {
      "text/html": [
       "<div>\n",
       "<style scoped>\n",
       "    .dataframe tbody tr th:only-of-type {\n",
       "        vertical-align: middle;\n",
       "    }\n",
       "\n",
       "    .dataframe tbody tr th {\n",
       "        vertical-align: top;\n",
       "    }\n",
       "\n",
       "    .dataframe thead th {\n",
       "        text-align: right;\n",
       "    }\n",
       "</style>\n",
       "<table border=\"1\" class=\"dataframe\">\n",
       "  <thead>\n",
       "    <tr style=\"text-align: right;\">\n",
       "      <th></th>\n",
       "      <th>AIRLINE</th>\n",
       "      <th>ORIGIN_AIRPORT</th>\n",
       "      <th>DESTINATION_AIRPORT</th>\n",
       "      <th>DISTANCE</th>\n",
       "      <th>Day</th>\n",
       "      <th>DEPARTURE_DELAY</th>\n",
       "      <th>ARRIVAL_DELAY</th>\n",
       "      <th>SCHEDULED_TIME</th>\n",
       "      <th>ELAPSED_TIME</th>\n",
       "      <th>AIR_TIME</th>\n",
       "      <th>TAXI_IN</th>\n",
       "      <th>TAXI_OUT</th>\n",
       "      <th>DIVERTED</th>\n",
       "      <th>Is_Delayed</th>\n",
       "    </tr>\n",
       "  </thead>\n",
       "  <tbody>\n",
       "    <tr>\n",
       "      <th>0</th>\n",
       "      <td>0</td>\n",
       "      <td>79</td>\n",
       "      <td>196</td>\n",
       "      <td>1448</td>\n",
       "      <td>4</td>\n",
       "      <td>-11.0</td>\n",
       "      <td>-22.0</td>\n",
       "      <td>205.0</td>\n",
       "      <td>194.0</td>\n",
       "      <td>169.0</td>\n",
       "      <td>4.0</td>\n",
       "      <td>21.0</td>\n",
       "      <td>0</td>\n",
       "      <td>0</td>\n",
       "    </tr>\n",
       "    <tr>\n",
       "      <th>1</th>\n",
       "      <td>0</td>\n",
       "      <td>79</td>\n",
       "      <td>196</td>\n",
       "      <td>1448</td>\n",
       "      <td>4</td>\n",
       "      <td>-4.0</td>\n",
       "      <td>-14.0</td>\n",
       "      <td>204.0</td>\n",
       "      <td>194.0</td>\n",
       "      <td>173.0</td>\n",
       "      <td>4.0</td>\n",
       "      <td>17.0</td>\n",
       "      <td>0</td>\n",
       "      <td>0</td>\n",
       "    </tr>\n",
       "    <tr>\n",
       "      <th>2</th>\n",
       "      <td>0</td>\n",
       "      <td>79</td>\n",
       "      <td>196</td>\n",
       "      <td>1448</td>\n",
       "      <td>4</td>\n",
       "      <td>-15.0</td>\n",
       "      <td>-35.0</td>\n",
       "      <td>218.0</td>\n",
       "      <td>198.0</td>\n",
       "      <td>170.0</td>\n",
       "      <td>11.0</td>\n",
       "      <td>17.0</td>\n",
       "      <td>0</td>\n",
       "      <td>0</td>\n",
       "    </tr>\n",
       "    <tr>\n",
       "      <th>3</th>\n",
       "      <td>0</td>\n",
       "      <td>79</td>\n",
       "      <td>196</td>\n",
       "      <td>1448</td>\n",
       "      <td>4</td>\n",
       "      <td>-11.0</td>\n",
       "      <td>-12.0</td>\n",
       "      <td>200.0</td>\n",
       "      <td>199.0</td>\n",
       "      <td>176.0</td>\n",
       "      <td>8.0</td>\n",
       "      <td>15.0</td>\n",
       "      <td>0</td>\n",
       "      <td>0</td>\n",
       "    </tr>\n",
       "    <tr>\n",
       "      <th>4</th>\n",
       "      <td>0</td>\n",
       "      <td>79</td>\n",
       "      <td>196</td>\n",
       "      <td>1448</td>\n",
       "      <td>4</td>\n",
       "      <td>-8.0</td>\n",
       "      <td>-14.0</td>\n",
       "      <td>205.0</td>\n",
       "      <td>199.0</td>\n",
       "      <td>179.0</td>\n",
       "      <td>4.0</td>\n",
       "      <td>16.0</td>\n",
       "      <td>0</td>\n",
       "      <td>0</td>\n",
       "    </tr>\n",
       "    <tr>\n",
       "      <th>...</th>\n",
       "      <td>...</td>\n",
       "      <td>...</td>\n",
       "      <td>...</td>\n",
       "      <td>...</td>\n",
       "      <td>...</td>\n",
       "      <td>...</td>\n",
       "      <td>...</td>\n",
       "      <td>...</td>\n",
       "      <td>...</td>\n",
       "      <td>...</td>\n",
       "      <td>...</td>\n",
       "      <td>...</td>\n",
       "      <td>...</td>\n",
       "      <td>...</td>\n",
       "    </tr>\n",
       "    <tr>\n",
       "      <th>5221995</th>\n",
       "      <td>3</td>\n",
       "      <td>107</td>\n",
       "      <td>156</td>\n",
       "      <td>69</td>\n",
       "      <td>5</td>\n",
       "      <td>-9.0</td>\n",
       "      <td>-18.0</td>\n",
       "      <td>34.0</td>\n",
       "      <td>25.0</td>\n",
       "      <td>17.0</td>\n",
       "      <td>2.0</td>\n",
       "      <td>6.0</td>\n",
       "      <td>0</td>\n",
       "      <td>0</td>\n",
       "    </tr>\n",
       "    <tr>\n",
       "      <th>5221996</th>\n",
       "      <td>3</td>\n",
       "      <td>107</td>\n",
       "      <td>156</td>\n",
       "      <td>69</td>\n",
       "      <td>6</td>\n",
       "      <td>101.0</td>\n",
       "      <td>90.0</td>\n",
       "      <td>34.0</td>\n",
       "      <td>23.0</td>\n",
       "      <td>14.0</td>\n",
       "      <td>5.0</td>\n",
       "      <td>4.0</td>\n",
       "      <td>0</td>\n",
       "      <td>1</td>\n",
       "    </tr>\n",
       "    <tr>\n",
       "      <th>5221997</th>\n",
       "      <td>3</td>\n",
       "      <td>107</td>\n",
       "      <td>156</td>\n",
       "      <td>69</td>\n",
       "      <td>6</td>\n",
       "      <td>10.0</td>\n",
       "      <td>10.0</td>\n",
       "      <td>34.0</td>\n",
       "      <td>34.0</td>\n",
       "      <td>18.0</td>\n",
       "      <td>4.0</td>\n",
       "      <td>12.0</td>\n",
       "      <td>0</td>\n",
       "      <td>1</td>\n",
       "    </tr>\n",
       "    <tr>\n",
       "      <th>5221998</th>\n",
       "      <td>3</td>\n",
       "      <td>107</td>\n",
       "      <td>156</td>\n",
       "      <td>69</td>\n",
       "      <td>4</td>\n",
       "      <td>-14.0</td>\n",
       "      <td>-18.0</td>\n",
       "      <td>34.0</td>\n",
       "      <td>30.0</td>\n",
       "      <td>18.0</td>\n",
       "      <td>3.0</td>\n",
       "      <td>9.0</td>\n",
       "      <td>0</td>\n",
       "      <td>0</td>\n",
       "    </tr>\n",
       "    <tr>\n",
       "      <th>5221999</th>\n",
       "      <td>3</td>\n",
       "      <td>107</td>\n",
       "      <td>156</td>\n",
       "      <td>69</td>\n",
       "      <td>4</td>\n",
       "      <td>-26.0</td>\n",
       "      <td>-32.0</td>\n",
       "      <td>34.0</td>\n",
       "      <td>28.0</td>\n",
       "      <td>18.0</td>\n",
       "      <td>3.0</td>\n",
       "      <td>7.0</td>\n",
       "      <td>0</td>\n",
       "      <td>0</td>\n",
       "    </tr>\n",
       "  </tbody>\n",
       "</table>\n",
       "<p>5219244 rows × 14 columns</p>\n",
       "</div>"
      ],
      "text/plain": [
       "         AIRLINE  ORIGIN_AIRPORT  DESTINATION_AIRPORT  DISTANCE  Day  \\\n",
       "0              0              79                  196      1448    4   \n",
       "1              0              79                  196      1448    4   \n",
       "2              0              79                  196      1448    4   \n",
       "3              0              79                  196      1448    4   \n",
       "4              0              79                  196      1448    4   \n",
       "...          ...             ...                  ...       ...  ...   \n",
       "5221995        3             107                  156        69    5   \n",
       "5221996        3             107                  156        69    6   \n",
       "5221997        3             107                  156        69    6   \n",
       "5221998        3             107                  156        69    4   \n",
       "5221999        3             107                  156        69    4   \n",
       "\n",
       "         DEPARTURE_DELAY  ARRIVAL_DELAY  SCHEDULED_TIME  ELAPSED_TIME  \\\n",
       "0                  -11.0          -22.0           205.0         194.0   \n",
       "1                   -4.0          -14.0           204.0         194.0   \n",
       "2                  -15.0          -35.0           218.0         198.0   \n",
       "3                  -11.0          -12.0           200.0         199.0   \n",
       "4                   -8.0          -14.0           205.0         199.0   \n",
       "...                  ...            ...             ...           ...   \n",
       "5221995             -9.0          -18.0            34.0          25.0   \n",
       "5221996            101.0           90.0            34.0          23.0   \n",
       "5221997             10.0           10.0            34.0          34.0   \n",
       "5221998            -14.0          -18.0            34.0          30.0   \n",
       "5221999            -26.0          -32.0            34.0          28.0   \n",
       "\n",
       "         AIR_TIME  TAXI_IN  TAXI_OUT  DIVERTED  Is_Delayed  \n",
       "0           169.0      4.0      21.0         0           0  \n",
       "1           173.0      4.0      17.0         0           0  \n",
       "2           170.0     11.0      17.0         0           0  \n",
       "3           176.0      8.0      15.0         0           0  \n",
       "4           179.0      4.0      16.0         0           0  \n",
       "...           ...      ...       ...       ...         ...  \n",
       "5221995      17.0      2.0       6.0         0           0  \n",
       "5221996      14.0      5.0       4.0         0           1  \n",
       "5221997      18.0      4.0      12.0         0           1  \n",
       "5221998      18.0      3.0       9.0         0           0  \n",
       "5221999      18.0      3.0       7.0         0           0  \n",
       "\n",
       "[5219244 rows x 14 columns]"
      ]
     },
     "execution_count": 94,
     "metadata": {},
     "output_type": "execute_result"
    }
   ],
   "source": [
    "Flights1"
   ]
  },
  {
   "cell_type": "code",
   "execution_count": 95,
   "metadata": {
    "colab": {
     "base_uri": "https://localhost:8080/",
     "height": 119
    },
    "colab_type": "code",
    "executionInfo": {
     "elapsed": 1396,
     "status": "ok",
     "timestamp": 1575595312635,
     "user": {
      "displayName": "Pranay Kumar",
      "photoUrl": "https://lh3.googleusercontent.com/a-/AAuE7mCd3J-wiaTRAMsTWOz4AF74B4RjDuGp-6w772_RNQ=s64",
      "userId": "17671873586329970946"
     },
     "user_tz": 300
    },
    "id": "X2jhGKJNt9Ko",
    "outputId": "6ba60e60-b9c9-4cb2-e4c7-d8a810c6936f"
   },
   "outputs": [
    {
     "data": {
      "text/plain": [
       "0    0\n",
       "1    0\n",
       "2    0\n",
       "3    0\n",
       "4    0\n",
       "Name: Is_Delayed, dtype: int32"
      ]
     },
     "execution_count": 95,
     "metadata": {},
     "output_type": "execute_result"
    }
   ],
   "source": [
    "X = Flights1.drop(['ARRIVAL_DELAY','Is_Delayed'],axis = 1)\n",
    "X.shape\n",
    "y = Flights1['Is_Delayed']\n",
    "y.head()"
   ]
  },
  {
   "cell_type": "code",
   "execution_count": 96,
   "metadata": {
    "colab": {
     "base_uri": "https://localhost:8080/",
     "height": 419
    },
    "colab_type": "code",
    "executionInfo": {
     "elapsed": 1377,
     "status": "ok",
     "timestamp": 1575595314308,
     "user": {
      "displayName": "Pranay Kumar",
      "photoUrl": "https://lh3.googleusercontent.com/a-/AAuE7mCd3J-wiaTRAMsTWOz4AF74B4RjDuGp-6w772_RNQ=s64",
      "userId": "17671873586329970946"
     },
     "user_tz": 300
    },
    "id": "2I6_Iq4pjyLi",
    "outputId": "2746292b-ba2a-4775-cdf6-c113056b6f5a"
   },
   "outputs": [
    {
     "data": {
      "text/html": [
       "<div>\n",
       "<style scoped>\n",
       "    .dataframe tbody tr th:only-of-type {\n",
       "        vertical-align: middle;\n",
       "    }\n",
       "\n",
       "    .dataframe tbody tr th {\n",
       "        vertical-align: top;\n",
       "    }\n",
       "\n",
       "    .dataframe thead th {\n",
       "        text-align: right;\n",
       "    }\n",
       "</style>\n",
       "<table border=\"1\" class=\"dataframe\">\n",
       "  <thead>\n",
       "    <tr style=\"text-align: right;\">\n",
       "      <th></th>\n",
       "      <th>AIRLINE</th>\n",
       "      <th>ORIGIN_AIRPORT</th>\n",
       "      <th>DESTINATION_AIRPORT</th>\n",
       "      <th>DISTANCE</th>\n",
       "      <th>Day</th>\n",
       "      <th>DEPARTURE_DELAY</th>\n",
       "      <th>SCHEDULED_TIME</th>\n",
       "      <th>ELAPSED_TIME</th>\n",
       "      <th>AIR_TIME</th>\n",
       "      <th>TAXI_IN</th>\n",
       "      <th>TAXI_OUT</th>\n",
       "      <th>DIVERTED</th>\n",
       "    </tr>\n",
       "  </thead>\n",
       "  <tbody>\n",
       "    <tr>\n",
       "      <th>0</th>\n",
       "      <td>0</td>\n",
       "      <td>79</td>\n",
       "      <td>196</td>\n",
       "      <td>1448</td>\n",
       "      <td>4</td>\n",
       "      <td>-11.0</td>\n",
       "      <td>205.0</td>\n",
       "      <td>194.0</td>\n",
       "      <td>169.0</td>\n",
       "      <td>4.0</td>\n",
       "      <td>21.0</td>\n",
       "      <td>0</td>\n",
       "    </tr>\n",
       "    <tr>\n",
       "      <th>1</th>\n",
       "      <td>0</td>\n",
       "      <td>79</td>\n",
       "      <td>196</td>\n",
       "      <td>1448</td>\n",
       "      <td>4</td>\n",
       "      <td>-4.0</td>\n",
       "      <td>204.0</td>\n",
       "      <td>194.0</td>\n",
       "      <td>173.0</td>\n",
       "      <td>4.0</td>\n",
       "      <td>17.0</td>\n",
       "      <td>0</td>\n",
       "    </tr>\n",
       "    <tr>\n",
       "      <th>2</th>\n",
       "      <td>0</td>\n",
       "      <td>79</td>\n",
       "      <td>196</td>\n",
       "      <td>1448</td>\n",
       "      <td>4</td>\n",
       "      <td>-15.0</td>\n",
       "      <td>218.0</td>\n",
       "      <td>198.0</td>\n",
       "      <td>170.0</td>\n",
       "      <td>11.0</td>\n",
       "      <td>17.0</td>\n",
       "      <td>0</td>\n",
       "    </tr>\n",
       "    <tr>\n",
       "      <th>3</th>\n",
       "      <td>0</td>\n",
       "      <td>79</td>\n",
       "      <td>196</td>\n",
       "      <td>1448</td>\n",
       "      <td>4</td>\n",
       "      <td>-11.0</td>\n",
       "      <td>200.0</td>\n",
       "      <td>199.0</td>\n",
       "      <td>176.0</td>\n",
       "      <td>8.0</td>\n",
       "      <td>15.0</td>\n",
       "      <td>0</td>\n",
       "    </tr>\n",
       "    <tr>\n",
       "      <th>4</th>\n",
       "      <td>0</td>\n",
       "      <td>79</td>\n",
       "      <td>196</td>\n",
       "      <td>1448</td>\n",
       "      <td>4</td>\n",
       "      <td>-8.0</td>\n",
       "      <td>205.0</td>\n",
       "      <td>199.0</td>\n",
       "      <td>179.0</td>\n",
       "      <td>4.0</td>\n",
       "      <td>16.0</td>\n",
       "      <td>0</td>\n",
       "    </tr>\n",
       "    <tr>\n",
       "      <th>...</th>\n",
       "      <td>...</td>\n",
       "      <td>...</td>\n",
       "      <td>...</td>\n",
       "      <td>...</td>\n",
       "      <td>...</td>\n",
       "      <td>...</td>\n",
       "      <td>...</td>\n",
       "      <td>...</td>\n",
       "      <td>...</td>\n",
       "      <td>...</td>\n",
       "      <td>...</td>\n",
       "      <td>...</td>\n",
       "    </tr>\n",
       "    <tr>\n",
       "      <th>5221995</th>\n",
       "      <td>3</td>\n",
       "      <td>107</td>\n",
       "      <td>156</td>\n",
       "      <td>69</td>\n",
       "      <td>5</td>\n",
       "      <td>-9.0</td>\n",
       "      <td>34.0</td>\n",
       "      <td>25.0</td>\n",
       "      <td>17.0</td>\n",
       "      <td>2.0</td>\n",
       "      <td>6.0</td>\n",
       "      <td>0</td>\n",
       "    </tr>\n",
       "    <tr>\n",
       "      <th>5221996</th>\n",
       "      <td>3</td>\n",
       "      <td>107</td>\n",
       "      <td>156</td>\n",
       "      <td>69</td>\n",
       "      <td>6</td>\n",
       "      <td>101.0</td>\n",
       "      <td>34.0</td>\n",
       "      <td>23.0</td>\n",
       "      <td>14.0</td>\n",
       "      <td>5.0</td>\n",
       "      <td>4.0</td>\n",
       "      <td>0</td>\n",
       "    </tr>\n",
       "    <tr>\n",
       "      <th>5221997</th>\n",
       "      <td>3</td>\n",
       "      <td>107</td>\n",
       "      <td>156</td>\n",
       "      <td>69</td>\n",
       "      <td>6</td>\n",
       "      <td>10.0</td>\n",
       "      <td>34.0</td>\n",
       "      <td>34.0</td>\n",
       "      <td>18.0</td>\n",
       "      <td>4.0</td>\n",
       "      <td>12.0</td>\n",
       "      <td>0</td>\n",
       "    </tr>\n",
       "    <tr>\n",
       "      <th>5221998</th>\n",
       "      <td>3</td>\n",
       "      <td>107</td>\n",
       "      <td>156</td>\n",
       "      <td>69</td>\n",
       "      <td>4</td>\n",
       "      <td>-14.0</td>\n",
       "      <td>34.0</td>\n",
       "      <td>30.0</td>\n",
       "      <td>18.0</td>\n",
       "      <td>3.0</td>\n",
       "      <td>9.0</td>\n",
       "      <td>0</td>\n",
       "    </tr>\n",
       "    <tr>\n",
       "      <th>5221999</th>\n",
       "      <td>3</td>\n",
       "      <td>107</td>\n",
       "      <td>156</td>\n",
       "      <td>69</td>\n",
       "      <td>4</td>\n",
       "      <td>-26.0</td>\n",
       "      <td>34.0</td>\n",
       "      <td>28.0</td>\n",
       "      <td>18.0</td>\n",
       "      <td>3.0</td>\n",
       "      <td>7.0</td>\n",
       "      <td>0</td>\n",
       "    </tr>\n",
       "  </tbody>\n",
       "</table>\n",
       "<p>5219244 rows × 12 columns</p>\n",
       "</div>"
      ],
      "text/plain": [
       "         AIRLINE  ORIGIN_AIRPORT  DESTINATION_AIRPORT  DISTANCE  Day  \\\n",
       "0              0              79                  196      1448    4   \n",
       "1              0              79                  196      1448    4   \n",
       "2              0              79                  196      1448    4   \n",
       "3              0              79                  196      1448    4   \n",
       "4              0              79                  196      1448    4   \n",
       "...          ...             ...                  ...       ...  ...   \n",
       "5221995        3             107                  156        69    5   \n",
       "5221996        3             107                  156        69    6   \n",
       "5221997        3             107                  156        69    6   \n",
       "5221998        3             107                  156        69    4   \n",
       "5221999        3             107                  156        69    4   \n",
       "\n",
       "         DEPARTURE_DELAY  SCHEDULED_TIME  ELAPSED_TIME  AIR_TIME  TAXI_IN  \\\n",
       "0                  -11.0           205.0         194.0     169.0      4.0   \n",
       "1                   -4.0           204.0         194.0     173.0      4.0   \n",
       "2                  -15.0           218.0         198.0     170.0     11.0   \n",
       "3                  -11.0           200.0         199.0     176.0      8.0   \n",
       "4                   -8.0           205.0         199.0     179.0      4.0   \n",
       "...                  ...             ...           ...       ...      ...   \n",
       "5221995             -9.0            34.0          25.0      17.0      2.0   \n",
       "5221996            101.0            34.0          23.0      14.0      5.0   \n",
       "5221997             10.0            34.0          34.0      18.0      4.0   \n",
       "5221998            -14.0            34.0          30.0      18.0      3.0   \n",
       "5221999            -26.0            34.0          28.0      18.0      3.0   \n",
       "\n",
       "         TAXI_OUT  DIVERTED  \n",
       "0            21.0         0  \n",
       "1            17.0         0  \n",
       "2            17.0         0  \n",
       "3            15.0         0  \n",
       "4            16.0         0  \n",
       "...           ...       ...  \n",
       "5221995       6.0         0  \n",
       "5221996       4.0         0  \n",
       "5221997      12.0         0  \n",
       "5221998       9.0         0  \n",
       "5221999       7.0         0  \n",
       "\n",
       "[5219244 rows x 12 columns]"
      ]
     },
     "execution_count": 96,
     "metadata": {},
     "output_type": "execute_result"
    }
   ],
   "source": [
    "X"
   ]
  },
  {
   "cell_type": "code",
   "execution_count": 97,
   "metadata": {
    "colab": {
     "base_uri": "https://localhost:8080/",
     "height": 221
    },
    "colab_type": "code",
    "executionInfo": {
     "elapsed": 1520,
     "status": "ok",
     "timestamp": 1575595316306,
     "user": {
      "displayName": "Pranay Kumar",
      "photoUrl": "https://lh3.googleusercontent.com/a-/AAuE7mCd3J-wiaTRAMsTWOz4AF74B4RjDuGp-6w772_RNQ=s64",
      "userId": "17671873586329970946"
     },
     "user_tz": 300
    },
    "id": "ZKf3yQYmkI2G",
    "outputId": "5f5d4f66-ccab-4790-f1e9-64b7eafa307a"
   },
   "outputs": [
    {
     "data": {
      "text/plain": [
       "0          0\n",
       "1          0\n",
       "2          0\n",
       "3          0\n",
       "4          0\n",
       "          ..\n",
       "5221995    0\n",
       "5221996    1\n",
       "5221997    1\n",
       "5221998    0\n",
       "5221999    0\n",
       "Name: Is_Delayed, Length: 5219244, dtype: int32"
      ]
     },
     "execution_count": 97,
     "metadata": {},
     "output_type": "execute_result"
    }
   ],
   "source": [
    "y"
   ]
  },
  {
   "cell_type": "code",
   "execution_count": 98,
   "metadata": {
    "colab": {},
    "colab_type": "code",
    "id": "jrHGkY5Ht9Kq"
   },
   "outputs": [],
   "source": [
    "X_train,X_test,y_train,y_test = train_test_split(X,y,test_size=0.3,random_state = 2)"
   ]
  },
  {
   "cell_type": "code",
   "execution_count": 99,
   "metadata": {
    "colab": {
     "base_uri": "https://localhost:8080/",
     "height": 68
    },
    "colab_type": "code",
    "executionInfo": {
     "elapsed": 904,
     "status": "ok",
     "timestamp": 1575595323292,
     "user": {
      "displayName": "Pranay Kumar",
      "photoUrl": "https://lh3.googleusercontent.com/a-/AAuE7mCd3J-wiaTRAMsTWOz4AF74B4RjDuGp-6w772_RNQ=s64",
      "userId": "17671873586329970946"
     },
     "user_tz": 300
    },
    "id": "jbrXKMapYQgH",
    "outputId": "1f0854b6-ffa6-456b-8c96-c2c1bf54d578"
   },
   "outputs": [
    {
     "data": {
      "text/plain": [
       "0    2294725\n",
       "1    1358745\n",
       "Name: Is_Delayed, dtype: int64"
      ]
     },
     "execution_count": 99,
     "metadata": {},
     "output_type": "execute_result"
    }
   ],
   "source": [
    "y_train.value_counts()"
   ]
  },
  {
   "cell_type": "markdown",
   "metadata": {
    "colab_type": "text",
    "id": "nHgNYnb9j_WI"
   },
   "source": [
    "Applying SMOTE to deal with class imbalance"
   ]
  },
  {
   "cell_type": "code",
   "execution_count": 100,
   "metadata": {
    "colab": {
     "base_uri": "https://localhost:8080/",
     "height": 71
    },
    "colab_type": "code",
    "executionInfo": {
     "elapsed": 1320,
     "status": "ok",
     "timestamp": 1575595327414,
     "user": {
      "displayName": "Pranay Kumar",
      "photoUrl": "https://lh3.googleusercontent.com/a-/AAuE7mCd3J-wiaTRAMsTWOz4AF74B4RjDuGp-6w772_RNQ=s64",
      "userId": "17671873586329970946"
     },
     "user_tz": 300
    },
    "id": "zdwRQpn2YWkn",
    "outputId": "ffe4c3d8-e4d5-43e1-a342-3b2eb1700709"
   },
   "outputs": [],
   "source": [
    "from imblearn.over_sampling import SMOTE"
   ]
  },
  {
   "cell_type": "code",
   "execution_count": 101,
   "metadata": {
    "colab": {},
    "colab_type": "code",
    "id": "N5kkBpjgYcon"
   },
   "outputs": [],
   "source": [
    "smt = SMOTE()\n",
    "X_train, y_train = smt.fit_resample(X_train, y_train)"
   ]
  },
  {
   "cell_type": "code",
   "execution_count": 102,
   "metadata": {
    "colab": {
     "base_uri": "https://localhost:8080/",
     "height": 68
    },
    "colab_type": "code",
    "executionInfo": {
     "elapsed": 1255,
     "status": "ok",
     "timestamp": 1575595431073,
     "user": {
      "displayName": "Pranay Kumar",
      "photoUrl": "https://lh3.googleusercontent.com/a-/AAuE7mCd3J-wiaTRAMsTWOz4AF74B4RjDuGp-6w772_RNQ=s64",
      "userId": "17671873586329970946"
     },
     "user_tz": 300
    },
    "id": "xWRkWQ_jzNLR",
    "outputId": "34d39ac5-6da2-495d-94a1-cb480c703f1b"
   },
   "outputs": [
    {
     "data": {
      "text/plain": [
       "1    2294725\n",
       "0    2294725\n",
       "Name: Is_Delayed, dtype: int64"
      ]
     },
     "execution_count": 102,
     "metadata": {},
     "output_type": "execute_result"
    }
   ],
   "source": [
    "pd.Series(y_train).value_counts()"
   ]
  },
  {
   "cell_type": "code",
   "execution_count": 103,
   "metadata": {
    "colab": {},
    "colab_type": "code",
    "id": "8vf76uQet9Ks"
   },
   "outputs": [],
   "source": [
    "sc1=StandardScaler()\n",
    "X_train_sc=sc1.fit_transform(X_train)\n",
    "X_test_sc=sc1.transform(X_test)"
   ]
  },
  {
   "cell_type": "code",
   "execution_count": 104,
   "metadata": {
    "colab": {
     "base_uri": "https://localhost:8080/",
     "height": 34
    },
    "colab_type": "code",
    "executionInfo": {
     "elapsed": 2102,
     "status": "ok",
     "timestamp": 1575595437549,
     "user": {
      "displayName": "Pranay Kumar",
      "photoUrl": "https://lh3.googleusercontent.com/a-/AAuE7mCd3J-wiaTRAMsTWOz4AF74B4RjDuGp-6w772_RNQ=s64",
      "userId": "17671873586329970946"
     },
     "user_tz": 300
    },
    "id": "aS_cUogOYhJv",
    "outputId": "ef216754-6bcc-42af-b590-64f734c7018e"
   },
   "outputs": [
    {
     "data": {
      "text/plain": [
       "0          1\n",
       "1          0\n",
       "2          0\n",
       "3          1\n",
       "4          1\n",
       "          ..\n",
       "4589445    1\n",
       "4589446    1\n",
       "4589447    1\n",
       "4589448    1\n",
       "4589449    1\n",
       "Name: Is_Delayed, Length: 4589450, dtype: int32"
      ]
     },
     "execution_count": 104,
     "metadata": {},
     "output_type": "execute_result"
    }
   ],
   "source": [
    "y_train"
   ]
  },
  {
   "cell_type": "code",
   "execution_count": 105,
   "metadata": {
    "colab": {
     "base_uri": "https://localhost:8080/",
     "height": 419
    },
    "colab_type": "code",
    "executionInfo": {
     "elapsed": 542,
     "status": "ok",
     "timestamp": 1575595437550,
     "user": {
      "displayName": "Pranay Kumar",
      "photoUrl": "https://lh3.googleusercontent.com/a-/AAuE7mCd3J-wiaTRAMsTWOz4AF74B4RjDuGp-6w772_RNQ=s64",
      "userId": "17671873586329970946"
     },
     "user_tz": 300
    },
    "id": "hbSiUla5IJ3l",
    "outputId": "d3d82408-3e10-49ff-a43a-479f154b6428"
   },
   "outputs": [
    {
     "data": {
      "text/html": [
       "<div>\n",
       "<style scoped>\n",
       "    .dataframe tbody tr th:only-of-type {\n",
       "        vertical-align: middle;\n",
       "    }\n",
       "\n",
       "    .dataframe tbody tr th {\n",
       "        vertical-align: top;\n",
       "    }\n",
       "\n",
       "    .dataframe thead th {\n",
       "        text-align: right;\n",
       "    }\n",
       "</style>\n",
       "<table border=\"1\" class=\"dataframe\">\n",
       "  <thead>\n",
       "    <tr style=\"text-align: right;\">\n",
       "      <th></th>\n",
       "      <th>AIRLINE</th>\n",
       "      <th>ORIGIN_AIRPORT</th>\n",
       "      <th>DESTINATION_AIRPORT</th>\n",
       "      <th>DISTANCE</th>\n",
       "      <th>Day</th>\n",
       "      <th>DEPARTURE_DELAY</th>\n",
       "      <th>SCHEDULED_TIME</th>\n",
       "      <th>ELAPSED_TIME</th>\n",
       "      <th>AIR_TIME</th>\n",
       "      <th>TAXI_IN</th>\n",
       "      <th>TAXI_OUT</th>\n",
       "      <th>DIVERTED</th>\n",
       "    </tr>\n",
       "  </thead>\n",
       "  <tbody>\n",
       "    <tr>\n",
       "      <th>20405</th>\n",
       "      <td>0</td>\n",
       "      <td>154</td>\n",
       "      <td>196</td>\n",
       "      <td>1107</td>\n",
       "      <td>5</td>\n",
       "      <td>-3.0</td>\n",
       "      <td>180.0</td>\n",
       "      <td>176.0</td>\n",
       "      <td>152.0</td>\n",
       "      <td>13.0</td>\n",
       "      <td>11.0</td>\n",
       "      <td>0</td>\n",
       "    </tr>\n",
       "    <tr>\n",
       "      <th>1235219</th>\n",
       "      <td>12</td>\n",
       "      <td>303</td>\n",
       "      <td>130</td>\n",
       "      <td>680</td>\n",
       "      <td>1</td>\n",
       "      <td>11.0</td>\n",
       "      <td>124.0</td>\n",
       "      <td>107.0</td>\n",
       "      <td>89.0</td>\n",
       "      <td>4.0</td>\n",
       "      <td>14.0</td>\n",
       "      <td>0</td>\n",
       "    </tr>\n",
       "    <tr>\n",
       "      <th>4232936</th>\n",
       "      <td>9</td>\n",
       "      <td>117</td>\n",
       "      <td>299</td>\n",
       "      <td>850</td>\n",
       "      <td>1</td>\n",
       "      <td>-1.0</td>\n",
       "      <td>155.0</td>\n",
       "      <td>120.0</td>\n",
       "      <td>106.0</td>\n",
       "      <td>5.0</td>\n",
       "      <td>9.0</td>\n",
       "      <td>0</td>\n",
       "    </tr>\n",
       "    <tr>\n",
       "      <th>3635419</th>\n",
       "      <td>7</td>\n",
       "      <td>197</td>\n",
       "      <td>74</td>\n",
       "      <td>2586</td>\n",
       "      <td>6</td>\n",
       "      <td>8.0</td>\n",
       "      <td>330.0</td>\n",
       "      <td>322.0</td>\n",
       "      <td>297.0</td>\n",
       "      <td>10.0</td>\n",
       "      <td>15.0</td>\n",
       "      <td>0</td>\n",
       "    </tr>\n",
       "    <tr>\n",
       "      <th>4461352</th>\n",
       "      <td>8</td>\n",
       "      <td>303</td>\n",
       "      <td>5</td>\n",
       "      <td>996</td>\n",
       "      <td>5</td>\n",
       "      <td>-4.0</td>\n",
       "      <td>173.0</td>\n",
       "      <td>173.0</td>\n",
       "      <td>148.0</td>\n",
       "      <td>3.0</td>\n",
       "      <td>22.0</td>\n",
       "      <td>0</td>\n",
       "    </tr>\n",
       "    <tr>\n",
       "      <th>...</th>\n",
       "      <td>...</td>\n",
       "      <td>...</td>\n",
       "      <td>...</td>\n",
       "      <td>...</td>\n",
       "      <td>...</td>\n",
       "      <td>...</td>\n",
       "      <td>...</td>\n",
       "      <td>...</td>\n",
       "      <td>...</td>\n",
       "      <td>...</td>\n",
       "      <td>...</td>\n",
       "      <td>...</td>\n",
       "    </tr>\n",
       "    <tr>\n",
       "      <th>509643</th>\n",
       "      <td>10</td>\n",
       "      <td>92</td>\n",
       "      <td>143</td>\n",
       "      <td>733</td>\n",
       "      <td>4</td>\n",
       "      <td>46.0</td>\n",
       "      <td>158.0</td>\n",
       "      <td>155.0</td>\n",
       "      <td>132.0</td>\n",
       "      <td>9.0</td>\n",
       "      <td>14.0</td>\n",
       "      <td>0</td>\n",
       "    </tr>\n",
       "    <tr>\n",
       "      <th>2137315</th>\n",
       "      <td>12</td>\n",
       "      <td>197</td>\n",
       "      <td>58</td>\n",
       "      <td>1635</td>\n",
       "      <td>1</td>\n",
       "      <td>-1.0</td>\n",
       "      <td>234.0</td>\n",
       "      <td>224.0</td>\n",
       "      <td>195.0</td>\n",
       "      <td>12.0</td>\n",
       "      <td>17.0</td>\n",
       "      <td>0</td>\n",
       "    </tr>\n",
       "    <tr>\n",
       "      <th>2754757</th>\n",
       "      <td>9</td>\n",
       "      <td>269</td>\n",
       "      <td>104</td>\n",
       "      <td>861</td>\n",
       "      <td>2</td>\n",
       "      <td>0.0</td>\n",
       "      <td>145.0</td>\n",
       "      <td>128.0</td>\n",
       "      <td>113.0</td>\n",
       "      <td>7.0</td>\n",
       "      <td>8.0</td>\n",
       "      <td>0</td>\n",
       "    </tr>\n",
       "    <tr>\n",
       "      <th>1200730</th>\n",
       "      <td>2</td>\n",
       "      <td>13</td>\n",
       "      <td>304</td>\n",
       "      <td>285</td>\n",
       "      <td>1</td>\n",
       "      <td>3.0</td>\n",
       "      <td>78.0</td>\n",
       "      <td>73.0</td>\n",
       "      <td>53.0</td>\n",
       "      <td>5.0</td>\n",
       "      <td>15.0</td>\n",
       "      <td>0</td>\n",
       "    </tr>\n",
       "    <tr>\n",
       "      <th>4147006</th>\n",
       "      <td>9</td>\n",
       "      <td>104</td>\n",
       "      <td>106</td>\n",
       "      <td>990</td>\n",
       "      <td>3</td>\n",
       "      <td>0.0</td>\n",
       "      <td>175.0</td>\n",
       "      <td>162.0</td>\n",
       "      <td>150.0</td>\n",
       "      <td>3.0</td>\n",
       "      <td>9.0</td>\n",
       "      <td>0</td>\n",
       "    </tr>\n",
       "  </tbody>\n",
       "</table>\n",
       "<p>1565774 rows × 12 columns</p>\n",
       "</div>"
      ],
      "text/plain": [
       "         AIRLINE  ORIGIN_AIRPORT  DESTINATION_AIRPORT  DISTANCE  Day  \\\n",
       "20405          0             154                  196      1107    5   \n",
       "1235219       12             303                  130       680    1   \n",
       "4232936        9             117                  299       850    1   \n",
       "3635419        7             197                   74      2586    6   \n",
       "4461352        8             303                    5       996    5   \n",
       "...          ...             ...                  ...       ...  ...   \n",
       "509643        10              92                  143       733    4   \n",
       "2137315       12             197                   58      1635    1   \n",
       "2754757        9             269                  104       861    2   \n",
       "1200730        2              13                  304       285    1   \n",
       "4147006        9             104                  106       990    3   \n",
       "\n",
       "         DEPARTURE_DELAY  SCHEDULED_TIME  ELAPSED_TIME  AIR_TIME  TAXI_IN  \\\n",
       "20405               -3.0           180.0         176.0     152.0     13.0   \n",
       "1235219             11.0           124.0         107.0      89.0      4.0   \n",
       "4232936             -1.0           155.0         120.0     106.0      5.0   \n",
       "3635419              8.0           330.0         322.0     297.0     10.0   \n",
       "4461352             -4.0           173.0         173.0     148.0      3.0   \n",
       "...                  ...             ...           ...       ...      ...   \n",
       "509643              46.0           158.0         155.0     132.0      9.0   \n",
       "2137315             -1.0           234.0         224.0     195.0     12.0   \n",
       "2754757              0.0           145.0         128.0     113.0      7.0   \n",
       "1200730              3.0            78.0          73.0      53.0      5.0   \n",
       "4147006              0.0           175.0         162.0     150.0      3.0   \n",
       "\n",
       "         TAXI_OUT  DIVERTED  \n",
       "20405        11.0         0  \n",
       "1235219      14.0         0  \n",
       "4232936       9.0         0  \n",
       "3635419      15.0         0  \n",
       "4461352      22.0         0  \n",
       "...           ...       ...  \n",
       "509643       14.0         0  \n",
       "2137315      17.0         0  \n",
       "2754757       8.0         0  \n",
       "1200730      15.0         0  \n",
       "4147006       9.0         0  \n",
       "\n",
       "[1565774 rows x 12 columns]"
      ]
     },
     "execution_count": 105,
     "metadata": {},
     "output_type": "execute_result"
    }
   ],
   "source": [
    "X_test"
   ]
  },
  {
   "cell_type": "markdown",
   "metadata": {
    "colab_type": "text",
    "id": "XkpPXD24kCrr"
   },
   "source": [
    "Decision trees"
   ]
  },
  {
   "cell_type": "code",
   "execution_count": 106,
   "metadata": {
    "colab": {
     "base_uri": "https://localhost:8080/",
     "height": 119
    },
    "colab_type": "code",
    "id": "KfvX1gqwopT5",
    "outputId": "e9d29b41-b2f4-419b-aa5e-53152c7352ed"
   },
   "outputs": [
    {
     "data": {
      "text/html": [
       "<style>#sk-container-id-1 {color: black;background-color: white;}#sk-container-id-1 pre{padding: 0;}#sk-container-id-1 div.sk-toggleable {background-color: white;}#sk-container-id-1 label.sk-toggleable__label {cursor: pointer;display: block;width: 100%;margin-bottom: 0;padding: 0.3em;box-sizing: border-box;text-align: center;}#sk-container-id-1 label.sk-toggleable__label-arrow:before {content: \"▸\";float: left;margin-right: 0.25em;color: #696969;}#sk-container-id-1 label.sk-toggleable__label-arrow:hover:before {color: black;}#sk-container-id-1 div.sk-estimator:hover label.sk-toggleable__label-arrow:before {color: black;}#sk-container-id-1 div.sk-toggleable__content {max-height: 0;max-width: 0;overflow: hidden;text-align: left;background-color: #f0f8ff;}#sk-container-id-1 div.sk-toggleable__content pre {margin: 0.2em;color: black;border-radius: 0.25em;background-color: #f0f8ff;}#sk-container-id-1 input.sk-toggleable__control:checked~div.sk-toggleable__content {max-height: 200px;max-width: 100%;overflow: auto;}#sk-container-id-1 input.sk-toggleable__control:checked~label.sk-toggleable__label-arrow:before {content: \"▾\";}#sk-container-id-1 div.sk-estimator input.sk-toggleable__control:checked~label.sk-toggleable__label {background-color: #d4ebff;}#sk-container-id-1 div.sk-label input.sk-toggleable__control:checked~label.sk-toggleable__label {background-color: #d4ebff;}#sk-container-id-1 input.sk-hidden--visually {border: 0;clip: rect(1px 1px 1px 1px);clip: rect(1px, 1px, 1px, 1px);height: 1px;margin: -1px;overflow: hidden;padding: 0;position: absolute;width: 1px;}#sk-container-id-1 div.sk-estimator {font-family: monospace;background-color: #f0f8ff;border: 1px dotted black;border-radius: 0.25em;box-sizing: border-box;margin-bottom: 0.5em;}#sk-container-id-1 div.sk-estimator:hover {background-color: #d4ebff;}#sk-container-id-1 div.sk-parallel-item::after {content: \"\";width: 100%;border-bottom: 1px solid gray;flex-grow: 1;}#sk-container-id-1 div.sk-label:hover label.sk-toggleable__label {background-color: #d4ebff;}#sk-container-id-1 div.sk-serial::before {content: \"\";position: absolute;border-left: 1px solid gray;box-sizing: border-box;top: 0;bottom: 0;left: 50%;z-index: 0;}#sk-container-id-1 div.sk-serial {display: flex;flex-direction: column;align-items: center;background-color: white;padding-right: 0.2em;padding-left: 0.2em;position: relative;}#sk-container-id-1 div.sk-item {position: relative;z-index: 1;}#sk-container-id-1 div.sk-parallel {display: flex;align-items: stretch;justify-content: center;background-color: white;position: relative;}#sk-container-id-1 div.sk-item::before, #sk-container-id-1 div.sk-parallel-item::before {content: \"\";position: absolute;border-left: 1px solid gray;box-sizing: border-box;top: 0;bottom: 0;left: 50%;z-index: -1;}#sk-container-id-1 div.sk-parallel-item {display: flex;flex-direction: column;z-index: 1;position: relative;background-color: white;}#sk-container-id-1 div.sk-parallel-item:first-child::after {align-self: flex-end;width: 50%;}#sk-container-id-1 div.sk-parallel-item:last-child::after {align-self: flex-start;width: 50%;}#sk-container-id-1 div.sk-parallel-item:only-child::after {width: 0;}#sk-container-id-1 div.sk-dashed-wrapped {border: 1px dashed gray;margin: 0 0.4em 0.5em 0.4em;box-sizing: border-box;padding-bottom: 0.4em;background-color: white;}#sk-container-id-1 div.sk-label label {font-family: monospace;font-weight: bold;display: inline-block;line-height: 1.2em;}#sk-container-id-1 div.sk-label-container {text-align: center;}#sk-container-id-1 div.sk-container {/* jupyter's `normalize.less` sets `[hidden] { display: none; }` but bootstrap.min.css set `[hidden] { display: none !important; }` so we also need the `!important` here to be able to override the default hidden behavior on the sphinx rendered scikit-learn.org. See: https://github.com/scikit-learn/scikit-learn/issues/21755 */display: inline-block !important;position: relative;}#sk-container-id-1 div.sk-text-repr-fallback {display: none;}</style><div id=\"sk-container-id-1\" class=\"sk-top-container\"><div class=\"sk-text-repr-fallback\"><pre>DecisionTreeClassifier(criterion=&#x27;entropy&#x27;)</pre><b>In a Jupyter environment, please rerun this cell to show the HTML representation or trust the notebook. <br />On GitHub, the HTML representation is unable to render, please try loading this page with nbviewer.org.</b></div><div class=\"sk-container\" hidden><div class=\"sk-item\"><div class=\"sk-estimator sk-toggleable\"><input class=\"sk-toggleable__control sk-hidden--visually\" id=\"sk-estimator-id-1\" type=\"checkbox\" checked><label for=\"sk-estimator-id-1\" class=\"sk-toggleable__label sk-toggleable__label-arrow\">DecisionTreeClassifier</label><div class=\"sk-toggleable__content\"><pre>DecisionTreeClassifier(criterion=&#x27;entropy&#x27;)</pre></div></div></div></div></div>"
      ],
      "text/plain": [
       "DecisionTreeClassifier(criterion='entropy')"
      ]
     },
     "execution_count": 106,
     "metadata": {},
     "output_type": "execute_result"
    }
   ],
   "source": [
    "from sklearn.tree import DecisionTreeClassifier\n",
    "classifierDT = DecisionTreeClassifier(criterion = 'entropy', random_state = None)\n",
    "classifierDT.fit(X_train_sc, y_train)"
   ]
  },
  {
   "cell_type": "code",
   "execution_count": 107,
   "metadata": {
    "colab": {},
    "colab_type": "code",
    "id": "8O6963robyyf"
   },
   "outputs": [],
   "source": [
    "#from sklearn.externals.six import StringIO  \n",
    "#from IPython.display import Image  \n",
    "#from sklearn.tree import export_graphviz\n",
    "#import pydotplus\n",
    "#dot_data = StringIO()\n",
    "#export_graphviz(classifierDT, out_file=dot_data,  \n",
    " #               filled=True, rounded=True,\n",
    " #               special_characters=True)\n",
    "#graph = pydotplus.graph_from_dot_data(dot_data.getvalue())  \n",
    "#Image(graph.create_png())"
   ]
  },
  {
   "cell_type": "code",
   "execution_count": 108,
   "metadata": {
    "colab": {},
    "colab_type": "code",
    "id": "DS8awMHpZl3_"
   },
   "outputs": [],
   "source": [
    "from sklearn.metrics import accuracy_score, f1_score, precision_score, recall_score, classification_report, confusion_matrix"
   ]
  },
  {
   "cell_type": "code",
   "execution_count": 109,
   "metadata": {
    "colab": {},
    "colab_type": "code",
    "id": "ucLLR1YlzsdS"
   },
   "outputs": [],
   "source": [
    "from sklearn.metrics import confusion_matrix"
   ]
  },
  {
   "cell_type": "code",
   "execution_count": 110,
   "metadata": {
    "colab": {},
    "colab_type": "code",
    "id": "4NxNZje1qq4g"
   },
   "outputs": [
    {
     "name": "stderr",
     "output_type": "stream",
     "text": [
      "C:\\Users\\sasha\\anaconda3\\lib\\site-packages\\sklearn\\base.py:443: UserWarning: X has feature names, but DecisionTreeClassifier was fitted without feature names\n",
      "  warnings.warn(\n"
     ]
    }
   ],
   "source": [
    "# Predicting the Test set results\n",
    "y_pred = classifierDT.predict(X_test)\n",
    "\n",
    "# Making the Confusion Matrix\n",
    "cm = confusion_matrix(y_test, y_pred)\n",
    "score = classifierDT.score(X_test_sc,y_test)"
   ]
  },
  {
   "cell_type": "code",
   "execution_count": 111,
   "metadata": {
    "colab": {
     "base_uri": "https://localhost:8080/",
     "height": 51
    },
    "colab_type": "code",
    "id": "wDY61Y5-x-1u",
    "outputId": "5fe6d15a-b1a2-4c05-956c-65e90a852f1f"
   },
   "outputs": [
    {
     "data": {
      "text/plain": [
       "array([[   316, 983210],\n",
       "       [    10, 582238]], dtype=int64)"
      ]
     },
     "execution_count": 111,
     "metadata": {},
     "output_type": "execute_result"
    }
   ],
   "source": [
    "cm"
   ]
  },
  {
   "cell_type": "code",
   "execution_count": 112,
   "metadata": {
    "colab": {
     "base_uri": "https://localhost:8080/",
     "height": 34
    },
    "colab_type": "code",
    "id": "UAR58UZWx_mN",
    "outputId": "9c076d82-bc5d-4d64-e2ed-c2d291007922"
   },
   "outputs": [
    {
     "data": {
      "text/plain": [
       "0.9828595953183538"
      ]
     },
     "execution_count": 112,
     "metadata": {},
     "output_type": "execute_result"
    }
   ],
   "source": [
    "score"
   ]
  },
  {
   "cell_type": "code",
   "execution_count": 113,
   "metadata": {
    "colab": {
     "base_uri": "https://localhost:8080/",
     "height": 68
    },
    "colab_type": "code",
    "id": "KCHxEQm5Zpug",
    "outputId": "4cd39da3-f9cc-49ab-a6cc-07769f9c697d"
   },
   "outputs": [
    {
     "name": "stdout",
     "output_type": "stream",
     "text": [
      "F1 score : 0.27142007574819443\n",
      "Precision Score : 0.6706278722446821\n",
      "Recall Score : 0.5001520590842271\n"
     ]
    }
   ],
   "source": [
    "print(\"F1 score :\",f1_score(y_test, y_pred, average=\"macro\"))\n",
    "print(\"Precision Score :\" , precision_score(y_test, y_pred, average=\"macro\"))\n",
    "print(\"Recall Score :\" , recall_score(y_test, y_pred, average=\"macro\"))   "
   ]
  },
  {
   "cell_type": "code",
   "execution_count": 114,
   "metadata": {
    "colab": {
     "base_uri": "https://localhost:8080/",
     "height": 289
    },
    "colab_type": "code",
    "id": "RipjFdWDB8vG",
    "outputId": "642629d6-c834-4052-ebf3-58d78c8a95be"
   },
   "outputs": [
    {
     "data": {
      "image/png": "[encoded data removed]",
      "text/plain": [
       "<Figure size 432x288 with 2 Axes>"
      ]
     },
     "metadata": {
      "needs_background": "light"
     },
     "output_type": "display_data"
    }
   ],
   "source": [
    "fig = plt.figure()\n",
    "ax = fig.add_subplot(111)\n",
    "cax = ax.matshow(cm)\n",
    "plt.title('Confusion matrix of the Decision tree classifier')\n",
    "fig.colorbar(cax)\n",
    "plt.xlabel('Predicted')\n",
    "plt.ylabel('True')\n",
    "plt.show()"
   ]
  },
  {
   "cell_type": "markdown",
   "metadata": {
    "colab_type": "text",
    "id": "Hg6OqrlQkFLc"
   },
   "source": [
    "K nearest neighbours classifier"
   ]
  },
  {
   "cell_type": "code",
   "execution_count": 115,
   "metadata": {
    "colab": {
     "base_uri": "https://localhost:8080/",
     "height": 68
    },
    "colab_type": "code",
    "id": "t0GQ215wIOsL",
    "outputId": "21923af4-f65a-4c3d-c1f1-81e9fe640910"
   },
   "outputs": [
    {
     "data": {
      "text/html": [
       "<style>#sk-container-id-2 {color: black;background-color: white;}#sk-container-id-2 pre{padding: 0;}#sk-container-id-2 div.sk-toggleable {background-color: white;}#sk-container-id-2 label.sk-toggleable__label {cursor: pointer;display: block;width: 100%;margin-bottom: 0;padding: 0.3em;box-sizing: border-box;text-align: center;}#sk-container-id-2 label.sk-toggleable__label-arrow:before {content: \"▸\";float: left;margin-right: 0.25em;color: #696969;}#sk-container-id-2 label.sk-toggleable__label-arrow:hover:before {color: black;}#sk-container-id-2 div.sk-estimator:hover label.sk-toggleable__label-arrow:before {color: black;}#sk-container-id-2 div.sk-toggleable__content {max-height: 0;max-width: 0;overflow: hidden;text-align: left;background-color: #f0f8ff;}#sk-container-id-2 div.sk-toggleable__content pre {margin: 0.2em;color: black;border-radius: 0.25em;background-color: #f0f8ff;}#sk-container-id-2 input.sk-toggleable__control:checked~div.sk-toggleable__content {max-height: 200px;max-width: 100%;overflow: auto;}#sk-container-id-2 input.sk-toggleable__control:checked~label.sk-toggleable__label-arrow:before {content: \"▾\";}#sk-container-id-2 div.sk-estimator input.sk-toggleable__control:checked~label.sk-toggleable__label {background-color: #d4ebff;}#sk-container-id-2 div.sk-label input.sk-toggleable__control:checked~label.sk-toggleable__label {background-color: #d4ebff;}#sk-container-id-2 input.sk-hidden--visually {border: 0;clip: rect(1px 1px 1px 1px);clip: rect(1px, 1px, 1px, 1px);height: 1px;margin: -1px;overflow: hidden;padding: 0;position: absolute;width: 1px;}#sk-container-id-2 div.sk-estimator {font-family: monospace;background-color: #f0f8ff;border: 1px dotted black;border-radius: 0.25em;box-sizing: border-box;margin-bottom: 0.5em;}#sk-container-id-2 div.sk-estimator:hover {background-color: #d4ebff;}#sk-container-id-2 div.sk-parallel-item::after {content: \"\";width: 100%;border-bottom: 1px solid gray;flex-grow: 1;}#sk-container-id-2 div.sk-label:hover label.sk-toggleable__label {background-color: #d4ebff;}#sk-container-id-2 div.sk-serial::before {content: \"\";position: absolute;border-left: 1px solid gray;box-sizing: border-box;top: 0;bottom: 0;left: 50%;z-index: 0;}#sk-container-id-2 div.sk-serial {display: flex;flex-direction: column;align-items: center;background-color: white;padding-right: 0.2em;padding-left: 0.2em;position: relative;}#sk-container-id-2 div.sk-item {position: relative;z-index: 1;}#sk-container-id-2 div.sk-parallel {display: flex;align-items: stretch;justify-content: center;background-color: white;position: relative;}#sk-container-id-2 div.sk-item::before, #sk-container-id-2 div.sk-parallel-item::before {content: \"\";position: absolute;border-left: 1px solid gray;box-sizing: border-box;top: 0;bottom: 0;left: 50%;z-index: -1;}#sk-container-id-2 div.sk-parallel-item {display: flex;flex-direction: column;z-index: 1;position: relative;background-color: white;}#sk-container-id-2 div.sk-parallel-item:first-child::after {align-self: flex-end;width: 50%;}#sk-container-id-2 div.sk-parallel-item:last-child::after {align-self: flex-start;width: 50%;}#sk-container-id-2 div.sk-parallel-item:only-child::after {width: 0;}#sk-container-id-2 div.sk-dashed-wrapped {border: 1px dashed gray;margin: 0 0.4em 0.5em 0.4em;box-sizing: border-box;padding-bottom: 0.4em;background-color: white;}#sk-container-id-2 div.sk-label label {font-family: monospace;font-weight: bold;display: inline-block;line-height: 1.2em;}#sk-container-id-2 div.sk-label-container {text-align: center;}#sk-container-id-2 div.sk-container {/* jupyter's `normalize.less` sets `[hidden] { display: none; }` but bootstrap.min.css set `[hidden] { display: none !important; }` so we also need the `!important` here to be able to override the default hidden behavior on the sphinx rendered scikit-learn.org. See: https://github.com/scikit-learn/scikit-learn/issues/21755 */display: inline-block !important;position: relative;}#sk-container-id-2 div.sk-text-repr-fallback {display: none;}</style><div id=\"sk-container-id-2\" class=\"sk-top-container\"><div class=\"sk-text-repr-fallback\"><pre>KNeighborsClassifier(n_neighbors=10)</pre><b>In a Jupyter environment, please rerun this cell to show the HTML representation or trust the notebook. <br />On GitHub, the HTML representation is unable to render, please try loading this page with nbviewer.org.</b></div><div class=\"sk-container\" hidden><div class=\"sk-item\"><div class=\"sk-estimator sk-toggleable\"><input class=\"sk-toggleable__control sk-hidden--visually\" id=\"sk-estimator-id-2\" type=\"checkbox\" checked><label for=\"sk-estimator-id-2\" class=\"sk-toggleable__label sk-toggleable__label-arrow\">KNeighborsClassifier</label><div class=\"sk-toggleable__content\"><pre>KNeighborsClassifier(n_neighbors=10)</pre></div></div></div></div></div>"
      ],
      "text/plain": [
       "KNeighborsClassifier(n_neighbors=10)"
      ]
     },
     "execution_count": 115,
     "metadata": {},
     "output_type": "execute_result"
    }
   ],
   "source": [
    "from sklearn.neighbors import KNeighborsClassifier\n",
    "objClassifier=KNeighborsClassifier(n_neighbors=10,metric='minkowski',p=2)\n",
    "objClassifier.fit(X_train_sc,y_train)"
   ]
  },
  {
   "cell_type": "code",
   "execution_count": 116,
   "metadata": {
    "colab": {},
    "colab_type": "code",
    "id": "rhrTD7yxkpGl"
   },
   "outputs": [
    {
     "name": "stderr",
     "output_type": "stream",
     "text": [
      "C:\\Users\\sasha\\anaconda3\\lib\\site-packages\\sklearn\\base.py:443: UserWarning: X has feature names, but KNeighborsClassifier was fitted without feature names\n",
      "  warnings.warn(\n"
     ]
    }
   ],
   "source": [
    "y_pred=objClassifier.predict(X_test_sc)\n",
    "\n",
    "#Making the confussion matarix \n",
    "\n",
    "from sklearn.metrics import confusion_matrix\n",
    "cm=confusion_matrix(y_test,y_pred)\n",
    "\n",
    "score=objClassifier.score(X_test,y_test)"
   ]
  },
  {
   "cell_type": "code",
   "execution_count": 117,
   "metadata": {
    "colab": {
     "base_uri": "https://localhost:8080/"
    },
    "colab_type": "code",
    "id": "QpHeRVlloCu1",
    "outputId": "8de5b5b4-91fb-4dd6-f1f2-7b2c297fc48b"
   },
   "outputs": [
    {
     "data": {
      "text/plain": [
       "array([[920160,  63366],\n",
       "       [122008, 460240]], dtype=int64)"
      ]
     },
     "execution_count": 117,
     "metadata": {},
     "output_type": "execute_result"
    }
   ],
   "source": [
    "cm"
   ]
  },
  {
   "cell_type": "code",
   "execution_count": 118,
   "metadata": {
    "colab": {
     "base_uri": "https://localhost:8080/"
    },
    "colab_type": "code",
    "id": "g75l9r_UoE0i",
    "outputId": "c628f5c8-c5d8-4eb7-ce7c-bfc82efb78dd"
   },
   "outputs": [
    {
     "data": {
      "text/plain": [
       "0.37217887128027416"
      ]
     },
     "execution_count": 118,
     "metadata": {},
     "output_type": "execute_result"
    }
   ],
   "source": [
    "score"
   ]
  },
  {
   "cell_type": "code",
   "execution_count": 119,
   "metadata": {
    "colab": {
     "base_uri": "https://localhost:8080/",
     "height": 68
    },
    "colab_type": "code",
    "id": "2JfgGOOQZ_4g",
    "outputId": "1cd4a227-f61c-4bb4-f895-b11f3dde79ca"
   },
   "outputs": [
    {
     "name": "stdout",
     "output_type": "stream",
     "text": [
      "F1 score : 0.8704294615437589\n",
      "Precision Score : 0.8809550941842161\n",
      "Recall Score : 0.8630130879179962\n"
     ]
    }
   ],
   "source": [
    "print(\"F1 score :\",f1_score(y_test, y_pred, average=\"macro\"))\n",
    "print(\"Precision Score :\" , precision_score(y_test, y_pred, average=\"macro\"))\n",
    "print(\"Recall Score :\" , recall_score(y_test, y_pred, average=\"macro\"))   "
   ]
  },
  {
   "cell_type": "code",
   "execution_count": 120,
   "metadata": {
    "colab": {
     "base_uri": "https://localhost:8080/"
    },
    "colab_type": "code",
    "id": "ViE79SQ-B0Oa",
    "outputId": "5019a63c-b599-442f-d50f-391b9142375b"
   },
   "outputs": [
    {
     "data": {
      "image/png": "[encoded data removed]",
      "text/plain": [
       "<Figure size 432x288 with 2 Axes>"
      ]
     },
     "metadata": {
      "needs_background": "light"
     },
     "output_type": "display_data"
    }
   ],
   "source": [
    "fig = plt.figure()\n",
    "ax = fig.add_subplot(111)\n",
    "cax = ax.matshow(cm)\n",
    "plt.title('Confusion matrix of the K nearest classifier')\n",
    "fig.colorbar(cax)\n",
    "plt.xlabel('Predicted')\n",
    "plt.ylabel('True')\n",
    "plt.show()"
   ]
  },
  {
   "cell_type": "markdown",
   "metadata": {
    "colab_type": "text",
    "id": "zSF5przVkIdP"
   },
   "source": [
    "Logistic regression"
   ]
  },
  {
   "cell_type": "code",
   "execution_count": 121,
   "metadata": {
    "colab": {
     "base_uri": "https://localhost:8080/",
     "height": 156
    },
    "colab_type": "code",
    "executionInfo": {
     "elapsed": 67381,
     "status": "ok",
     "timestamp": 1575595540879,
     "user": {
      "displayName": "Pranay Kumar",
      "photoUrl": "https://lh3.googleusercontent.com/a-/AAuE7mCd3J-wiaTRAMsTWOz4AF74B4RjDuGp-6w772_RNQ=s64",
      "userId": "17671873586329970946"
     },
     "user_tz": 300
    },
    "id": "xhnPaqLGm_vX",
    "outputId": "cf730f02-f108-467c-e4ad-27bd5534644e"
   },
   "outputs": [
    {
     "data": {
      "text/html": [
       "<style>#sk-container-id-3 {color: black;background-color: white;}#sk-container-id-3 pre{padding: 0;}#sk-container-id-3 div.sk-toggleable {background-color: white;}#sk-container-id-3 label.sk-toggleable__label {cursor: pointer;display: block;width: 100%;margin-bottom: 0;padding: 0.3em;box-sizing: border-box;text-align: center;}#sk-container-id-3 label.sk-toggleable__label-arrow:before {content: \"▸\";float: left;margin-right: 0.25em;color: #696969;}#sk-container-id-3 label.sk-toggleable__label-arrow:hover:before {color: black;}#sk-container-id-3 div.sk-estimator:hover label.sk-toggleable__label-arrow:before {color: black;}#sk-container-id-3 div.sk-toggleable__content {max-height: 0;max-width: 0;overflow: hidden;text-align: left;background-color: #f0f8ff;}#sk-container-id-3 div.sk-toggleable__content pre {margin: 0.2em;color: black;border-radius: 0.25em;background-color: #f0f8ff;}#sk-container-id-3 input.sk-toggleable__control:checked~div.sk-toggleable__content {max-height: 200px;max-width: 100%;overflow: auto;}#sk-container-id-3 input.sk-toggleable__control:checked~label.sk-toggleable__label-arrow:before {content: \"▾\";}#sk-container-id-3 div.sk-estimator input.sk-toggleable__control:checked~label.sk-toggleable__label {background-color: #d4ebff;}#sk-container-id-3 div.sk-label input.sk-toggleable__control:checked~label.sk-toggleable__label {background-color: #d4ebff;}#sk-container-id-3 input.sk-hidden--visually {border: 0;clip: rect(1px 1px 1px 1px);clip: rect(1px, 1px, 1px, 1px);height: 1px;margin: -1px;overflow: hidden;padding: 0;position: absolute;width: 1px;}#sk-container-id-3 div.sk-estimator {font-family: monospace;background-color: #f0f8ff;border: 1px dotted black;border-radius: 0.25em;box-sizing: border-box;margin-bottom: 0.5em;}#sk-container-id-3 div.sk-estimator:hover {background-color: #d4ebff;}#sk-container-id-3 div.sk-parallel-item::after {content: \"\";width: 100%;border-bottom: 1px solid gray;flex-grow: 1;}#sk-container-id-3 div.sk-label:hover label.sk-toggleable__label {background-color: #d4ebff;}#sk-container-id-3 div.sk-serial::before {content: \"\";position: absolute;border-left: 1px solid gray;box-sizing: border-box;top: 0;bottom: 0;left: 50%;z-index: 0;}#sk-container-id-3 div.sk-serial {display: flex;flex-direction: column;align-items: center;background-color: white;padding-right: 0.2em;padding-left: 0.2em;position: relative;}#sk-container-id-3 div.sk-item {position: relative;z-index: 1;}#sk-container-id-3 div.sk-parallel {display: flex;align-items: stretch;justify-content: center;background-color: white;position: relative;}#sk-container-id-3 div.sk-item::before, #sk-container-id-3 div.sk-parallel-item::before {content: \"\";position: absolute;border-left: 1px solid gray;box-sizing: border-box;top: 0;bottom: 0;left: 50%;z-index: -1;}#sk-container-id-3 div.sk-parallel-item {display: flex;flex-direction: column;z-index: 1;position: relative;background-color: white;}#sk-container-id-3 div.sk-parallel-item:first-child::after {align-self: flex-end;width: 50%;}#sk-container-id-3 div.sk-parallel-item:last-child::after {align-self: flex-start;width: 50%;}#sk-container-id-3 div.sk-parallel-item:only-child::after {width: 0;}#sk-container-id-3 div.sk-dashed-wrapped {border: 1px dashed gray;margin: 0 0.4em 0.5em 0.4em;box-sizing: border-box;padding-bottom: 0.4em;background-color: white;}#sk-container-id-3 div.sk-label label {font-family: monospace;font-weight: bold;display: inline-block;line-height: 1.2em;}#sk-container-id-3 div.sk-label-container {text-align: center;}#sk-container-id-3 div.sk-container {/* jupyter's `normalize.less` sets `[hidden] { display: none; }` but bootstrap.min.css set `[hidden] { display: none !important; }` so we also need the `!important` here to be able to override the default hidden behavior on the sphinx rendered scikit-learn.org. See: https://github.com/scikit-learn/scikit-learn/issues/21755 */display: inline-block !important;position: relative;}#sk-container-id-3 div.sk-text-repr-fallback {display: none;}</style><div id=\"sk-container-id-3\" class=\"sk-top-container\"><div class=\"sk-text-repr-fallback\"><pre>LogisticRegression(random_state=0)</pre><b>In a Jupyter environment, please rerun this cell to show the HTML representation or trust the notebook. <br />On GitHub, the HTML representation is unable to render, please try loading this page with nbviewer.org.</b></div><div class=\"sk-container\" hidden><div class=\"sk-item\"><div class=\"sk-estimator sk-toggleable\"><input class=\"sk-toggleable__control sk-hidden--visually\" id=\"sk-estimator-id-3\" type=\"checkbox\" checked><label for=\"sk-estimator-id-3\" class=\"sk-toggleable__label sk-toggleable__label-arrow\">LogisticRegression</label><div class=\"sk-toggleable__content\"><pre>LogisticRegression(random_state=0)</pre></div></div></div></div></div>"
      ],
      "text/plain": [
       "LogisticRegression(random_state=0)"
      ]
     },
     "execution_count": 121,
     "metadata": {},
     "output_type": "execute_result"
    }
   ],
   "source": [
    "from sklearn.linear_model import LogisticRegression\n",
    "classifier = LogisticRegression(random_state = 0)\n",
    "classifier.fit(X_train_sc, y_train)"
   ]
  },
  {
   "cell_type": "code",
   "execution_count": 122,
   "metadata": {
    "colab": {},
    "colab_type": "code",
    "id": "Hj3evVT1nEzz"
   },
   "outputs": [],
   "source": [
    "# Predicting the Test set results\n",
    "y_pred = classifier.predict(X_test_sc)\n",
    "\n",
    "# Making the Confusion Matrix\n",
    "score = classifier.score(X_test_sc,y_test)\n",
    "cm = confusion_matrix(y_test, y_pred)"
   ]
  },
  {
   "cell_type": "code",
   "execution_count": 123,
   "metadata": {
    "colab": {
     "base_uri": "https://localhost:8080/",
     "height": 51
    },
    "colab_type": "code",
    "executionInfo": {
     "elapsed": 1384,
     "status": "ok",
     "timestamp": 1575592095087,
     "user": {
      "displayName": "Pranay Kumar",
      "photoUrl": "https://lh3.googleusercontent.com/a-/AAuE7mCd3J-wiaTRAMsTWOz4AF74B4RjDuGp-6w772_RNQ=s64",
      "userId": "17671873586329970946"
     },
     "user_tz": 300
    },
    "id": "mmpjZqsft9Ky",
    "outputId": "0de46303-3153-413d-90a3-30ae09c701a2"
   },
   "outputs": [
    {
     "data": {
      "text/plain": [
       "array([[983526,      0],\n",
       "       [     0, 582248]], dtype=int64)"
      ]
     },
     "execution_count": 123,
     "metadata": {},
     "output_type": "execute_result"
    }
   ],
   "source": [
    "cm"
   ]
  },
  {
   "cell_type": "code",
   "execution_count": 124,
   "metadata": {
    "colab": {
     "base_uri": "https://localhost:8080/",
     "height": 34
    },
    "colab_type": "code",
    "executionInfo": {
     "elapsed": 1333,
     "status": "ok",
     "timestamp": 1575592098673,
     "user": {
      "displayName": "Pranay Kumar",
      "photoUrl": "https://lh3.googleusercontent.com/a-/AAuE7mCd3J-wiaTRAMsTWOz4AF74B4RjDuGp-6w772_RNQ=s64",
      "userId": "17671873586329970946"
     },
     "user_tz": 300
    },
    "id": "ML_aRa2iom03",
    "outputId": "26c49cde-d174-4345-c6a1-7c49d52690c3"
   },
   "outputs": [
    {
     "data": {
      "text/plain": [
       "1.0"
      ]
     },
     "execution_count": 124,
     "metadata": {},
     "output_type": "execute_result"
    }
   ],
   "source": [
    "score"
   ]
  },
  {
   "cell_type": "code",
   "execution_count": 125,
   "metadata": {
    "colab": {
     "base_uri": "https://localhost:8080/",
     "height": 68
    },
    "colab_type": "code",
    "executionInfo": {
     "elapsed": 2626,
     "status": "ok",
     "timestamp": 1575592122051,
     "user": {
      "displayName": "Pranay Kumar",
      "photoUrl": "https://lh3.googleusercontent.com/a-/AAuE7mCd3J-wiaTRAMsTWOz4AF74B4RjDuGp-6w772_RNQ=s64",
      "userId": "17671873586329970946"
     },
     "user_tz": 300
    },
    "id": "5mpXhPBjaBFU",
    "outputId": "ce271c19-c79a-4f64-d466-a1c7ab233cbb"
   },
   "outputs": [
    {
     "name": "stdout",
     "output_type": "stream",
     "text": [
      "F1 score : 1.0\n",
      "Precision Score : 1.0\n",
      "Recall Score : 1.0\n"
     ]
    }
   ],
   "source": [
    "print(\"F1 score :\",f1_score(y_test, y_pred, average=\"macro\"))\n",
    "print(\"Precision Score :\" , precision_score(y_test, y_pred, average=\"macro\"))\n",
    "print(\"Recall Score :\" , recall_score(y_test, y_pred, average=\"macro\"))   "
   ]
  },
  {
   "cell_type": "code",
   "execution_count": 126,
   "metadata": {
    "colab": {
     "base_uri": "https://localhost:8080/",
     "height": 289
    },
    "colab_type": "code",
    "executionInfo": {
     "elapsed": 1816,
     "status": "ok",
     "timestamp": 1575592101467,
     "user": {
      "displayName": "Pranay Kumar",
      "photoUrl": "https://lh3.googleusercontent.com/a-/AAuE7mCd3J-wiaTRAMsTWOz4AF74B4RjDuGp-6w772_RNQ=s64",
      "userId": "17671873586329970946"
     },
     "user_tz": 300
    },
    "id": "NWRRncM4B5gv",
    "outputId": "c5a876a7-8a27-4089-e9dc-68548b85f58d"
   },
   "outputs": [
    {
     "data": {
      "image/png": "[encoded data removed]",
      "text/plain": [
       "<Figure size 432x288 with 2 Axes>"
      ]
     },
     "metadata": {
      "needs_background": "light"
     },
     "output_type": "display_data"
    }
   ],
   "source": [
    "fig = plt.figure()\n",
    "ax = fig.add_subplot(111)\n",
    "cax = ax.matshow(cm)\n",
    "plt.title('Confusion matrix of the logistic regression classifier')\n",
    "fig.colorbar(cax)\n",
    "plt.xlabel('Predicted')\n",
    "plt.ylabel('True')\n",
    "plt.show()"
   ]
  },
  {
   "cell_type": "markdown",
   "metadata": {
    "colab_type": "text",
    "id": "Kkj2GP8rkLtU"
   },
   "source": [
    "Applying Naive Bayes"
   ]
  },
  {
   "cell_type": "code",
   "execution_count": 127,
   "metadata": {
    "colab": {
     "base_uri": "https://localhost:8080/",
     "height": 34
    },
    "colab_type": "code",
    "id": "jS4J8kF3Z7dW",
    "outputId": "e39e4969-1b82-43b2-b369-322fbadde105"
   },
   "outputs": [
    {
     "data": {
      "text/html": [
       "<style>#sk-container-id-4 {color: black;background-color: white;}#sk-container-id-4 pre{padding: 0;}#sk-container-id-4 div.sk-toggleable {background-color: white;}#sk-container-id-4 label.sk-toggleable__label {cursor: pointer;display: block;width: 100%;margin-bottom: 0;padding: 0.3em;box-sizing: border-box;text-align: center;}#sk-container-id-4 label.sk-toggleable__label-arrow:before {content: \"▸\";float: left;margin-right: 0.25em;color: #696969;}#sk-container-id-4 label.sk-toggleable__label-arrow:hover:before {color: black;}#sk-container-id-4 div.sk-estimator:hover label.sk-toggleable__label-arrow:before {color: black;}#sk-container-id-4 div.sk-toggleable__content {max-height: 0;max-width: 0;overflow: hidden;text-align: left;background-color: #f0f8ff;}#sk-container-id-4 div.sk-toggleable__content pre {margin: 0.2em;color: black;border-radius: 0.25em;background-color: #f0f8ff;}#sk-container-id-4 input.sk-toggleable__control:checked~div.sk-toggleable__content {max-height: 200px;max-width: 100%;overflow: auto;}#sk-container-id-4 input.sk-toggleable__control:checked~label.sk-toggleable__label-arrow:before {content: \"▾\";}#sk-container-id-4 div.sk-estimator input.sk-toggleable__control:checked~label.sk-toggleable__label {background-color: #d4ebff;}#sk-container-id-4 div.sk-label input.sk-toggleable__control:checked~label.sk-toggleable__label {background-color: #d4ebff;}#sk-container-id-4 input.sk-hidden--visually {border: 0;clip: rect(1px 1px 1px 1px);clip: rect(1px, 1px, 1px, 1px);height: 1px;margin: -1px;overflow: hidden;padding: 0;position: absolute;width: 1px;}#sk-container-id-4 div.sk-estimator {font-family: monospace;background-color: #f0f8ff;border: 1px dotted black;border-radius: 0.25em;box-sizing: border-box;margin-bottom: 0.5em;}#sk-container-id-4 div.sk-estimator:hover {background-color: #d4ebff;}#sk-container-id-4 div.sk-parallel-item::after {content: \"\";width: 100%;border-bottom: 1px solid gray;flex-grow: 1;}#sk-container-id-4 div.sk-label:hover label.sk-toggleable__label {background-color: #d4ebff;}#sk-container-id-4 div.sk-serial::before {content: \"\";position: absolute;border-left: 1px solid gray;box-sizing: border-box;top: 0;bottom: 0;left: 50%;z-index: 0;}#sk-container-id-4 div.sk-serial {display: flex;flex-direction: column;align-items: center;background-color: white;padding-right: 0.2em;padding-left: 0.2em;position: relative;}#sk-container-id-4 div.sk-item {position: relative;z-index: 1;}#sk-container-id-4 div.sk-parallel {display: flex;align-items: stretch;justify-content: center;background-color: white;position: relative;}#sk-container-id-4 div.sk-item::before, #sk-container-id-4 div.sk-parallel-item::before {content: \"\";position: absolute;border-left: 1px solid gray;box-sizing: border-box;top: 0;bottom: 0;left: 50%;z-index: -1;}#sk-container-id-4 div.sk-parallel-item {display: flex;flex-direction: column;z-index: 1;position: relative;background-color: white;}#sk-container-id-4 div.sk-parallel-item:first-child::after {align-self: flex-end;width: 50%;}#sk-container-id-4 div.sk-parallel-item:last-child::after {align-self: flex-start;width: 50%;}#sk-container-id-4 div.sk-parallel-item:only-child::after {width: 0;}#sk-container-id-4 div.sk-dashed-wrapped {border: 1px dashed gray;margin: 0 0.4em 0.5em 0.4em;box-sizing: border-box;padding-bottom: 0.4em;background-color: white;}#sk-container-id-4 div.sk-label label {font-family: monospace;font-weight: bold;display: inline-block;line-height: 1.2em;}#sk-container-id-4 div.sk-label-container {text-align: center;}#sk-container-id-4 div.sk-container {/* jupyter's `normalize.less` sets `[hidden] { display: none; }` but bootstrap.min.css set `[hidden] { display: none !important; }` so we also need the `!important` here to be able to override the default hidden behavior on the sphinx rendered scikit-learn.org. See: https://github.com/scikit-learn/scikit-learn/issues/21755 */display: inline-block !important;position: relative;}#sk-container-id-4 div.sk-text-repr-fallback {display: none;}</style><div id=\"sk-container-id-4\" class=\"sk-top-container\"><div class=\"sk-text-repr-fallback\"><pre>GaussianNB()</pre><b>In a Jupyter environment, please rerun this cell to show the HTML representation or trust the notebook. <br />On GitHub, the HTML representation is unable to render, please try loading this page with nbviewer.org.</b></div><div class=\"sk-container\" hidden><div class=\"sk-item\"><div class=\"sk-estimator sk-toggleable\"><input class=\"sk-toggleable__control sk-hidden--visually\" id=\"sk-estimator-id-4\" type=\"checkbox\" checked><label for=\"sk-estimator-id-4\" class=\"sk-toggleable__label sk-toggleable__label-arrow\">GaussianNB</label><div class=\"sk-toggleable__content\"><pre>GaussianNB()</pre></div></div></div></div></div>"
      ],
      "text/plain": [
       "GaussianNB()"
      ]
     },
     "execution_count": 127,
     "metadata": {},
     "output_type": "execute_result"
    }
   ],
   "source": [
    "from sklearn.naive_bayes import GaussianNB\n",
    "objclassifierGNB=GaussianNB()\n",
    "objclassifierGNB.fit(X_train_sc,y_train)"
   ]
  },
  {
   "cell_type": "code",
   "execution_count": 128,
   "metadata": {
    "colab": {},
    "colab_type": "code",
    "id": "U5x6jRLlaCb7"
   },
   "outputs": [
    {
     "name": "stderr",
     "output_type": "stream",
     "text": [
      "C:\\Users\\sasha\\anaconda3\\lib\\site-packages\\sklearn\\base.py:443: UserWarning: X has feature names, but GaussianNB was fitted without feature names\n",
      "  warnings.warn(\n"
     ]
    }
   ],
   "source": [
    "# Predicting the Test set results\n",
    "y_pred = objclassifierGNB.predict(X_test)\n",
    "\n",
    "# Making the Confusion Matrix\n",
    "from sklearn.metrics import confusion_matrix\n",
    "cm = confusion_matrix(y_test, y_pred)\n",
    "score = objclassifierGNB.score(X_test_sc,y_test)"
   ]
  },
  {
   "cell_type": "code",
   "execution_count": 129,
   "metadata": {
    "colab": {
     "base_uri": "https://localhost:8080/"
    },
    "colab_type": "code",
    "id": "JAtyeR8waG-b",
    "outputId": "fbdd6f34-9d15-4dc2-d680-0a70458b4024"
   },
   "outputs": [
    {
     "data": {
      "text/plain": [
       "array([[505606, 477920],\n",
       "       [120485, 461763]], dtype=int64)"
      ]
     },
     "execution_count": 129,
     "metadata": {},
     "output_type": "execute_result"
    }
   ],
   "source": [
    "cm"
   ]
  },
  {
   "cell_type": "code",
   "execution_count": 130,
   "metadata": {
    "colab": {
     "base_uri": "https://localhost:8080/"
    },
    "colab_type": "code",
    "id": "ryi_YLjraI1W",
    "outputId": "96a81858-ed2a-432a-a8f7-a9714cec648d"
   },
   "outputs": [
    {
     "data": {
      "text/plain": [
       "0.839889409327272"
      ]
     },
     "execution_count": 130,
     "metadata": {},
     "output_type": "execute_result"
    }
   ],
   "source": [
    "score"
   ]
  },
  {
   "cell_type": "code",
   "execution_count": 131,
   "metadata": {
    "colab": {
     "base_uri": "https://localhost:8080/",
     "height": 68
    },
    "colab_type": "code",
    "id": "3TYqxApsaCUw",
    "outputId": "9c50233c-24c0-44af-b0b7-0c0e5e96c87e"
   },
   "outputs": [
    {
     "name": "stdout",
     "output_type": "stream",
     "text": [
      "F1 score : 0.6175217201916054\n",
      "Precision Score : 0.649481437622122\n",
      "Recall Score : 0.6535720728602936\n"
     ]
    }
   ],
   "source": [
    "print(\"F1 score :\",f1_score(y_test, y_pred, average=\"macro\"))\n",
    "print(\"Precision Score :\" , precision_score(y_test, y_pred, average=\"macro\"))\n",
    "print(\"Recall Score :\" , recall_score(y_test, y_pred, average=\"macro\"))   "
   ]
  },
  {
   "cell_type": "code",
   "execution_count": 132,
   "metadata": {
    "colab": {
     "base_uri": "https://localhost:8080/"
    },
    "colab_type": "code",
    "id": "3U9APplbBgqV",
    "outputId": "456c3c8e-bc29-47a5-9df6-63fca2c87fd4"
   },
   "outputs": [
    {
     "data": {
      "image/png": "[encoded data removed]",
      "text/plain": [
       "<Figure size 432x288 with 2 Axes>"
      ]
     },
     "metadata": {
      "needs_background": "light"
     },
     "output_type": "display_data"
    }
   ],
   "source": [
    "fig = plt.figure()\n",
    "ax = fig.add_subplot(111)\n",
    "cax = ax.matshow(cm)\n",
    "plt.title('Confusion matrix of the naive bayes classifier')\n",
    "fig.colorbar(cax)\n",
    "plt.xlabel('Predicted')\n",
    "plt.ylabel('True')\n",
    "plt.show()"
   ]
  },
  {
   "cell_type": "code",
   "execution_count": null,
   "metadata": {},
   "outputs": [],
   "source": []
  },
  {
   "cell_type": "code",
   "execution_count": null,
   "metadata": {},
   "outputs": [],
   "source": []
  }
 ],
 "metadata": {
  "accelerator": "GPU",
  "colab": {
   "collapsed_sections": [],
   "machine_shape": "hm",
   "name": "Flight_Delay_Prediction_Final.ipynb",
   "provenance": []
  },
  "kernelspec": {
   "display_name": "Python 3 (ipykernel)",
   "language": "python",
   "name": "python3"
  },
  "language_info": {
   "codemirror_mode": {
    "name": "ipython",
    "version": 3
   },
   "file_extension": ".py",
   "mimetype": "text/x-python",
   "name": "python",
   "nbconvert_exporter": "python",
   "pygments_lexer": "ipython3",
   "version": "3.9.12"
  }
 },
 "nbformat": 4,
 "nbformat_minor": 1
}
